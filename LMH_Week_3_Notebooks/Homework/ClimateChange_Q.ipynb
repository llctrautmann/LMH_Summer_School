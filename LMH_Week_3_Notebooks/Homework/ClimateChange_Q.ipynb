{
 "cells": [
  {
   "cell_type": "markdown",
   "metadata": {
    "id": "zyhxoD34plpu"
   },
   "source": [
    "This example is motivated from an example where a carefully chose snapshot of data was used to prove that global temperatures are not increasing with time. \n",
    "\n",
    "You will solve linear regression (ax+b) for two snapshots of data to see if there is an average increase of tempearture with time or not."
   ]
  },
  {
   "cell_type": "code",
   "execution_count": 1,
   "metadata": {
    "executionInfo": {
     "elapsed": 737,
     "status": "ok",
     "timestamp": 1660127132883,
     "user": {
      "displayName": "Naeemullah Khan",
      "userId": "18307185785900481812"
     },
     "user_tz": -60
    },
    "id": "Dtn5afpwICOM"
   },
   "outputs": [],
   "source": [
    "import pandas as pd\n",
    "import numpy as np\n",
    "import matplotlib.pyplot as plt"
   ]
  },
  {
   "cell_type": "code",
   "execution_count": 2,
   "metadata": {
    "colab": {
     "base_uri": "https://localhost:8080/"
    },
    "executionInfo": {
     "elapsed": 1632,
     "status": "ok",
     "timestamp": 1660127134512,
     "user": {
      "displayName": "Naeemullah Khan",
      "userId": "18307185785900481812"
     },
     "user_tz": -60
    },
    "id": "ffjTwZt8INlB",
    "outputId": "8d40f45a-6c68-43af-9d14-8246e9217039"
   },
   "outputs": [
    {
     "name": "stdout",
     "output_type": "stream",
     "text": [
      "--2022-08-10 10:25:32--  https://www.dropbox.com/s/w5n763mnroln66v/globalTemp.csv?dl=0\n",
      "Resolving www.dropbox.com (www.dropbox.com)... 162.125.1.18, 2620:100:6016:18::a27d:112\n",
      "Connecting to www.dropbox.com (www.dropbox.com)|162.125.1.18|:443... connected.\n",
      "HTTP request sent, awaiting response... 301 Moved Permanently\n",
      "Location: /s/raw/w5n763mnroln66v/globalTemp.csv [following]\n",
      "--2022-08-10 10:25:32--  https://www.dropbox.com/s/raw/w5n763mnroln66v/globalTemp.csv\n",
      "Reusing existing connection to www.dropbox.com:443.\n",
      "HTTP request sent, awaiting response... 302 Found\n",
      "Location: https://uc04bb24c1599bc9c6ce5cd8777a.dl-eu.dropboxusercontent.com/cd/0/inline/BquDODqYdpBJmHnq-BBUU7zXq-QJoC96uXkeDC9xUocoX1G3oRy-zlCfTKdRQgFI1DyDA1QuEBXJy9rpRzCbGDqHbaiFDDxZl6iZgjc_hH25Da4SHbUd-2DOmPavKFQFzOneNNfbQqwYQCw7e2YUg-Zxd02MA52_M34nWwux1N9jJg/file# [following]\n",
      "--2022-08-10 10:25:33--  https://uc04bb24c1599bc9c6ce5cd8777a.dl-eu.dropboxusercontent.com/cd/0/inline/BquDODqYdpBJmHnq-BBUU7zXq-QJoC96uXkeDC9xUocoX1G3oRy-zlCfTKdRQgFI1DyDA1QuEBXJy9rpRzCbGDqHbaiFDDxZl6iZgjc_hH25Da4SHbUd-2DOmPavKFQFzOneNNfbQqwYQCw7e2YUg-Zxd02MA52_M34nWwux1N9jJg/file\n",
      "Resolving uc04bb24c1599bc9c6ce5cd8777a.dl-eu.dropboxusercontent.com (uc04bb24c1599bc9c6ce5cd8777a.dl-eu.dropboxusercontent.com)... 162.125.1.15, 2620:100:6016:15::a27d:10f\n",
      "Connecting to uc04bb24c1599bc9c6ce5cd8777a.dl-eu.dropboxusercontent.com (uc04bb24c1599bc9c6ce5cd8777a.dl-eu.dropboxusercontent.com)|162.125.1.15|:443... connected.\n",
      "HTTP request sent, awaiting response... 200 OK\n",
      "Length: 2950 (2.9K) [text/plain]\n",
      "Saving to: ‘globalTemp.csv’\n",
      "\n",
      "globalTemp.csv      100%[===================>]   2.88K  --.-KB/s    in 0s      \n",
      "\n",
      "2022-08-10 10:25:34 (317 MB/s) - ‘globalTemp.csv’ saved [2950/2950]\n",
      "\n"
     ]
    }
   ],
   "source": [
    "#data from: https://www.jpl.nasa.gov/edu/teach/activity/graphing-global-temperature-trends/\n",
    "!wget -O globalTemp.csv https://www.dropbox.com/s/w5n763mnroln66v/globalTemp.csv?dl=0"
   ]
  },
  {
   "cell_type": "code",
   "execution_count": 3,
   "metadata": {
    "executionInfo": {
     "elapsed": 6,
     "status": "ok",
     "timestamp": 1660127134513,
     "user": {
      "displayName": "Naeemullah Khan",
      "userId": "18307185785900481812"
     },
     "user_tz": -60
    },
    "id": "jv1hb3IWIdUm"
   },
   "outputs": [],
   "source": [
    "df=pd.read_csv('globalTemp.csv')"
   ]
  },
  {
   "cell_type": "code",
   "execution_count": 5,
   "metadata": {
    "colab": {
     "base_uri": "https://localhost:8080/",
     "height": 283
    },
    "executionInfo": {
     "elapsed": 295,
     "status": "ok",
     "timestamp": 1660127141987,
     "user": {
      "displayName": "Naeemullah Khan",
      "userId": "18307185785900481812"
     },
     "user_tz": -60
    },
    "id": "wjtbGAitIncx",
    "outputId": "ec7c5867-beeb-4337-bf64-defcf05e94c7"
   },
   "outputs": [
    {
     "data": {
      "text/plain": [
       "[<matplotlib.lines.Line2D at 0x7f0c763ce490>]"
      ]
     },
     "execution_count": 5,
     "metadata": {},
     "output_type": "execute_result"
    },
    {
     "data": {
      "image/png": "[encoded data removed]",
      "text/plain": [
       "<Figure size 432x288 with 1 Axes>"
      ]
     },
     "metadata": {
      "needs_background": "light"
     },
     "output_type": "display_data"
    }
   ],
   "source": [
    "x = df['Year'].to_numpy()\n",
    "y = df['Actual Temp'].to_numpy()\n",
    "plt.plot(x,y)"
   ]
  },
  {
   "cell_type": "code",
   "execution_count": null,
   "metadata": {
    "id": "-j6VCeWNmIjL"
   },
   "outputs": [],
   "source": [
    "#linear Regression here"
   ]
  },
  {
   "cell_type": "code",
   "execution_count": 2,
   "metadata": {
    "id": "T2mwBDMeIfBX"
   },
   "outputs": [
    {
     "ename": "NameError",
     "evalue": "name 'df' is not defined",
     "output_type": "error",
     "traceback": [
      "\u001b[0;31m---------------------------------------------------------------------------\u001b[0m",
      "\u001b[0;31mNameError\u001b[0m                                 Traceback (most recent call last)",
      "Input \u001b[0;32mIn [2]\u001b[0m, in \u001b[0;36m<cell line: 1>\u001b[0;34m()\u001b[0m\n\u001b[0;32m----> 1\u001b[0m df\u001b[38;5;241m=\u001b[39m\u001b[43mdf\u001b[49m[(df[\u001b[38;5;124m'\u001b[39m\u001b[38;5;124mYear\u001b[39m\u001b[38;5;124m'\u001b[39m]\u001b[38;5;241m>\u001b[39m\u001b[38;5;241m1943\u001b[39m) \u001b[38;5;241m&\u001b[39m (df[\u001b[38;5;124m'\u001b[39m\u001b[38;5;124mYear\u001b[39m\u001b[38;5;124m'\u001b[39m]\u001b[38;5;241m<\u001b[39m\u001b[38;5;241m1975\u001b[39m)]\n\u001b[1;32m      2\u001b[0m x \u001b[38;5;241m=\u001b[39m df[\u001b[38;5;124m'\u001b[39m\u001b[38;5;124mYear\u001b[39m\u001b[38;5;124m'\u001b[39m]\u001b[38;5;241m.\u001b[39mto_numpy()\n\u001b[1;32m      3\u001b[0m y \u001b[38;5;241m=\u001b[39m df[\u001b[38;5;124m'\u001b[39m\u001b[38;5;124mActual Temp\u001b[39m\u001b[38;5;124m'\u001b[39m]\u001b[38;5;241m.\u001b[39mto_numpy()\n",
      "\u001b[0;31mNameError\u001b[0m: name 'df' is not defined"
     ]
    }
   ],
   "source": [
    "df=df[(df['Year']>1943) & (df['Year']<1975)]\n",
    "x = df['Year'].to_numpy()\n",
    "y = df['Actual Temp'].to_numpy()"
   ]
  },
  {
   "cell_type": "code",
   "execution_count": null,
   "metadata": {
    "id": "7uBvmzeslxaN"
   },
   "outputs": [],
   "source": [
    "#linear Regression here"
   ]
  }
 ],
 "metadata": {
  "colab": {
   "collapsed_sections": [],
   "name": "ClimateChange.ipynb",
   "provenance": []
  },
  "kernelspec": {
   "display_name": "Python 3 (ipykernel)",
   "language": "python",
   "name": "python3"
  },
  "language_info": {
   "codemirror_mode": {
    "name": "ipython",
    "version": 3
   },
   "file_extension": ".py",
   "mimetype": "text/x-python",
   "name": "python",
   "nbconvert_exporter": "python",
   "pygments_lexer": "ipython3",
   "version": "3.9.12"
  }
 },
 "nbformat": 4,
 "nbformat_minor": 1
}
