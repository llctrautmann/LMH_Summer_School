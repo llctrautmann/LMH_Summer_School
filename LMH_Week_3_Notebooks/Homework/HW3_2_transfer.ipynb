{
  "cells": [
    {
      "cell_type": "markdown",
      "metadata": {
        "id": "e_mMw1jKdhNI"
      },
      "source": [
        "!pip install torchmetricsPerform CIFAR10 classification using Neural Netwroks and Convolutional Neural Networks.\n",
        "\n",
        "1) Use 10 iterations for training\n",
        "\n",
        "\n",
        "2) Show the training loss for both networks on the same plot\n",
        "\n",
        "\n",
        "3) Compare the test loss and accuracy."
      ]
    },
    {
      "cell_type": "code",
      "execution_count": 2,
      "metadata": {
        "colab": {
          "base_uri": "https://localhost:8080/"
        },
        "id": "FD6fwO1ddbEU",
        "outputId": "80c9d40c-5d24-4d76-b2b1-a1e2d6f4b654"
      },
      "outputs": [
        {
          "name": "stdout",
          "output_type": "stream",
          "text": [
            "Looking in indexes: https://pypi.org/simple, https://us-python.pkg.dev/colab-wheels/public/simple/\n",
            "Collecting torchmetrics\n",
            "  Downloading torchmetrics-0.9.3-py3-none-any.whl (419 kB)\n",
            "\u001b[K     |████████████████████████████████| 419 kB 6.7 MB/s \n",
            "\u001b[?25hRequirement already satisfied: torch>=1.3.1 in /usr/local/lib/python3.7/dist-packages (from torchmetrics) (1.12.1+cu113)\n",
            "Requirement already satisfied: typing-extensions in /usr/local/lib/python3.7/dist-packages (from torchmetrics) (4.1.1)\n",
            "Requirement already satisfied: packaging in /usr/local/lib/python3.7/dist-packages (from torchmetrics) (21.3)\n",
            "Requirement already satisfied: numpy>=1.17.2 in /usr/local/lib/python3.7/dist-packages (from torchmetrics) (1.21.6)\n",
            "Requirement already satisfied: pyparsing!=3.0.5,>=2.0.2 in /usr/local/lib/python3.7/dist-packages (from packaging->torchmetrics) (3.0.9)\n",
            "Installing collected packages: torchmetrics\n",
            "Successfully installed torchmetrics-0.9.3\n"
          ]
        }
      ],
      "source": [
        "!pip install torchmetrics\n",
        "\n",
        "import torch\n",
        "import torch.nn as nn\n",
        "import torch.nn.functional as F\n",
        "import torch.optim as optim\n",
        "import numpy as np\n",
        "import matplotlib.pyplot as plt\n",
        "from torchvision import models,transforms\n",
        "from torchvision.utils import make_grid\n",
        "from torchvision.datasets import CIFAR10\n",
        "from torch.utils.data.sampler import SubsetRandomSampler\n",
        "from torch.utils.tensorboard import SummaryWriter\n",
        "from torchsummary import summary\n",
        "from torch.utils.data import Dataset, DataLoader\n",
        "import torchmetrics as tm\n",
        "\n",
        "\n"
      ]
    },
    {
      "cell_type": "code",
      "execution_count": 3,
      "metadata": {
        "id": "6JV772ldauH8"
      },
      "outputs": [],
      "source": [
        "device = torch.device(\"cuda:0\") if torch.cuda.is_available() else torch.device(\"cpu\")"
      ]
    },
    {
      "cell_type": "code",
      "execution_count": 4,
      "metadata": {
        "id": "L6xbtkeiecRm"
      },
      "outputs": [],
      "source": [
        "# CIFAR10\n",
        "def cifar10(batch_sz, path='./datasets'):\n",
        "    num_classes = 10\n",
        "    transform_train = transforms.Compose([\n",
        "                        transforms.RandomCrop(32, padding=4), # Increase the number of samples by moving the images around \n",
        "                        transforms.RandomHorizontalFlip(),\n",
        "                        transforms.ToTensor(),\n",
        "                    ])\n",
        "    transform_test = transforms.Compose([\n",
        "                        transforms.ToTensor(),\n",
        "                    ])\n",
        "\n",
        "    # Training dataset\n",
        "    train_data = CIFAR10(root=path, train=True, download=True, transform=transform_train) # \n",
        "    train_loader = torch.utils.data.DataLoader(train_data, batch_size=batch_sz,\n",
        "                                               shuffle=True, pin_memory=True)\n",
        "\n",
        "    # Test dataset\n",
        "    test_data = CIFAR10(root=path, train=False, download=False, transform=transform_test)\n",
        "    test_loader = torch.utils.data.DataLoader(test_data,\n",
        "                                              batch_size=batch_sz, shuffle=False, pin_memory=True)\n",
        "\n",
        "    return train_loader, test_loader, num_classes\n"
      ]
    },
    {
      "cell_type": "code",
      "execution_count": 5,
      "metadata": {
        "colab": {
          "base_uri": "https://localhost:8080/",
          "height": 85,
          "referenced_widgets": [
            "16abcb6d6dcb427d8ee2b902f65dc356",
            "9bf2bba18e2c467b9e683c302d15df3e",
            "8db4ccffac694a01badc7a5d895b0ce4",
            "37d580d6cb5245be964e5324272aab74",
            "de9f2fa9c86b403780f1042ac28ad0e2",
            "e268cec62fc14dc7b85e5c0a2d19b02b",
            "f28f5d31ad0c4e10b655f71d37a08c76",
            "1a9c7e9f610b4b57ba04009547a0b8a6",
            "90342d3d19464767a08db28fca123214",
            "a6c43ac8f3fc4ce3b132c1bbfb45df15",
            "7803eb1477694ec18a214d2697a14893"
          ]
        },
        "id": "u3fKOo5negms",
        "outputId": "d6549f0f-cd93-4d20-9838-0e5215305477"
      },
      "outputs": [
        {
          "name": "stdout",
          "output_type": "stream",
          "text": [
            "Downloading https://www.cs.toronto.edu/~kriz/cifar-10-python.tar.gz to ./datasets/cifar-10-python.tar.gz\n"
          ]
        },
        {
          "data": {
            "application/vnd.jupyter.widget-view+json": {
              "model_id": "16abcb6d6dcb427d8ee2b902f65dc356",
              "version_major": 2,
              "version_minor": 0
            },
            "text/plain": [
              "  0%|          | 0/170498071 [00:00<?, ?it/s]"
            ]
          },
          "metadata": {},
          "output_type": "display_data"
        },
        {
          "name": "stdout",
          "output_type": "stream",
          "text": [
            "Extracting ./datasets/cifar-10-python.tar.gz to ./datasets\n"
          ]
        }
      ],
      "source": [
        "batch_sz=64 # this is batch size i.e. the number of rows in a batch of data\n",
        "train_loader, test_loader, _=cifar10(batch_sz) \n",
        "\n",
        "tl = iter(train_loader)\n",
        "batch = next(tl)\n",
        "\n"
      ]
    },
    {
      "cell_type": "code",
      "execution_count": 6,
      "metadata": {
        "id": "WWfLfV0FauH-"
      },
      "outputs": [],
      "source": [
        "def show_image(batch,img):\n",
        "    return plt.imshow(np.transpose(batch[0][img,:,:,:],(1,2,0)))"
      ]
    },
    {
      "cell_type": "code",
      "execution_count": 7,
      "metadata": {
        "colab": {
          "base_uri": "https://localhost:8080/",
          "height": 284
        },
        "id": "NdrGpBJrbDLF",
        "outputId": "3485c074-878a-41f3-c8d1-671a7befccb4"
      },
      "outputs": [
        {
          "data": {
            "text/plain": [
              "<matplotlib.image.AxesImage at 0x7f77de0fc490>"
            ]
          },
          "execution_count": 7,
          "metadata": {},
          "output_type": "execute_result"
        },
        {
          "data": {
            "image/png": "[encoded data removed]",
            "text/plain": [
              "<Figure size 432x288 with 1 Axes>"
            ]
          },
          "metadata": {
            "needs_background": "light"
          },
          "output_type": "display_data"
        }
      ],
      "source": [
        "show_image(batch,7)"
      ]
    },
    {
      "cell_type": "code",
      "execution_count": 19,
      "metadata": {
        "id": "ge0i7ODRauH-"
      },
      "outputs": [],
      "source": [
        "# Define the Class \n",
        "# Regular \n",
        "class NNet(nn.Module):\n",
        "    def __init__(self, input_size=3072, output_size=10, no_hidden_layers=5,hidden_layer_size=1024) -> None:\n",
        "        super(NNet,self).__init__()\n",
        "        self.deep_nn = nn.Sequential()\n",
        "        \n",
        "        for i in range(no_hidden_layers):\n",
        "            self.deep_nn.add_module(f'ff{i}', nn.Linear(input_size,hidden_layer_size))\n",
        "            self.deep_nn.add_module(f'activation{i}',nn.ReLU())\n",
        "            input_size = hidden_layer_size\n",
        "\n",
        "        self.deep_nn.add_module(f'classifier',nn.Linear(hidden_layer_size,output_size))\n",
        "\n",
        "    def forward(self, x):\n",
        "        tensor = self.deep_nn(x)\n",
        "        return tensor\n",
        "\n",
        "\n",
        "# CNN\n",
        "\n",
        "class CNN(nn.Module):\n",
        "    def __init__(self, in_channels=3,num_classes=10) -> None:\n",
        "        super(CNN,self).__init__() # In the other tutorial he is using CNN and self within the super(CNN, self) brakets\n",
        "\n",
        "        self.conv1 = nn.Conv2d(in_channels=3, out_channels=32, kernel_size=(3,3),stride=(1,1),padding=(1,1))  #  3 -1 /2 ; 3 being the filter_size, with padding the image size stays the same\n",
        "        self.conv2 = nn.Conv2d(in_channels=32, out_channels=64, kernel_size=(3,3),stride=(1,1),padding=(1,1))\n",
        "        self.conv3 = nn.Conv2d(in_channels=64, out_channels=128, kernel_size=(3,3),stride=(1,1),padding=(1,1))\n",
        "        self.conv4 = nn.Conv2d(in_channels=128, out_channels=128, kernel_size=(3,3),stride=(1,1),padding=(1,1))\n",
        "        self.conv5 = nn.Conv2d(in_channels=128, out_channels=256, kernel_size=(3,3),stride=(1,1),padding=(1,1))\n",
        "        self.conv6 = nn.Conv2d(in_channels=256, out_channels=256, kernel_size=(3,3),stride=(1,1),padding=(1,1))\n",
        "\n",
        "\n",
        "\n",
        "        self.maxpool = nn.MaxPool2d(kernel_size= (2,2), stride= (2,2))\n",
        "\n",
        "        self._in = nn.Linear(256*4*4, 1024)\n",
        "        self.h1 = nn.Linear(1024,512) # remove and adjust dims to recover AC2\n",
        "        self.lin_out = nn.Linear(512,num_classes) \n",
        "\n",
        "    # Forward Pass\n",
        "    \n",
        "    def forward(self, x):\n",
        "\n",
        "        x = torch.relu(self.conv1(x))\n",
        "        x = torch.relu(self.conv2(x))\n",
        "        x = self.maxpool(x)\n",
        "\n",
        "        x = torch.relu(self.conv3(x))\n",
        "        x = torch.relu(self.conv4(x))\n",
        "        x = self.maxpool(x)\n",
        "\n",
        "        x = torch.relu(self.conv5(x))\n",
        "        x = torch.relu(self.conv6(x))\n",
        "        x = self.maxpool(x)\n",
        "\n",
        "        # Linear Model\n",
        "        x = x.reshape(x.shape[0], -1)\n",
        "        x = torch.relu(self._in(x))\n",
        "        x = torch.relu(self.h1(x))\n",
        "        x = self.lin_out(x)\n",
        "            \n",
        "        return x\n"
      ]
    },
    {
      "cell_type": "code",
      "execution_count": 9,
      "metadata": {
        "id": "X42X4R4EauH_"
      },
      "outputs": [],
      "source": [
        "# Dim test\n",
        "\n",
        "def dim_test(model,dim,channel,x1,x2):\n",
        "    model = model.to(device=device)\n",
        "    x = torch.randn(dim,channel,x1,x2)\n",
        "    return model(x).shape"
      ]
    },
    {
      "cell_type": "code",
      "execution_count": 10,
      "metadata": {
        "id": "6PCnCdadauH_"
      },
      "outputs": [],
      "source": [
        "model = CNN().to(device)\n",
        "\n"
      ]
    },
    {
      "cell_type": "code",
      "execution_count": 33,
      "metadata": {
        "id": "s177EDv7auIA"
      },
      "outputs": [],
      "source": [
        "# Hyperparameter\n",
        "\n",
        "inputs = 3*32*32\n",
        "mm = 0\n",
        "batch_sz=64\n",
        "epoch_no = 10\n",
        "mini_batches = [64]\n",
        "learning_rates = [0.05]\n"
      ]
    },
    {
      "cell_type": "code",
      "execution_count": 30,
      "metadata": {
        "id": "QaqbJOyoauIA"
      },
      "outputs": [],
      "source": [
        "def var_training(model=CNN(),type_CNN = True):\n",
        "    for mini_batch in mini_batches:\n",
        "        for learning_rate in learning_rates:\n",
        "            print(f'the learning rate is the {learning_rate}.')\n",
        "            model_2 = model.to(device=device)\n",
        "        \n",
        "            # write to tensorboard\n",
        "            step = 0\n",
        "\n",
        "            if type_CNN == True:\n",
        "                writer = SummaryWriter(f'./runs/CIFAR10/CNN_bs={mini_batch}_lr={learning_rate}')\n",
        "            else:\n",
        "                writer = SummaryWriter(f'./runs/CIFAR10/NN_bs={mini_batch}_lr={learning_rate}')\n",
        "\n",
        "\n",
        "            # Loss and optimizer\n",
        "            criterion = nn.CrossEntropyLoss()\n",
        "            optimizer = optim.SGD(model_2.parameters(), lr=learning_rate, momentum= mm)\n",
        "            scheduler = None\n",
        "\n",
        "            # generate new data\n",
        "            train_loader, test_loader, _=cifar10(mini_batch) \n",
        "\n",
        "            \n",
        "            for epoch in range(epoch_no):\n",
        "                train_loss = 0\n",
        "                for batch_idx, (data, targets) in enumerate(train_loader):\n",
        "                    data = data.to(device=device)\n",
        "                    targets = targets.to(device=device)\n",
        "\n",
        "                    if type_CNN == False:\n",
        "                        data = data.reshape(data.shape[0], -1)\n",
        "                    else:\n",
        "                        pass\n",
        "\n",
        "                    # forwards\n",
        "                    logits = model_2(data)\n",
        "                    loss = criterion(logits, targets)\n",
        "                    train_loss += loss.item()\n",
        "\n",
        "\n",
        "                    # backward \n",
        "                    optimizer.zero_grad()\n",
        "                    loss.backward()\n",
        "                    optimizer.step()\n",
        "                    # scbeduler.step()\n",
        "\n",
        "                    # Running Accuracy\n",
        "                    _, predictions = logits.max(1)\n",
        "                    num_corr = (predictions == targets).sum()\n",
        "                    running_acc = float(num_corr)/float(data.shape[0])\n",
        "                    \n",
        "                    writer.add_scalar(\"Training Loss\", loss, global_step = step) \n",
        "                    writer.add_scalar(\"Training Accuracy\", running_acc, global_step=step)\n",
        "                    step += 1  \n",
        "\n",
        "\n",
        "            acc_l = []\n",
        "\n",
        "            accuracy = tm.Accuracy()\n",
        "\n",
        "            with torch.no_grad():\n",
        "                step_2 = 0\n",
        "                for batch_idx, (data, targets) in enumerate(test_loader):\n",
        "                    data = data.to(device=device)\n",
        "                    targets = targets.to(device=device)\n",
        "\n",
        "                    if type_CNN == False:\n",
        "                        data = data.reshape(data.shape[0], -1)\n",
        "                    else:\n",
        "                        pass\n",
        "\n",
        "                    logits = model_2(data)\n",
        "                    t_loss = criterion(logits, targets)\n",
        "                    train_loss += loss.item()\n",
        "\n",
        "                    yhat = torch.argmax(logits, axis =1)\n",
        "\n",
        "                    acc = accuracy(yhat.to(\"cpu\"),targets.to(\"cpu\"))\n",
        "\n",
        "                    acc_l.append(acc)\n",
        "\n",
        "                    writer.add_scalar(\"Testing Loss\", t_loss, global_step = step_2) \n",
        "                    writer.add_scalar(\"Testing Accuracy\", acc, global_step=step_2)\n",
        "                    step_2 += 1\n",
        "\n",
        "            print(f'the accuracy on the test set for the batch size {mini_batch} and {learning_rate} is {np.mean(acc_l)}')"
      ]
    },
    {
      "cell_type": "code",
      "execution_count": null,
      "metadata": {
        "colab": {
          "base_uri": "https://localhost:8080/"
        },
        "id": "osHTEy3mauIB",
        "outputId": "79a9e4d9-7066-4755-a679-a9c6eac97dee"
      },
      "outputs": [
        {
          "name": "stdout",
          "output_type": "stream",
          "text": [
            "the learning rate is the 0.05.\n",
            "Files already downloaded and verified\n"
          ]
        }
      ],
      "source": [
        "var_training(model=CNN(),type_CNN=True)"
      ]
    },
    {
      "cell_type": "code",
      "execution_count": null,
      "metadata": {},
      "outputs": [],
      "source": []
    },
    {
      "cell_type": "markdown",
      "metadata": {},
      "source": [
        "# Results"
      ]
    },
    {
      "cell_type": "markdown",
      "metadata": {},
      "source": [
        "In this homework different learning rates were analysed and evaluated. Specifically, the learning rates 0.001, 0.05, 0.1, 0.15 have been used for training and testing. "
      ]
    },
    {
      "cell_type": "markdown",
      "metadata": {},
      "source": [
        "![Training Accuracy](/Training_Accuracy_HW2.png)"
      ]
    },
    {
      "cell_type": "markdown",
      "metadata": {},
      "source": []
    }
  ],
  "metadata": {
    "accelerator": "GPU",
    "colab": {
      "collapsed_sections": [],
      "name": "HW3_2.ipynb",
      "provenance": []
    },
    "gpuClass": "standard",
    "kernelspec": {
      "display_name": "Python 3.10.3 64-bit ('3.10.3')",
      "language": "python",
      "name": "python3"
    },
    "language_info": {
      "codemirror_mode": {
        "name": "ipython",
        "version": 3
      },
      "file_extension": ".py",
      "mimetype": "text/x-python",
      "name": "python",
      "nbconvert_exporter": "python",
      "pygments_lexer": "ipython3",
      "version": "3.10.3"
    },
    "vscode": {
      "interpreter": {
        "hash": "d410fd81c9a0b51d0e53167c40a880776428168a003798fed6e3e9082ee009aa"
      }
    },
    "widgets": {
      "application/vnd.jupyter.widget-state+json": {
        "16abcb6d6dcb427d8ee2b902f65dc356": {
          "model_module": "@jupyter-widgets/controls",
          "model_module_version": "1.5.0",
          "model_name": "HBoxModel",
          "state": {
            "_dom_classes": [],
            "_model_module": "@jupyter-widgets/controls",
            "_model_module_version": "1.5.0",
            "_model_name": "HBoxModel",
            "_view_count": null,
            "_view_module": "@jupyter-widgets/controls",
            "_view_module_version": "1.5.0",
            "_view_name": "HBoxView",
            "box_style": "",
            "children": [
              "IPY_MODEL_9bf2bba18e2c467b9e683c302d15df3e",
              "IPY_MODEL_8db4ccffac694a01badc7a5d895b0ce4",
              "IPY_MODEL_37d580d6cb5245be964e5324272aab74"
            ],
            "layout": "IPY_MODEL_de9f2fa9c86b403780f1042ac28ad0e2"
          }
        },
        "1a9c7e9f610b4b57ba04009547a0b8a6": {
          "model_module": "@jupyter-widgets/base",
          "model_module_version": "1.2.0",
          "model_name": "LayoutModel",
          "state": {
            "_model_module": "@jupyter-widgets/base",
            "_model_module_version": "1.2.0",
            "_model_name": "LayoutModel",
            "_view_count": null,
            "_view_module": "@jupyter-widgets/base",
            "_view_module_version": "1.2.0",
            "_view_name": "LayoutView",
            "align_content": null,
            "align_items": null,
            "align_self": null,
            "border": null,
            "bottom": null,
            "display": null,
            "flex": null,
            "flex_flow": null,
            "grid_area": null,
            "grid_auto_columns": null,
            "grid_auto_flow": null,
            "grid_auto_rows": null,
            "grid_column": null,
            "grid_gap": null,
            "grid_row": null,
            "grid_template_areas": null,
            "grid_template_columns": null,
            "grid_template_rows": null,
            "height": null,
            "justify_content": null,
            "justify_items": null,
            "left": null,
            "margin": null,
            "max_height": null,
            "max_width": null,
            "min_height": null,
            "min_width": null,
            "object_fit": null,
            "object_position": null,
            "order": null,
            "overflow": null,
            "overflow_x": null,
            "overflow_y": null,
            "padding": null,
            "right": null,
            "top": null,
            "visibility": null,
            "width": null
          }
        },
        "37d580d6cb5245be964e5324272aab74": {
          "model_module": "@jupyter-widgets/controls",
          "model_module_version": "1.5.0",
          "model_name": "HTMLModel",
          "state": {
            "_dom_classes": [],
            "_model_module": "@jupyter-widgets/controls",
            "_model_module_version": "1.5.0",
            "_model_name": "HTMLModel",
            "_view_count": null,
            "_view_module": "@jupyter-widgets/controls",
            "_view_module_version": "1.5.0",
            "_view_name": "HTMLView",
            "description": "",
            "description_tooltip": null,
            "layout": "IPY_MODEL_a6c43ac8f3fc4ce3b132c1bbfb45df15",
            "placeholder": "​",
            "style": "IPY_MODEL_7803eb1477694ec18a214d2697a14893",
            "value": " 170498071/170498071 [00:03&lt;00:00, 51063347.96it/s]"
          }
        },
        "7803eb1477694ec18a214d2697a14893": {
          "model_module": "@jupyter-widgets/controls",
          "model_module_version": "1.5.0",
          "model_name": "DescriptionStyleModel",
          "state": {
            "_model_module": "@jupyter-widgets/controls",
            "_model_module_version": "1.5.0",
            "_model_name": "DescriptionStyleModel",
            "_view_count": null,
            "_view_module": "@jupyter-widgets/base",
            "_view_module_version": "1.2.0",
            "_view_name": "StyleView",
            "description_width": ""
          }
        },
        "8db4ccffac694a01badc7a5d895b0ce4": {
          "model_module": "@jupyter-widgets/controls",
          "model_module_version": "1.5.0",
          "model_name": "FloatProgressModel",
          "state": {
            "_dom_classes": [],
            "_model_module": "@jupyter-widgets/controls",
            "_model_module_version": "1.5.0",
            "_model_name": "FloatProgressModel",
            "_view_count": null,
            "_view_module": "@jupyter-widgets/controls",
            "_view_module_version": "1.5.0",
            "_view_name": "ProgressView",
            "bar_style": "success",
            "description": "",
            "description_tooltip": null,
            "layout": "IPY_MODEL_1a9c7e9f610b4b57ba04009547a0b8a6",
            "max": 170498071,
            "min": 0,
            "orientation": "horizontal",
            "style": "IPY_MODEL_90342d3d19464767a08db28fca123214",
            "value": 170498071
          }
        },
        "90342d3d19464767a08db28fca123214": {
          "model_module": "@jupyter-widgets/controls",
          "model_module_version": "1.5.0",
          "model_name": "ProgressStyleModel",
          "state": {
            "_model_module": "@jupyter-widgets/controls",
            "_model_module_version": "1.5.0",
            "_model_name": "ProgressStyleModel",
            "_view_count": null,
            "_view_module": "@jupyter-widgets/base",
            "_view_module_version": "1.2.0",
            "_view_name": "StyleView",
            "bar_color": null,
            "description_width": ""
          }
        },
        "9bf2bba18e2c467b9e683c302d15df3e": {
          "model_module": "@jupyter-widgets/controls",
          "model_module_version": "1.5.0",
          "model_name": "HTMLModel",
          "state": {
            "_dom_classes": [],
            "_model_module": "@jupyter-widgets/controls",
            "_model_module_version": "1.5.0",
            "_model_name": "HTMLModel",
            "_view_count": null,
            "_view_module": "@jupyter-widgets/controls",
            "_view_module_version": "1.5.0",
            "_view_name": "HTMLView",
            "description": "",
            "description_tooltip": null,
            "layout": "IPY_MODEL_e268cec62fc14dc7b85e5c0a2d19b02b",
            "placeholder": "​",
            "style": "IPY_MODEL_f28f5d31ad0c4e10b655f71d37a08c76",
            "value": "100%"
          }
        },
        "a6c43ac8f3fc4ce3b132c1bbfb45df15": {
          "model_module": "@jupyter-widgets/base",
          "model_module_version": "1.2.0",
          "model_name": "LayoutModel",
          "state": {
            "_model_module": "@jupyter-widgets/base",
            "_model_module_version": "1.2.0",
            "_model_name": "LayoutModel",
            "_view_count": null,
            "_view_module": "@jupyter-widgets/base",
            "_view_module_version": "1.2.0",
            "_view_name": "LayoutView",
            "align_content": null,
            "align_items": null,
            "align_self": null,
            "border": null,
            "bottom": null,
            "display": null,
            "flex": null,
            "flex_flow": null,
            "grid_area": null,
            "grid_auto_columns": null,
            "grid_auto_flow": null,
            "grid_auto_rows": null,
            "grid_column": null,
            "grid_gap": null,
            "grid_row": null,
            "grid_template_areas": null,
            "grid_template_columns": null,
            "grid_template_rows": null,
            "height": null,
            "justify_content": null,
            "justify_items": null,
            "left": null,
            "margin": null,
            "max_height": null,
            "max_width": null,
            "min_height": null,
            "min_width": null,
            "object_fit": null,
            "object_position": null,
            "order": null,
            "overflow": null,
            "overflow_x": null,
            "overflow_y": null,
            "padding": null,
            "right": null,
            "top": null,
            "visibility": null,
            "width": null
          }
        },
        "de9f2fa9c86b403780f1042ac28ad0e2": {
          "model_module": "@jupyter-widgets/base",
          "model_module_version": "1.2.0",
          "model_name": "LayoutModel",
          "state": {
            "_model_module": "@jupyter-widgets/base",
            "_model_module_version": "1.2.0",
            "_model_name": "LayoutModel",
            "_view_count": null,
            "_view_module": "@jupyter-widgets/base",
            "_view_module_version": "1.2.0",
            "_view_name": "LayoutView",
            "align_content": null,
            "align_items": null,
            "align_self": null,
            "border": null,
            "bottom": null,
            "display": null,
            "flex": null,
            "flex_flow": null,
            "grid_area": null,
            "grid_auto_columns": null,
            "grid_auto_flow": null,
            "grid_auto_rows": null,
            "grid_column": null,
            "grid_gap": null,
            "grid_row": null,
            "grid_template_areas": null,
            "grid_template_columns": null,
            "grid_template_rows": null,
            "height": null,
            "justify_content": null,
            "justify_items": null,
            "left": null,
            "margin": null,
            "max_height": null,
            "max_width": null,
            "min_height": null,
            "min_width": null,
            "object_fit": null,
            "object_position": null,
            "order": null,
            "overflow": null,
            "overflow_x": null,
            "overflow_y": null,
            "padding": null,
            "right": null,
            "top": null,
            "visibility": null,
            "width": null
          }
        },
        "e268cec62fc14dc7b85e5c0a2d19b02b": {
          "model_module": "@jupyter-widgets/base",
          "model_module_version": "1.2.0",
          "model_name": "LayoutModel",
          "state": {
            "_model_module": "@jupyter-widgets/base",
            "_model_module_version": "1.2.0",
            "_model_name": "LayoutModel",
            "_view_count": null,
            "_view_module": "@jupyter-widgets/base",
            "_view_module_version": "1.2.0",
            "_view_name": "LayoutView",
            "align_content": null,
            "align_items": null,
            "align_self": null,
            "border": null,
            "bottom": null,
            "display": null,
            "flex": null,
            "flex_flow": null,
            "grid_area": null,
            "grid_auto_columns": null,
            "grid_auto_flow": null,
            "grid_auto_rows": null,
            "grid_column": null,
            "grid_gap": null,
            "grid_row": null,
            "grid_template_areas": null,
            "grid_template_columns": null,
            "grid_template_rows": null,
            "height": null,
            "justify_content": null,
            "justify_items": null,
            "left": null,
            "margin": null,
            "max_height": null,
            "max_width": null,
            "min_height": null,
            "min_width": null,
            "object_fit": null,
            "object_position": null,
            "order": null,
            "overflow": null,
            "overflow_x": null,
            "overflow_y": null,
            "padding": null,
            "right": null,
            "top": null,
            "visibility": null,
            "width": null
          }
        },
        "f28f5d31ad0c4e10b655f71d37a08c76": {
          "model_module": "@jupyter-widgets/controls",
          "model_module_version": "1.5.0",
          "model_name": "DescriptionStyleModel",
          "state": {
            "_model_module": "@jupyter-widgets/controls",
            "_model_module_version": "1.5.0",
            "_model_name": "DescriptionStyleModel",
            "_view_count": null,
            "_view_module": "@jupyter-widgets/base",
            "_view_module_version": "1.2.0",
            "_view_name": "StyleView",
            "description_width": ""
          }
        }
      }
    }
  },
  "nbformat": 4,
  "nbformat_minor": 0
}
