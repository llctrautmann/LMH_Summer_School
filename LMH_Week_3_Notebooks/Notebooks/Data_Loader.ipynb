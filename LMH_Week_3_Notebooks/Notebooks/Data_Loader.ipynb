{
 "cells": [
  {
   "cell_type": "code",
   "execution_count": null,
   "metadata": {},
   "outputs": [],
   "source": [
    "# Data Loaders\n",
    "\n",
    "!mkdir images\n",
    "from torchvision.utils import save_image"
   ]
  },
  {
   "cell_type": "code",
   "execution_count": null,
   "metadata": {},
   "outputs": [],
   "source": [
    "ind = 0 \n",
    "im_name=[]\n",
    "labels = []\n",
    "\n",
    "for i, batch in enumerate(train_loader):\n",
    "    if i >= 30: # we dont want to save the entire dataset\n",
    "        break\n",
    "\n",
    "    for batch_idx in range(batch[0].shape[0]): # This loop will use the files form the dataset and store it on the hard drive\n",
    "        im = batch[0][batch_idx,:,:,:]\n",
    "\n",
    "        im_name.append(f\"{ind}.jpg\")\n",
    "        labels.append(batch[1][batch_idx].item())\n",
    "        \n",
    "        save_image(im, f\"./images/{ind}.jpg\",normalize=True)\n",
    "        ind += 1"
   ]
  },
  {
   "cell_type": "code",
   "execution_count": null,
   "metadata": {},
   "outputs": [],
   "source": [
    "labels"
   ]
  },
  {
   "cell_type": "code",
   "execution_count": null,
   "metadata": {},
   "outputs": [],
   "source": [
    "import pandas as pd\n",
    "df = pd.DataFrame(list(zip(im_name,labels)), columns=['Name','Labels'])\n",
    "\n",
    "df\n",
    "\n",
    "df.to_csv('labels.csv')\n",
    "import imageio as Image"
   ]
  },
  {
   "cell_type": "code",
   "execution_count": null,
   "metadata": {},
   "outputs": [],
   "source": [
    "testing = Image.imread('images/1.jpg')"
   ]
  },
  {
   "cell_type": "code",
   "execution_count": null,
   "metadata": {},
   "outputs": [],
   "source": [
    "class myDataset(Dataset):\n",
    "    def __init__(self, imfolder, labels_csv): \n",
    "        super(myDataset,self).__init__()\n",
    "        df = pd.read_csv(\"labels.csv\")\n",
    "        self.images = df[\"Name\"].to_list()\n",
    "        self.imfol = imfolder\n",
    "        self.labels = df[\"Labels\"].to_list()\n",
    "\n",
    "\n",
    "\n",
    "    def __len__(self):\n",
    "        return len(self.images)\n",
    "\n",
    "\n",
    "\n",
    "    def __getitem__(self,idx):\n",
    "        im = Image.imread(f\"{self.imfol}{self.images[idx]}\")\n",
    "        im = np.transpose(im,(2,1,0)) # (2,1,0) refer to the index of the tensor\n",
    "        label = self.labels[idx]\n",
    "\n",
    "        data = []\n",
    "        data.append(np.asarray(im))\n",
    "        data.append(label)\n",
    "\n",
    "        return data\n"
   ]
  },
  {
   "cell_type": "code",
   "execution_count": null,
   "metadata": {},
   "outputs": [],
   "source": [
    "data = myDataset('./images/','labels.csv')"
   ]
  },
  {
   "cell_type": "code",
   "execution_count": null,
   "metadata": {},
   "outputs": [],
   "source": [
    "loader = DataLoader(data,batch_size=4)\n",
    "\n",
    "mybatch = next(iter(loader))\n",
    "\n",
    "mybatch[0].shape"
   ]
  },
  {
   "cell_type": "code",
   "execution_count": null,
   "metadata": {},
   "outputs": [],
   "source": [
    "loader = DataLoader(data, batch_size = 64)\n",
    "\n",
    "batch_img, batch_labs  = next(iter((loader)))"
   ]
  },
  {
   "cell_type": "code",
   "execution_count": null,
   "metadata": {},
   "outputs": [],
   "source": [
    "from torchvision.utils import make_grid\n",
    "\n",
    "def imshow_mine(img):\n",
    "\n",
    "    imshow_mine(grid_imgs)"
   ]
  },
  {
   "cell_type": "code",
   "execution_count": null,
   "metadata": {},
   "outputs": [],
   "source": [
    "imagesbyclass = []\n",
    "\n",
    "for i, label in enumerate(batch_labs):\n",
    "    if label == 0:\n",
    "        imagesbyclass.append(batch_imgs[i])"
   ]
  },
  {
   "cell_type": "code",
   "execution_count": null,
   "metadata": {},
   "outputs": [],
   "source": [
    "def showimagesbyclass(batch_imgs,batch_labs,labelnum):\n",
    "    imagesbyclass = []\n",
    "    for i, label in enumerate(batch_labs):\n",
    "        if label == labelnum:\n",
    "            imagesbyclass.append(batch_imgs[i])\n"
   ]
  }
 ],
 "metadata": {
  "kernelspec": {
   "display_name": "Python 3.10.3 64-bit ('3.10.3')",
   "language": "python",
   "name": "python3"
  },
  "language_info": {
   "name": "python",
   "version": "3.10.3"
  },
  "orig_nbformat": 4,
  "vscode": {
   "interpreter": {
    "hash": "d410fd81c9a0b51d0e53167c40a880776428168a003798fed6e3e9082ee009aa"
   }
  }
 },
 "nbformat": 4,
 "nbformat_minor": 2
}
