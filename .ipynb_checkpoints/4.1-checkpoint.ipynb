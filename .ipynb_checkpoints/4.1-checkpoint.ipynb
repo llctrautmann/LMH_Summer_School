{
 "cells": [
  {
   "cell_type": "code",
   "execution_count": 104,
   "id": "b7f5d6b8",
   "metadata": {},
   "outputs": [],
   "source": [
    "class Human:\n",
    "    def __init__(self):\n",
    "        self.name = \"Luca\"\n",
    "        self.age = 12\n",
    "        self.gender = 'M'\n",
    "        \n",
    "class Student:\n",
    "    def __init__(self):\n",
    "        self.name = \"target\"\n",
    "        self.school = \"UvA\"\n",
    "        self.country = \"NL\""
   ]
  },
  {
   "cell_type": "code",
   "execution_count": 100,
   "id": "92a94138",
   "metadata": {},
   "outputs": [],
   "source": [
    "Student_1 = Student('Luca','Uva','NL')"
   ]
  },
  {
   "cell_type": "code",
   "execution_count": 101,
   "id": "871788f1",
   "metadata": {},
   "outputs": [
    {
     "data": {
      "text/plain": [
       "'NL'"
      ]
     },
     "execution_count": 101,
     "metadata": {},
     "output_type": "execute_result"
    }
   ],
   "source": [
    "Student_1.country"
   ]
  },
  {
   "cell_type": "code",
   "execution_count": 114,
   "id": "a9d8a359",
   "metadata": {},
   "outputs": [],
   "source": [
    "class Student_ID(Student,Human):\n",
    "    pass"
   ]
  },
  {
   "cell_type": "code",
   "execution_count": 115,
   "id": "1a960b08",
   "metadata": {},
   "outputs": [],
   "source": [
    "Student_ID_1 = Student_ID()\n",
    "Student_ID_1.name"
   ]
  },
  {
   "cell_type": "code",
   "execution_count": 122,
   "id": "bf7a0806",
   "metadata": {},
   "outputs": [],
   "source": [
    "class Student_ID_2(Human,Student):\n",
    "    pass"
   ]
  },
  {
   "cell_type": "code",
   "execution_count": 121,
   "id": "0d3fe71b",
   "metadata": {},
   "outputs": [
    {
     "ename": "TypeError",
     "evalue": "'Student_ID_2' object is not callable",
     "output_type": "error",
     "traceback": [
      "\u001b[0;31m---------------------------------------------------------------------------\u001b[0m",
      "\u001b[0;31mTypeError\u001b[0m                                 Traceback (most recent call last)",
      "Input \u001b[0;32mIn [121]\u001b[0m, in \u001b[0;36m<cell line: 1>\u001b[0;34m()\u001b[0m\n\u001b[0;32m----> 1\u001b[0m SID_2 \u001b[38;5;241m=\u001b[39m \u001b[43mStudent_ID_2\u001b[49m\u001b[43m(\u001b[49m\u001b[43m)\u001b[49m\n\u001b[1;32m      4\u001b[0m SID_2\u001b[38;5;241m.\u001b[39mname\n",
      "\u001b[0;31mTypeError\u001b[0m: 'Student_ID_2' object is not callable"
     ]
    }
   ],
   "source": [
    "SID_2 = Student_ID_2()\n",
    "\n",
    "\n",
    "SID_2.name\n",
    "\n",
    "\n",
    "\n",
    "\n",
    "\n",
    "\n"
   ]
  }
 ],
 "metadata": {
  "kernelspec": {
   "display_name": "Summer_School",
   "language": "python",
   "name": "summer_school"
  },
  "language_info": {
   "codemirror_mode": {
    "name": "ipython",
    "version": 3
   },
   "file_extension": ".py",
   "mimetype": "text/x-python",
   "name": "python",
   "nbconvert_exporter": "python",
   "pygments_lexer": "ipython3",
   "version": "3.10.0"
  }
 },
 "nbformat": 4,
 "nbformat_minor": 5
}
