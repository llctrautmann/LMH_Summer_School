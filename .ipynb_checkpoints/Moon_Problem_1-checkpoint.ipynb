{
 "cells": [
  {
   "cell_type": "code",
   "execution_count": 1,
   "id": "68781421",
   "metadata": {},
   "outputs": [],
   "source": [
    "# [Fictional Story] The astronauts on moon wanted to measure the value of gravity on the moon. \n",
    "# The decide to throw a spanner from different heights and measure the time needed to cover \n",
    "# the distance and based on these values want to extract the value of gravity on moon. The \n",
    "# values might be slightly off due to human error and the (very thin) moon atmosphere. Use \n",
    "# linear regression to find the value of gravity on the moon.\n",
    "\n",
    "import matplotlib.pyplot as plt\n",
    "import numpy as np\n",
    "\n",
    "gmoon=9.8/6\n",
    "\n",
    "\n",
    "\n",
    "height=np.linspace(1,3,20)\n",
    "\n",
    "\n",
    "time=0.5*gmoon*height**2 + 0.05*np.random.randn(height.size)\n",
    "\n",
    "\n",
    "\n",
    "\n",
    "# plt.plot(t,s,'.')"
   ]
  },
  {
   "cell_type": "code",
   "execution_count": 2,
   "id": "405841e6",
   "metadata": {},
   "outputs": [
    {
     "data": {
      "text/plain": [
       "array([1.        , 1.10526316, 1.21052632, 1.31578947, 1.42105263,\n",
       "       1.52631579, 1.63157895, 1.73684211, 1.84210526, 1.94736842,\n",
       "       2.05263158, 2.15789474, 2.26315789, 2.36842105, 2.47368421,\n",
       "       2.57894737, 2.68421053, 2.78947368, 2.89473684, 3.        ])"
      ]
     },
     "execution_count": 2,
     "metadata": {},
     "output_type": "execute_result"
    }
   ],
   "source": [
    "height"
   ]
  },
  {
   "cell_type": "code",
   "execution_count": 3,
   "id": "d6d14fa2",
   "metadata": {},
   "outputs": [
    {
     "data": {
      "text/plain": [
       "array([0.81719159, 1.06770105, 1.16094083, 1.38678158, 1.64147076,\n",
       "       1.81870511, 2.18280982, 2.47185316, 2.65835552, 3.11843402,\n",
       "       3.40437425, 3.82010635, 4.28226928, 4.53096496, 5.06267392,\n",
       "       5.43330168, 5.94119267, 6.37049579, 6.82437907, 7.38062954])"
      ]
     },
     "execution_count": 3,
     "metadata": {},
     "output_type": "execute_result"
    }
   ],
   "source": [
    "time"
   ]
  },
  {
   "cell_type": "code",
   "execution_count": 4,
   "id": "99fa6792",
   "metadata": {},
   "outputs": [],
   "source": [
    "height = height[:, np.newaxis]"
   ]
  },
  {
   "cell_type": "code",
   "execution_count": 5,
   "id": "d85bb73a",
   "metadata": {},
   "outputs": [
    {
     "data": {
      "text/plain": [
       "array([[1.        ],\n",
       "       [1.10526316],\n",
       "       [1.21052632],\n",
       "       [1.31578947],\n",
       "       [1.42105263],\n",
       "       [1.52631579],\n",
       "       [1.63157895],\n",
       "       [1.73684211],\n",
       "       [1.84210526],\n",
       "       [1.94736842],\n",
       "       [2.05263158],\n",
       "       [2.15789474],\n",
       "       [2.26315789],\n",
       "       [2.36842105],\n",
       "       [2.47368421],\n",
       "       [2.57894737],\n",
       "       [2.68421053],\n",
       "       [2.78947368],\n",
       "       [2.89473684],\n",
       "       [3.        ]])"
      ]
     },
     "execution_count": 5,
     "metadata": {},
     "output_type": "execute_result"
    }
   ],
   "source": [
    "height.shape\n",
    "height"
   ]
  },
  {
   "cell_type": "code",
   "execution_count": 40,
   "id": "e9b91b46",
   "metadata": {},
   "outputs": [],
   "source": [
    "height_sq = height**2"
   ]
  },
  {
   "cell_type": "code",
   "execution_count": 6,
   "id": "1ccd626a",
   "metadata": {},
   "outputs": [],
   "source": [
    "time = time[:,np.newaxis]"
   ]
  },
  {
   "cell_type": "code",
   "execution_count": 7,
   "id": "2a1536dc",
   "metadata": {},
   "outputs": [
    {
     "data": {
      "text/plain": [
       "array([[1.],\n",
       "       [1.],\n",
       "       [1.],\n",
       "       [1.],\n",
       "       [1.],\n",
       "       [1.],\n",
       "       [1.],\n",
       "       [1.],\n",
       "       [1.],\n",
       "       [1.],\n",
       "       [1.],\n",
       "       [1.],\n",
       "       [1.],\n",
       "       [1.],\n",
       "       [1.],\n",
       "       [1.],\n",
       "       [1.],\n",
       "       [1.],\n",
       "       [1.],\n",
       "       [1.]])"
      ]
     },
     "execution_count": 7,
     "metadata": {},
     "output_type": "execute_result"
    }
   ],
   "source": [
    "ones = np.ones(20)\n",
    "\n",
    "ones = ones[:,np.newaxis]\n",
    "\n",
    "ones.shape\n",
    "\n",
    "ones"
   ]
  },
  {
   "cell_type": "code",
   "execution_count": 48,
   "id": "b0d4e1c0",
   "metadata": {},
   "outputs": [
    {
     "data": {
      "text/plain": [
       "(20, 2)"
      ]
     },
     "execution_count": 48,
     "metadata": {},
     "output_type": "execute_result"
    }
   ],
   "source": [
    "M = np.append(ones,height,axis=1)\n",
    "\n",
    "# M = np.append(M,height_sq,axis=1)\n",
    "\n",
    "M\n",
    "\n",
    "M.shape"
   ]
  },
  {
   "cell_type": "code",
   "execution_count": 49,
   "id": "3326c054",
   "metadata": {},
   "outputs": [
    {
     "data": {
      "text/plain": [
       "array([[-3.0039218 ],\n",
       "       [ 3.28632668]])"
      ]
     },
     "execution_count": 49,
     "metadata": {},
     "output_type": "execute_result"
    }
   ],
   "source": [
    "w = np.linalg.inv(M.T@M)@(M.T@time)\n",
    "\n",
    "w"
   ]
  },
  {
   "cell_type": "code",
   "execution_count": 10,
   "id": "e8b6a087",
   "metadata": {},
   "outputs": [
    {
     "data": {
      "text/plain": [
       "array([1.64316334])"
      ]
     },
     "execution_count": 10,
     "metadata": {},
     "output_type": "execute_result"
    }
   ],
   "source": [
    "w[1]/2"
   ]
  },
  {
   "cell_type": "code",
   "execution_count": 38,
   "id": "1e80a675",
   "metadata": {},
   "outputs": [
    {
     "data": {
      "image/png": "[encoded data removed]",
      "text/plain": [
       "<Figure size 432x288 with 1 Axes>"
      ]
     },
     "metadata": {
      "needs_background": "light"
     },
     "output_type": "display_data"
    }
   ],
   "source": [
    "plt.plot(height, time)\n",
    "plt.xlabel('Time (hr)')\n",
    "plt.ylabel('Position (km)')\n",
    "\n",
    "plt.show()\n",
    "\n"
   ]
  },
  {
   "cell_type": "code",
   "execution_count": null,
   "id": "74d85983",
   "metadata": {},
   "outputs": [],
   "source": []
  },
  {
   "cell_type": "code",
   "execution_count": null,
   "id": "4ea39f6f",
   "metadata": {},
   "outputs": [],
   "source": []
  },
  {
   "cell_type": "code",
   "execution_count": null,
   "id": "0d5933fa",
   "metadata": {},
   "outputs": [],
   "source": []
  },
  {
   "cell_type": "code",
   "execution_count": null,
   "id": "453c72dd",
   "metadata": {},
   "outputs": [],
   "source": []
  },
  {
   "cell_type": "code",
   "execution_count": null,
   "id": "63d0ea19",
   "metadata": {},
   "outputs": [],
   "source": []
  },
  {
   "cell_type": "code",
   "execution_count": null,
   "id": "59dd53b9",
   "metadata": {},
   "outputs": [],
   "source": []
  },
  {
   "cell_type": "code",
   "execution_count": null,
   "id": "3903ac27",
   "metadata": {},
   "outputs": [],
   "source": [
    "gmoon"
   ]
  },
  {
   "cell_type": "markdown",
   "id": "920d2a75",
   "metadata": {},
   "source": [
    "$$\\mathbf w = (X^T X)^{-1} X^T \\mathbf y = X^+ \\mathbf y$$"
   ]
  },
  {
   "cell_type": "code",
   "execution_count": null,
   "id": "9c954a53",
   "metadata": {},
   "outputs": [],
   "source": [
    "t.shape\n",
    "\n",
    "t_v = t[:, np.newaxis]\n",
    "\n",
    "t_v.shape"
   ]
  },
  {
   "cell_type": "code",
   "execution_count": null,
   "id": "2cde9922",
   "metadata": {},
   "outputs": [],
   "source": [
    "s.shape\n",
    "\n",
    "s_v = t[:, np.newaxis]\n",
    "\n",
    "s_v.shape"
   ]
  },
  {
   "cell_type": "code",
   "execution_count": null,
   "id": "313ddeb4",
   "metadata": {},
   "outputs": [],
   "source": [
    "t2 = t**2 # quadraditc_transformation_of_s\n",
    "\n",
    "t2_v = t2[:,np.newaxis]\n",
    "\n",
    "t2_v.shape\n",
    "\n",
    "t2_"
   ]
  },
  {
   "cell_type": "code",
   "execution_count": null,
   "id": "239a576a",
   "metadata": {},
   "outputs": [],
   "source": [
    "ones = np.ones(20)\n",
    "\n",
    "ones = ones[:,np.newaxis]\n",
    "\n",
    "ones.shape"
   ]
  },
  {
   "cell_type": "code",
   "execution_count": null,
   "id": "6a2e07d1",
   "metadata": {},
   "outputs": [],
   "source": [
    "X = np.append(ones,t_v,axis=1) # This is my design Matrix\n",
    "X.shape\n",
    "\n",
    "X"
   ]
  },
  {
   "cell_type": "code",
   "execution_count": null,
   "id": "764970f3",
   "metadata": {},
   "outputs": [],
   "source": [
    "Inv_Matrix = np.linalg.inv(X.T@X) # np.linalg.inv inverts the matrix "
   ]
  },
  {
   "cell_type": "code",
   "execution_count": null,
   "id": "74df6f7e",
   "metadata": {},
   "outputs": [],
   "source": [
    "w1 = Inv_Matrix@X.T@s_v\n",
    "\n",
    "w1"
   ]
  },
  {
   "cell_type": "code",
   "execution_count": null,
   "id": "e7b05ae8",
   "metadata": {},
   "outputs": [],
   "source": [
    "def linear_equation(x):\n",
    "    return w1[0]+w1[1]*x"
   ]
  },
  {
   "cell_type": "code",
   "execution_count": null,
   "id": "02c94fd0",
   "metadata": {},
   "outputs": [],
   "source": [
    "t"
   ]
  },
  {
   "cell_type": "code",
   "execution_count": null,
   "id": "429abd5a",
   "metadata": {},
   "outputs": [],
   "source": [
    "plt.plot(t,y,'.')\n",
    "plt.plot(t,linear_equation(x),'.',linestyle='-')"
   ]
  },
  {
   "cell_type": "code",
   "execution_count": null,
   "id": "9ea7a46c",
   "metadata": {},
   "outputs": [],
   "source": [
    "gmoon=9.8/6\n",
    "\n",
    "gmoon"
   ]
  }
 ],
 "metadata": {
  "kernelspec": {
   "display_name": "Summer_School",
   "language": "python",
   "name": "summer_school"
  },
  "language_info": {
   "codemirror_mode": {
    "name": "ipython",
    "version": 3
   },
   "file_extension": ".py",
   "mimetype": "text/x-python",
   "name": "python",
   "nbconvert_exporter": "python",
   "pygments_lexer": "ipython3",
   "version": "3.10.0"
  }
 },
 "nbformat": 4,
 "nbformat_minor": 5
}
