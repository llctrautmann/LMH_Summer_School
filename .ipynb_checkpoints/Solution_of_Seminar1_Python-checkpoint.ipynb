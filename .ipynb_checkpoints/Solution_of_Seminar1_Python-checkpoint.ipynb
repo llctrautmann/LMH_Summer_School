{
 "cells": [
  {
   "cell_type": "code",
   "execution_count": null,
   "metadata": {
    "colab": {
     "base_uri": "https://localhost:8080/"
    },
    "id": "Iql95-jeNF8R",
    "outputId": "44e6d21d-778b-4c8f-8524-4fa0d6ae55c9"
   },
   "outputs": [
    {
     "name": "stdout",
     "output_type": "stream",
     "text": [
      "Enter your namemr\n",
      "Enter your titlemr\n",
      "Enter your age25\n",
      "Enter your occupationteacher\n",
      "mr mr is 25 years old and works as a teacher.\n"
     ]
    }
   ],
   "source": [
    "#Exercise 3.1: Write a program that asks the user to input, their name, title, age and\n",
    "#occupation and outputs a string, \"[title] [name] is [age] years old and works as a [job].\"\n",
    "\n",
    "name = input(\"Enter your name\")\n",
    "title = input(\"Enter your title\")\n",
    "age = input(\"Enter your age\")\n",
    "occ = input(\"Enter your occupation\")\n",
    "\n",
    "output = f\"{title} {name} is {age} years old and works as a {occ}.\"\n",
    "\n",
    "print(output)\n"
   ]
  },
  {
   "cell_type": "code",
   "execution_count": null,
   "metadata": {
    "colab": {
     "base_uri": "https://localhost:8080/"
    },
    "id": "gJhbqw2lNmSI",
    "outputId": "f21796ab-304e-406c-ff84-8196e08dafb9"
   },
   "outputs": [
    {
     "name": "stdout",
     "output_type": "stream",
     "text": [
      "Enter your number45.89\n",
      "number is not a string\n"
     ]
    }
   ],
   "source": [
    "#Exercise 3.2: Write a program that takes a positive integer as an input and return’s it’s\n",
    "#length (no of digits). Return 0 if the number is not a positive integer\n",
    "\n",
    "no = input(\"Enter your number\")\n",
    "if \".\" in no:\n",
    "  print(\"number is not a string\")\n",
    "else:\n",
    "  if no[0]==\"-\":\n",
    "    print(\"0\")\n",
    "\n",
    "  else:\n",
    "    print(len(no))\n"
   ]
  },
  {
   "cell_type": "code",
   "execution_count": null,
   "metadata": {
    "colab": {
     "base_uri": "https://localhost:8080/"
    },
    "id": "yztFCVlpU-OL",
    "outputId": "56314ae7-5f43-4b76-d785-5abc6c917d11"
   },
   "outputs": [
    {
     "name": "stdout",
     "output_type": "stream",
     "text": [
      "[109, 10000, 890]\n"
     ]
    }
   ],
   "source": [
    "#Exercise 3.3: In a single line of code extract all numbers from a list that are greater than\n",
    "#100.\n",
    "\n",
    "x = [3, 90, 100, 109, 10000, 890]\n",
    "y=[]\n",
    "for element in x:\n",
    "  if element> 100:\n",
    "    y.append(element)\n",
    "\n",
    "\n",
    "print(y)\n",
    "\n",
    "#y = [apple for apple in x if apple>100]\n",
    "\n",
    "#print(y)\n"
   ]
  },
  {
   "cell_type": "code",
   "execution_count": null,
   "metadata": {
    "colab": {
     "base_uri": "https://localhost:8080/"
    },
    "id": "yOyMY9KCOgob",
    "outputId": "83bc2ccb-f1c6-4112-a946-b3705caa6928"
   },
   "outputs": [
    {
     "name": "stdout",
     "output_type": "stream",
     "text": [
      "{'key1': 'Value1', 'key2': 'Value2', 'key3': 'Value3'}\n"
     ]
    }
   ],
   "source": [
    "#Exercise 3.4: In a single line of code capitalize the first character of the value strings in a\n",
    "#Python dictionary\n",
    "\n",
    "dict1 = {\"key1\": \"value1\", \"key2\": \"value2\", \"key3\":\"value3\"}\n",
    "\n",
    "capt_dict1 = {key:dict1[key].capitalize() for key in dict1.keys()}\n",
    "print(capt_dict1)\n",
    "\n"
   ]
  },
  {
   "cell_type": "code",
   "execution_count": null,
   "metadata": {
    "colab": {
     "base_uri": "https://localhost:8080/"
    },
    "id": "ZgevIuvbVRlL",
    "outputId": "49061f6b-2ee5-4c38-930e-c5f692e6f10f"
   },
   "outputs": [
    {
     "name": "stdout",
     "output_type": "stream",
     "text": [
      "The numebr is a palindorm\n"
     ]
    }
   ],
   "source": [
    "#Exercise 3.5: Write a program that checks if a 5 digit positive integer is palindrome. Bonus:\n",
    "#extent it to any positive integer\n",
    "\n",
    "# 101 is palindrome, 89 not palindrome\n",
    "\n",
    "x = 1090901\n",
    "x_str = str(x)\n",
    "\n",
    "x_r_str = x_str[::-1]\n",
    "\n",
    "if x_str == x_r_str:\n",
    "  print(\"The numebr is a palindorm\")\n",
    "else:\n",
    "  print(\"The numebr is not a palindrome\")\n",
    "\n",
    "\n"
   ]
  },
  {
   "cell_type": "code",
   "execution_count": null,
   "metadata": {
    "colab": {
     "base_uri": "https://localhost:8080/"
    },
    "id": "n-qUrQ09Pni9",
    "outputId": "ed7e6eeb-253f-49b2-b4ad-af5249db3d87"
   },
   "outputs": [
    {
     "name": "stdout",
     "output_type": "stream",
     "text": [
      "105,119,126,133,147,154,161,175,182,189,203,210,217,231,238,245,259,266,273,287,294,301,315,322,329,343,350,357,371,378,385,399,406,413,427,434,441,455,462,469,483,490,497,511,518,525,539,546,553,567,574,581,595,602,609,623,630,637,651,658,665,679,686,693,707,714,721,735,742,749,763,770,777,791,798,805,819,826,833,847,854,861,875,882,889,903,910,917,931,938,945,959,966,973,987,994,1001,1015,1022,1029,1043,1050,1057,1071,1078,1085,1099,1106,1113,1127,1134,1141,1155,1162,1169,1183,1190,1197,1211,1218,1225,1239,1246,1253,1267,1274,1281,1295,1302,1309,1323,1330,1337,1351,1358,1365,1379,1386,1393,1407,1414,1421,1435,1442,1449,1463,1470,1477,1491,1498\n"
     ]
    }
   ],
   "source": [
    "#Exercise 3.6: Write a program which will find all such numbers which are divisible by 7\n",
    "#but are not a multiple of 4, between 100 and 1500 (both included). The numbers obtained\n",
    "#should be printed in a comma-separated sequence on a single line.\n",
    "import numpy as np\n",
    "x = np.arange(100,1501)\n",
    "\n",
    "result = [str(e) for e in x if e % 7 == 0 and e % 4 != 0] \n",
    "\n",
    "print(\",\".join(result))"
   ]
  },
  {
   "cell_type": "code",
   "execution_count": null,
   "metadata": {
    "colab": {
     "base_uri": "https://localhost:8080/"
    },
    "id": "CBneGRSyVmiX",
    "outputId": "bda6f92e-460d-4f19-b923-98fb5155564b"
   },
   "outputs": [
    {
     "name": "stdout",
     "output_type": "stream",
     "text": [
      "anagram\n"
     ]
    }
   ],
   "source": [
    "#Exercise 3.7: Write a code that inputs two integers and returns True if they are anagram\n",
    "#of each other, else returns False\n",
    "x = 56784\n",
    "y = 87645\n",
    "\n",
    "x_str = str(x)\n",
    "y_str = str(y)\n",
    "x_str = sorted(x_str)\n",
    "y_str = sorted(y_str)\n",
    "if len(x_str)==len(y_str):\n",
    "  flag = True\n",
    "  for i,e in enumerate(x_str):\n",
    "    if e!= y_str[i]:\n",
    "      flag = False\n",
    "      break\n",
    "\n",
    "\n",
    "  if flag==True:\n",
    "    print(\"anagram\")\n",
    "  else:\n",
    "    print(\"not anagram\") \n",
    "\n",
    "\n",
    "\n",
    "\n",
    "else:\n",
    "  print(\"not anagram\")"
   ]
  },
  {
   "cell_type": "code",
   "execution_count": null,
   "metadata": {
    "colab": {
     "base_uri": "https://localhost:8080/"
    },
    "id": "WAvSCztgwUYn",
    "outputId": "842b2cd7-b806-4e4a-8b1f-ed52b064a6d3"
   },
   "outputs": [
    {
     "name": "stdout",
     "output_type": "stream",
     "text": [
      "0 10\n",
      "1 5\n",
      "2 38\n",
      "3 49\n",
      "4 5\n"
     ]
    }
   ],
   "source": [
    "x =[10,5,38,49,5]\n",
    "\n",
    "for i,e in enumerate(x):\n",
    "  print(i,e)"
   ]
  },
  {
   "cell_type": "code",
   "execution_count": null,
   "metadata": {
    "colab": {
     "base_uri": "https://localhost:8080/"
    },
    "id": "_DNwbAfyWMki",
    "outputId": "ec346a46-c473-4ca9-f9bf-d73f2aa6d095"
   },
   "outputs": [
    {
     "name": "stdout",
     "output_type": "stream",
     "text": [
      "31\n"
     ]
    }
   ],
   "source": [
    "#Exercise 3.8: Write a program that takes a number and it’s base (<36) and returns the\n",
    "#value in decimal system. Assume number greater than 9 are represented by alphabets [a-z]\n",
    "\n",
    "base = 16\n",
    "no = \"210\" # --->1*base^1     1* base^0\n",
    "dec = 0\n",
    "for i,e in enumerate(no[::-1]):\n",
    "  if ord(e) >= ord(\"a\") and ord(e)<= ord(\"z\"): \n",
    "    b = ord(e)-ord(\"a\")+10\n",
    "  else:\n",
    "    b = ord(e)-ord(\"0\")\n",
    "  \n",
    "  dec+=b*base**i\n",
    "\n",
    "\n",
    "\n",
    "print(dec)"
   ]
  },
  {
   "cell_type": "code",
   "execution_count": null,
   "metadata": {
    "id": "zAVQPdwfV3wN"
   },
   "outputs": [],
   "source": [
    "#Exercise 3.9: Text based calculator: Write a program that take’s in a string \"No1 operator\n",
    "#No2\". and returns the output of the operation in string. Allowed operations are {+,-,*,/}\n",
    "\n"
   ]
  },
  {
   "cell_type": "code",
   "execution_count": null,
   "metadata": {
    "id": "UpOzIyJwXgix"
   },
   "outputs": [],
   "source": [
    "#Exercise 3.10: Write a program that takes an input N and returns fibonacci sequence to\n",
    "#N th number in the sequence with and without using recursion\n"
   ]
  },
  {
   "cell_type": "code",
   "execution_count": null,
   "metadata": {
    "id": "AlTUUp9VXquP"
   },
   "outputs": [],
   "source": [
    "#Exercise 3.11: Write a program that takes a positive integer input N and returns all\n",
    "#palindrome’s uptill and including N\n"
   ]
  },
  {
   "cell_type": "code",
   "execution_count": null,
   "metadata": {
    "id": "ItHW53T5X02R"
   },
   "outputs": [],
   "source": [
    "#Exercise 3.12: Write a program that return’s the smallest of the integers in a list.\n",
    "\n"
   ]
  },
  {
   "cell_type": "code",
   "execution_count": null,
   "metadata": {
    "id": "fNypSyR8YbUY"
   },
   "outputs": [],
   "source": [
    "#Exercise 3.13: Write a program that return’s the largest number in a list.\n"
   ]
  },
  {
   "cell_type": "code",
   "execution_count": null,
   "metadata": {
    "id": "sYVhI4VvZ3Ui"
   },
   "outputs": [],
   "source": [
    "#Exercise 3.14: Write a program that removes all vowels from a string\n"
   ]
  },
  {
   "cell_type": "code",
   "execution_count": null,
   "metadata": {
    "id": "UaYJ6_zoadTs"
   },
   "outputs": [],
   "source": [
    "#Exercise 3.15: Write a program that take’s an input N (odd integer) and drawn an\n",
    "#isosceles triangle with N stars on the base and the other sides of equal size.\n",
    "#Example: N=5\n",
    "#   *\n",
    "#  ***\n",
    "# *****\n"
   ]
  },
  {
   "cell_type": "code",
   "execution_count": null,
   "metadata": {
    "id": "4E2BEH0RndWZ"
   },
   "outputs": [],
   "source": [
    "#Exercise 3.16: Write a program that removes repeated words next to each other from a\n",
    "#string.\n",
    "\n"
   ]
  },
  {
   "cell_type": "code",
   "execution_count": null,
   "metadata": {
    "id": "WltGM7swZri2"
   },
   "outputs": [],
   "source": [
    "#Exercise 4.1: Write a child class with 2 parents and validate the above scheme of attribute\n",
    "#search in instance of a class\n",
    "\n"
   ]
  },
  {
   "cell_type": "code",
   "execution_count": null,
   "metadata": {
    "id": "nwTrx9quM-8E"
   },
   "outputs": [],
   "source": [
    "#Exercise 4.2: Write a program (without using OOP) which takes in (x, y) ∈ R+2 a tuple of\n",
    "#positive number representing the size of rectangular grid. It then takes an arbitrary number\n",
    "#of parameters (x, y), r, where the (x, y) represents the center of a circle and r represents\n",
    "#the radius. For each entry the program returns a \"True\" if the circle can be placed on the\n",
    "#grid without it intersecting with any other circles and then places the circle on the grid. Else\n",
    "#\"False\" if the circle can not be placed on the grid because it intersects with other previously\n",
    "#placed circle\n"
   ]
  }
 ],
 "metadata": {
  "colab": {
   "collapsed_sections": [],
   "name": "Solution of Seminar1_Python.ipynb",
   "provenance": []
  },
  "kernelspec": {
   "display_name": "Python 3 (ipykernel)",
   "language": "python",
   "name": "python3"
  },
  "language_info": {
   "codemirror_mode": {
    "name": "ipython",
    "version": 3
   },
   "file_extension": ".py",
   "mimetype": "text/x-python",
   "name": "python",
   "nbconvert_exporter": "python",
   "pygments_lexer": "ipython3",
   "version": "3.9.12"
  }
 },
 "nbformat": 4,
 "nbformat_minor": 1
}
