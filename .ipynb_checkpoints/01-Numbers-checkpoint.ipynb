{
 "cells": [
  {
   "cell_type": "markdown",
   "metadata": {
    "id": "VL0BqLdlxJrl"
   },
   "source": [
    "# Introduction to Python</h1>\n",
    "\n",
    "- **Instructor**: Naeemullah Khan\n"
   ]
  },
  {
   "cell_type": "markdown",
   "metadata": {
    "id": "Ps5SM_f_QdcM"
   },
   "source": [
    "# TL;DR"
   ]
  },
  {
   "cell_type": "markdown",
   "metadata": {
    "id": "NczSu8d-MjEY"
   },
   "source": [
    "- Files: native-python.py and jupyter-notebook.ipynb\n",
    "- Languages: Python, [Markdown](https://stackedit.io/app), LaTeX, and HTML\n",
    "- Editors: [VSCode](https://code.visualstudio.com/) and [SublimeText](https://www.sublimetext.com/)\n",
    "- Jupyter: [JupyterLab](https://jupyterlab.readthedocs.io/) and [GoogleColab](https://colab.research.google.com/) \\(aslo, check out [Deepnote](https://www.deepnote.com/) a [Jupyter contender](https://lifewithdata.org/deepnote-sets-course-to-become-the-jupyter-killer/))\n",
    "\n",
    "#### Python (check out [TutorialsPoint](https://www.tutorialspoint.com/python/index.htm))\n",
    "\n",
    "- [Literals](https://www.tutorialspoint.com/python/python_variable_types.htm): [numbers](https://www.tutorialspoint.com/python/python_numbers.htm), booleans, and [strings](https://www.tutorialspoint.com/python/python_strings.htm) \\[[lexical analysis](https://docs.python.org/3/reference/lexical_analysis.html)\\]\n",
    "- [Operators](https://www.tutorialspoint.com/python/python_basic_operators.htm): arithmetic, comparison, assignment, bitwise, logical, membership, and identity\n",
    "- Control flow: if-elif-else, for-loop, while-loop, [try-except-finally](https://www.tutorialspoint.com/python/python_exceptions.htm), and [with-statement](https://preshing.com/20110920/the-python-with-statement-by-example/)\n",
    "- Containers: [tuple](https://www.tutorialspoint.com/python/python_tuples.htm), [list](https://www.tutorialspoint.com/python/python_lists.htm), [dict](https://www.tutorialspoint.com/python/python_dictionary.htm), and [set](https://snakify.org/en/lessons/sets/) \\[indexing, slicing, [comprehension](https://python-3-patterns-idioms-test.readthedocs.io/en/latest/Comprehensions.html), and [unpacking](https://medium.com/understand-the-python/understanding-the-asterisk-of-python-8b9daaa4a558)\\]\n",
    "- [Functions](https://www.tutorialspoint.com/python/python_functions.htm): arguments, keyword arguments, and variadic functions\n",
    "- Special function types: lambda, closures, generators, and decorators\n",
    "- [Built-in functions](https://docs.python.org/3/library/functions.html): [string-formatting](https://pyformat.info/), raw_input, [open](https://www.tutorialspoint.com/python/python_files_io.htm), enumerate, zip, isinstance, dir, help, iter, reversed, and sorted\n",
    "- [Classes](https://www.tutorialspoint.com/python/python_classes_objects.htm): dunnder/magic functions, super, method decorators (e.g. property, staticmethod, and classmethod)\n",
    "- [Modules](https://docs.python.org/3/py-modindex.html): math, argparse, pathlib, collections, itertools, pickle, and json\n",
    "- Test yourself on the Kaggle exercises listed [here](https://www.kaggle.com/learn/python)"
   ]
  },
  {
   "cell_type": "markdown",
   "metadata": {
    "id": "KM3nwpfrcyx0"
   },
   "source": [
    "# Markdown"
   ]
  },
  {
   "cell_type": "markdown",
   "metadata": {
    "id": "byIyc_AESu3U"
   },
   "source": [
    "Markdown is a lightweight markup language with plain text formatting syntax:\n",
    "- Online editors: [StackEdit](https://stackedit.io/app#) and [Dillinger](https://dillinger.io)\n",
    "- Cheet sheats: [Colab](https://colab.research.google.com/notebooks/markdown_guide.ipynb) and [GitHub](https://github.com/adam-p/markdown-here/wiki/Markdown-Cheatsheet)"
   ]
  },
  {
   "cell_type": "markdown",
   "metadata": {
    "id": "H4t7HwlFRMN_"
   },
   "source": [
    "# Latex"
   ]
  },
  {
   "cell_type": "markdown",
   "metadata": {
    "id": "L3p-gWaZSyv0"
   },
   "source": [
    "[$\\LaTeX$](https://www.latex-project.org/) is a high-quality typesetting system; it includes features designed for the production of technical and scientific documentation. Latex is the de facto standard for the communication and publication of scientific documents."
   ]
  },
  {
   "cell_type": "markdown",
   "metadata": {
    "id": "iprv27RRmF2V"
   },
   "source": [
    "$\\sum_i^n x_i = \\frac{1}{2}$"
   ]
  },
  {
   "cell_type": "markdown",
   "metadata": {
    "id": "iOfZukqoBlN-"
   },
   "source": [
    "# Jupyter"
   ]
  },
  {
   "cell_type": "markdown",
   "metadata": {
    "id": "bwYiRWMJSTif"
   },
   "source": [
    "Jupyter notebooks provide interactive computing across dozens of programming languages including Python. Their editors come with differnet flavors and variations like [JupyterLab](https://jupyterlab.readthedocs.io/en/stable/), [Kaggle Kernels](https://www.kaggle.com/kernels) and [Google Colaboratry](https://colab.research.google.com). You can try them without installing anything [here](https://jupyter.org/try).\n",
    "\n",
    "*   **JupyterLab[TODAT]**:\n",
    "    *   Neat user interface\n",
    "    *   Works locally on your machine\n",
    "    *   Can be exposed to the local network\n",
    "\n",
    "*   **Google Colab[LATER]**:\n",
    "    *   Works locally on your machine\n",
    "    *   Works on the cloud and you get free 12 hours per session\n",
    "    *   Free NVIDIA Tesla P100 GPU 16GB and TPU are available\n",
    "    *   The notebooks become shareable like Google docs\n",
    "    *   Comes with nice features like [Forms](https://colab.research.google.com/notebooks/forms.ipynb) and [Widgets](https://colab.research.google.com/notebooks/widgets.ipynb)\n",
    "    *   Integrates with [Google Drive](https://colab.research.google.com/notebooks/io.ipynb) and [Github](https://colab.research.google.com/github/googlecolab/colabtools/blob/master/notebooks/colab-github-demo.ipynb)"
   ]
  },
  {
   "cell_type": "markdown",
   "metadata": {
    "id": "yHigYSP4Zz2R"
   },
   "source": [
    "# Python"
   ]
  },
  {
   "cell_type": "markdown",
   "metadata": {
    "id": "ho9aSRgNSpBr"
   },
   "source": [
    "This tutorial is a merged modified versions of [Justin Johnson](http://cs.stanford.edu/people/jcjohns/)'s original work that can be found [here](http://cs231n.github.io/python-numpy-tutorial/) and the Pierian-Data material that can be found [here][https://github.com/Pierian-Data/Complete-Python-3-Bootcamp]"
   ]
  },
  {
   "cell_type": "markdown",
   "metadata": {
    "id": "UR9wcyrdKJt6"
   },
   "source": [
    "\n",
    "*   **[SublimeText](https://www.sublimetext.com/)** with the [Anaconda extension](https://packagecontrol.io/packages/Anaconda) (check [this](http://damnwidget.github.io/anaconda/) out)\n",
    "    * Very light-weight\n",
    "    * Feature-Rich and has extensions\n",
    "    * Unlimited evaluation copy (not really free)\n",
    "*   **[VS Code](https://code.visualstudio.com/)** with the [Python extension](https://marketplace.visualstudio.com/items?itemName=ms-python.python)\n",
    "    * The same as SublimeText but a bit heavier and completely free\n",
    "    * Has more features and superb for debugging\n",
    "\n"
   ]
  },
  {
   "cell_type": "markdown",
   "metadata": {
    "id": "AnfieL3Ybd_j"
   },
   "source": [
    "## Python versions\n",
    "\n",
    "There are currently two different supported versions of Python; 2 and 3. For this class all code will use Python 3.\n",
    "\n",
    "You can check your Python version by running:"
   ]
  },
  {
   "cell_type": "code",
   "execution_count": null,
   "metadata": {
    "id": "u8SRGOtubxTG"
   },
   "outputs": [],
   "source": [
    "!python --version"
   ]
  },
  {
   "cell_type": "markdown",
   "metadata": {
    "id": "Lo9PcM5emF2a"
   },
   "source": [
    "## Printing\n"
   ]
  },
  {
   "cell_type": "code",
   "execution_count": 1,
   "metadata": {
    "id": "qu_0A-LbmF2a"
   },
   "outputs": [
    {
     "name": "stdout",
     "output_type": "stream",
     "text": [
      "hello world!\n",
      "3\n"
     ]
    }
   ],
   "source": [
    "print('hello world!')\n",
    "x=3\n",
    "print(x)"
   ]
  },
  {
   "cell_type": "markdown",
   "metadata": {
    "id": "HImPBT2zb1_E"
   },
   "source": [
    "## Basic data types\n",
    "\n",
    "Like most languages, Python has a number of basic types including integers, floats, booleans, and strings. These data types behave in ways that are familiar from other programming languages."
   ]
  },
  {
   "cell_type": "markdown",
   "metadata": {
    "id": "hJQqIBMVeKkJ"
   },
   "source": [
    "### Numbers\n",
    "\n",
    "Integers and floats work as you would expect from other languages:"
   ]
  },
  {
   "cell_type": "code",
   "execution_count": 2,
   "metadata": {
    "id": "jAIopl82b6ie"
   },
   "outputs": [
    {
     "name": "stdout",
     "output_type": "stream",
     "text": [
      "<class 'int'>\n",
      "3\n",
      "4\n",
      "2\n",
      "6\n",
      "9\n",
      "4\n",
      "8\n",
      "<class 'float'>\n",
      "2.5 3.5 5.0 6.25\n"
     ]
    }
   ],
   "source": [
    "x = 3\n",
    "print(type(x)) # Prints \"<class 'int'>\"\n",
    "print(x)       # Prints \"3\"\n",
    "print(x + 1)   # Addition; prints \"4\"\n",
    "print(x - 1)   # Subtraction; prints \"2\"\n",
    "print(x * 2)   # Multiplication; prints \"6\"\n",
    "print(x ** 2)  # Exponentiation; prints \"9\"\n",
    "x += 1\n",
    "print(x)  # Prints \"4\"\n",
    "x *= 2\n",
    "print(x)  # Prints \"8\"\n",
    "y = 2.5\n",
    "print(type(y)) # Prints \"<class 'float'>\"\n",
    "print(y, y + 1, y * 2, y ** 2) # Prints \"2.5 3.5 5.0 6.25\""
   ]
  },
  {
   "cell_type": "code",
   "execution_count": null,
   "metadata": {
    "id": "kHQUOdwF0Tva"
   },
   "outputs": [],
   "source": [
    "x = 3.14\n",
    "y = 2.0\n",
    "print(x+y)\n",
    "print(x-y)\n",
    "print(x*y)\n",
    "print(x/y)\n",
    "\n",
    "print(x**2)\n",
    "print(x//2) #integer division"
   ]
  },
  {
   "cell_type": "code",
   "execution_count": null,
   "metadata": {
    "id": "HqI8ZXsJmF2b"
   },
   "outputs": [],
   "source": [
    "x = 3"
   ]
  },
  {
   "cell_type": "code",
   "execution_count": null,
   "metadata": {
    "id": "n0aU7vxImF2b"
   },
   "outputs": [],
   "source": [
    "x + 2"
   ]
  },
  {
   "cell_type": "code",
   "execution_count": null,
   "metadata": {
    "id": "rHZZRHa1mF2c"
   },
   "outputs": [],
   "source": [
    "x = 10\n",
    "print(x)\n",
    "print(x % 3)"
   ]
  },
  {
   "cell_type": "markdown",
   "metadata": {
    "id": "R_Vo-JrneaW3"
   },
   "source": [
    "### Booleans\n",
    "\n",
    "Python implements all of the usual operators for Boolean logic, but uses English words rather than symbols (`&&`, `||`, etc.):"
   ]
  },
  {
   "cell_type": "code",
   "execution_count": null,
   "metadata": {
    "id": "WnvoV2zHeyDf"
   },
   "outputs": [],
   "source": [
    "t = True\n",
    "f = False\n",
    "print(type(t)) # Prints \"<class 'bool'>\"\n",
    "print(t and f) # Logical AND; prints \"False\"\n",
    "print(t or f)  # Logical OR; prints \"True\"\n",
    "print(not t)   # Logical NOT; prints \"False\"\n",
    "print(t != f)  # Logical XOR; prints \"True\""
   ]
  },
  {
   "cell_type": "code",
   "execution_count": null,
   "metadata": {
    "id": "14p3PqEs1iDr"
   },
   "outputs": [],
   "source": [
    "t = False\n",
    "f = True\n",
    "\n",
    "print(not t)"
   ]
  },
  {
   "cell_type": "markdown",
   "metadata": {
    "id": "tVf-m2tFsL0b"
   },
   "source": [
    "Booleans are the results of comparisons like:"
   ]
  },
  {
   "cell_type": "code",
   "execution_count": null,
   "metadata": {
    "id": "0c7VS8aSsXoh"
   },
   "outputs": [],
   "source": [
    "a = 3\n",
    "b = 5\n",
    "c = 7\n",
    "print(a == a)     # Prints \"True\"\n",
    "print(a != a)     # Prints \"False\"\n",
    "print(a < b)      # Prints \"True\"\n",
    "print(a <= a)     # Prints \"True\"\n",
    "print(a <= b < c) # Prints \"True\"\n",
    "\n",
    "v = a==a"
   ]
  },
  {
   "cell_type": "code",
   "execution_count": null,
   "metadata": {
    "id": "9wXCfgac2QaJ"
   },
   "outputs": [],
   "source": [
    "a = 3\n",
    "b = 5\n",
    "c = 7\n",
    "print((a <= b) and (b < c))"
   ]
  },
  {
   "cell_type": "code",
   "execution_count": null,
   "metadata": {
    "id": "KDGMtTJ6mF2c"
   },
   "outputs": [],
   "source": [
    "print(type(v))"
   ]
  },
  {
   "cell_type": "markdown",
   "metadata": {
    "id": "DlNRMOZeUb8y"
   },
   "source": [
    "These are general comment for my understanding\n",
    "\n",
    "$$\\sum_1^10$$"
   ]
  },
  {
   "cell_type": "code",
   "execution_count": null,
   "metadata": {
    "id": "1xhxcJ8lUfou"
   },
   "outputs": [],
   "source": [
    "\n",
    "print(x)"
   ]
  },
  {
   "cell_type": "code",
   "execution_count": null,
   "metadata": {
    "id": "yQ_Qfa3eUtGk"
   },
   "outputs": [],
   "source": [
    "x = 10"
   ]
  },
  {
   "cell_type": "code",
   "execution_count": null,
   "metadata": {
    "id": "AR_zUUMlUuy4"
   },
   "outputs": [],
   "source": [
    "#comment \n",
    "\n",
    "# x = 9"
   ]
  },
  {
   "cell_type": "code",
   "execution_count": null,
   "metadata": {
    "id": "uGwenUZ2U5ez"
   },
   "outputs": [],
   "source": []
  }
 ],
 "metadata": {
  "colab": {
   "collapsed_sections": [],
   "name": "01-Numbers.ipynb",
   "private_outputs": true,
   "provenance": []
  },
  "kernelspec": {
   "display_name": "Python 3 (ipykernel)",
   "language": "python",
   "name": "python3"
  },
  "language_info": {
   "codemirror_mode": {
    "name": "ipython",
    "version": 3
   },
   "file_extension": ".py",
   "mimetype": "text/x-python",
   "name": "python",
   "nbconvert_exporter": "python",
   "pygments_lexer": "ipython3",
   "version": "3.9.12"
  }
 },
 "nbformat": 4,
 "nbformat_minor": 1
}
