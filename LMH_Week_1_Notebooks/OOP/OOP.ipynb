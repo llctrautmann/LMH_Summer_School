{
 "cells": [
  {
   "cell_type": "code",
   "execution_count": 5,
   "id": "7900e9b7",
   "metadata": {},
   "outputs": [
    {
     "name": "stdout",
     "output_type": "stream",
     "text": [
      "Naeem Khan\n"
     ]
    }
   ],
   "source": [
    "class Employee:\n",
    "    def __init__(self, fn, ln):\n",
    "        self.first_name=fn\n",
    "        self.last_name=ln\n",
    "\n",
    "staff1234=Employee('Naeem', 'Khan')\n",
    "print(staff1234.first_name, staff1234.last_name)"
   ]
  },
  {
   "cell_type": "code",
   "execution_count": 9,
   "id": "4987758f",
   "metadata": {},
   "outputs": [],
   "source": [
    "Employee.__doc__"
   ]
  },
  {
   "cell_type": "code",
   "execution_count": 12,
   "id": "3a2354d9",
   "metadata": {},
   "outputs": [
    {
     "name": "stdout",
     "output_type": "stream",
     "text": [
      "Naeem Khan\n",
      "Naeem Khan\n"
     ]
    }
   ],
   "source": [
    "class Employee:\n",
    "\n",
    "    def __init__(self, fn, ln):\n",
    "        self.first_name=fn \n",
    "        self.last_name=ln\n",
    "\n",
    "    def full_name(self):\n",
    "        return self.first_name+ ' '+self.last_name\n",
    "\n",
    "staff1234=Employee('Naeem', 'Khan') \n",
    "print(staff1234.first_name, staff1234.last_name) \n",
    "print(staff1234.full_name()) "
   ]
  },
  {
   "cell_type": "code",
   "execution_count": 14,
   "id": "20727a1d",
   "metadata": {},
   "outputs": [],
   "source": [
    "def full_name(first_name, last_name):\n",
    "    return first_name+ ' '+last_name"
   ]
  },
  {
   "cell_type": "code",
   "execution_count": 15,
   "id": "e5a227b5",
   "metadata": {},
   "outputs": [
    {
     "name": "stdout",
     "output_type": "stream",
     "text": [
      "Naeem Khan\n"
     ]
    }
   ],
   "source": [
    "print(full_name(staff1234.first_name,staff1234.last_name))"
   ]
  },
  {
   "cell_type": "code",
   "execution_count": 16,
   "id": "e0fee29a",
   "metadata": {},
   "outputs": [
    {
     "data": {
      "text/plain": [
       "type"
      ]
     },
     "execution_count": 16,
     "metadata": {},
     "output_type": "execute_result"
    }
   ],
   "source": [
    "Employee.__class__"
   ]
  }
 ],
 "metadata": {
  "kernelspec": {
   "display_name": "Summer_School",
   "language": "python",
   "name": "summer_school"
  },
  "language_info": {
   "codemirror_mode": {
    "name": "ipython",
    "version": 3
   },
   "file_extension": ".py",
   "mimetype": "text/x-python",
   "name": "python",
   "nbconvert_exporter": "python",
   "pygments_lexer": "ipython3",
   "version": "3.10.0"
  }
 },
 "nbformat": 4,
 "nbformat_minor": 5
}
