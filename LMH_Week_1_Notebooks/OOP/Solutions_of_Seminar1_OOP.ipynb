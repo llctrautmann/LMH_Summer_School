{
  "cells": [
    {
      "cell_type": "markdown",
      "metadata": {
        "id": "T0DWkiBFxco5"
      },
      "source": [
        "## Object Oriented Programming"
      ]
    },
    {
      "cell_type": "markdown",
      "metadata": {
        "id": "Vx0Lx4jkxe8a"
      },
      "source": [
        "As was discussed earlier in the lecture, we would like to create \"GridWorld\" which is defined by specific limits, centers and radii of circles. The idea is that in GridWorld is an N-dimensional space which is bound by some user defined limits (think of this as an N-dimensional box which you want to fit spheres into). The user enters the center and the radius of the N-dimensional spehere they would like to add to the GridWorld. The sphere can only be fit into GridWorld if:\n",
        "\n",
        "\n",
        "\n",
        "1.   **Condition 1:** The sphere does not go outside the limits of the GridWorld, e.g a sphere cannot be fit into a 3D box if its to be placed outside the borders of the box.\n",
        "2.   **Condition 2:** The sphere does not intersect with any other sphere in the box. Think of the sphere as a solid object, like a ball, and you're fitting it into a basket, if the area is already occupied by another ball the new ball cannot be placed!\n",
        "\n"
      ]
    },
    {
      "cell_type": "code",
      "source": [
        "s1_att = 9\n",
        "s1_marks = 8\n",
        "s1_part = 7\n",
        "\n",
        "\n",
        "s2_att = 5\n",
        "s2_marks = 9\n",
        "s2_part = 8\n",
        "\n",
        "\n",
        "s3_att = 10\n",
        "s3_marks = 10\n",
        "s3_part = 8\n",
        "\n",
        "\n",
        "\n",
        "\n",
        "\n",
        "def get_grade(att, marks, part):\n",
        "  grade = 0.8*marks + 0.2*part\n",
        "  diff = 10 - att\n",
        "  diff = diff//2\n",
        "  grade -= diff\n",
        "  return grade//1\n",
        "\n",
        "\n",
        "\n",
        "s1_grade = get_grade(s1_att, s1_marks, s1_part)\n",
        "s2_grade = get_grade(s2_att, s2_marks, s2_part)\n",
        "s3_grade = get_grade(s3_att, s3_marks, s3_part)\n",
        "\n",
        "print(s1_grade, s2_grade, s3_grade)\n"
      ],
      "metadata": {
        "colab": {
          "base_uri": "https://localhost:8080/"
        },
        "id": "6uK-rbp_0gZJ",
        "outputId": "63ca5f5a-5753-4327-da25-42eaf32be7fb"
      },
      "execution_count": null,
      "outputs": [
        {
          "output_type": "stream",
          "name": "stdout",
          "text": [
            "7.0 6.0 9.0\n"
          ]
        }
      ]
    },
    {
      "cell_type": "code",
      "source": [
        "class student:\n",
        "  def __init__(self, att, marks, part):\n",
        "    self.att = att #s1.att = 9\n",
        "    self.marks = marks # s1.marks=8\n",
        "    self.part = part #s1.part =7\n",
        "\n",
        "\n",
        "  def get_grade(self):\n",
        "    self.grade = 0.8*self.marks + 0.2*self.part\n",
        "    diff = 10 - self.att\n",
        "    diff = diff//2\n",
        "    self.grade -= diff\n",
        "    self.grade=self.grade//1\n",
        "    return self.grade\n",
        "\n",
        "\n",
        "s1 = student(9,8,7)\n",
        "print(s1.get_grade())\n",
        "\n",
        "s2 = student(5,9,8)\n",
        "print(s2.get_grade())\n",
        "\n",
        "s3 = student(10,10,7)\n",
        "print(s3.get_grade())\n",
        "\n",
        "s4 = student(5,5,6)\n",
        "print(s4.get_grade())\n"
      ],
      "metadata": {
        "colab": {
          "base_uri": "https://localhost:8080/"
        },
        "id": "yq9GvpLe1pGF",
        "outputId": "3c8c2003-8e4b-48ea-9643-edb2491c9895"
      },
      "execution_count": null,
      "outputs": [
        {
          "output_type": "stream",
          "name": "stdout",
          "text": [
            "7.0\n",
            "6.0\n",
            "9.0\n",
            "3.0\n"
          ]
        }
      ]
    },
    {
      "cell_type": "code",
      "source": [
        "class Grid_World:\n",
        "  def __init__(self, xmax, ymax):\n",
        "    self.xmax = xmax\n",
        "    self.ymax = ymax\n",
        "    self.circles = []\n",
        "\n",
        "\n",
        "  def place_circle(self,xc,yc,rc):\n",
        "    flag = True\n",
        "    #first check that circle is containd in grid_world\n",
        "    if (xc+rc>self.xmax) or (xc-rc<0) or (yc +rc >self.ymax) or (yc-rc<0):\n",
        "      print(\"False\")\n",
        "      return\n",
        "\n",
        "\n",
        "    for circle in self.circles:\n",
        "      if (xc-circle[0])**2 + (yc - circle[1])**2  < (circle[2]+ rc)**2:\n",
        "        print(\"Flase\")\n",
        "        return\n",
        "\n",
        "\n",
        "    if flag==True:\n",
        "      self.circles.append((xc,yc,rc))\n",
        "      print(\"True\")\n",
        "\n",
        "    return\n",
        "\n",
        "\n",
        "\n",
        "\n",
        "\n"
      ],
      "metadata": {
        "id": "UVeTEN801tBv"
      },
      "execution_count": null,
      "outputs": []
    },
    {
      "cell_type": "code",
      "source": [
        "w1 = Grid_World((5,6,7,8))\n",
        "w1.place_circle(8,8,5)\n"
      ],
      "metadata": {
        "colab": {
          "base_uri": "https://localhost:8080/"
        },
        "id": "DMrEvNZ_9SQZ",
        "outputId": "c1b0f49a-a59a-4da3-88eb-a36ac291a1e5"
      },
      "execution_count": null,
      "outputs": [
        {
          "output_type": "stream",
          "name": "stdout",
          "text": [
            "False\n"
          ]
        }
      ]
    },
    {
      "cell_type": "code",
      "source": [
        "w1.place_circle(8,8,1)\n"
      ],
      "metadata": {
        "colab": {
          "base_uri": "https://localhost:8080/"
        },
        "id": "FgTZhaVQ9Z4-",
        "outputId": "c0bac7c4-fa10-44f2-dd78-c74c764e4602"
      },
      "execution_count": null,
      "outputs": [
        {
          "output_type": "stream",
          "name": "stdout",
          "text": [
            "True\n"
          ]
        }
      ]
    },
    {
      "cell_type": "code",
      "source": [
        "w1.place_circle(8,8,1)"
      ],
      "metadata": {
        "colab": {
          "base_uri": "https://localhost:8080/"
        },
        "id": "S_kkxRdN9swV",
        "outputId": "63569159-1506-4ff4-fd8c-a90e00e1791f"
      },
      "execution_count": null,
      "outputs": [
        {
          "output_type": "stream",
          "name": "stdout",
          "text": [
            "Flase\n"
          ]
        }
      ]
    },
    {
      "cell_type": "code",
      "source": [
        "w1.place_circle(5,5,1)"
      ],
      "metadata": {
        "colab": {
          "base_uri": "https://localhost:8080/"
        },
        "id": "fduZXiqM95M3",
        "outputId": "023936bd-6ab5-4439-9294-d4408e1b41e2"
      },
      "execution_count": null,
      "outputs": [
        {
          "output_type": "stream",
          "name": "stdout",
          "text": [
            "True\n"
          ]
        }
      ]
    },
    {
      "cell_type": "code",
      "source": [
        "w1.place_circle(6.5,6.5,.1)"
      ],
      "metadata": {
        "colab": {
          "base_uri": "https://localhost:8080/"
        },
        "id": "EL3L3FS09-8t",
        "outputId": "99b4a8c7-b526-4593-eace-8ceaf19b409b"
      },
      "execution_count": null,
      "outputs": [
        {
          "output_type": "stream",
          "name": "stdout",
          "text": [
            "True\n"
          ]
        }
      ]
    },
    {
      "cell_type": "code",
      "source": [
        "w1.place_circle(3.4,3.4,2)"
      ],
      "metadata": {
        "colab": {
          "base_uri": "https://localhost:8080/"
        },
        "id": "4XeXYf4V-Hvw",
        "outputId": "8b1c8d1c-2829-4c4e-dccb-71be03d57ddc"
      },
      "execution_count": null,
      "outputs": [
        {
          "output_type": "stream",
          "name": "stdout",
          "text": [
            "Flase\n"
          ]
        }
      ]
    },
    {
      "cell_type": "markdown",
      "source": [
        ""
      ],
      "metadata": {
        "id": "LGUrL3-h94iD"
      }
    },
    {
      "cell_type": "code",
      "source": [
        "import numpy as np\n",
        "class Grid_World:\n",
        "  def __init__(self, dmax):\n",
        "    self.dmax = dmax\n",
        "    self.spheres = []  # (sc, sr)\n",
        "\n",
        "\n",
        "  def place_spheres(self,sc,sr):\n",
        "    flag = True\n",
        "    #first check that circle is containd in grid_world\n",
        "    if max(np.array(sc)+sr-np.array(self.dmax))>0 or min(np.array(sc)-sr)<0:\n",
        "      print(\"False\")\n",
        "      return\n",
        "\n",
        "\n",
        "    for sphere in self.spheres:\n",
        "      if sum((np.array(sphere[0])-np.array(sc))**2)  < (sphere[1]+ sr)**2:\n",
        "        print(\"Flase\")\n",
        "        return\n",
        "\n",
        "\n",
        "    if flag==True:\n",
        "      self.spheres.append((sc,sr))\n",
        "      print(\"True\")\n",
        "\n",
        "    return\n",
        "\n",
        "\n",
        "\n",
        "\n",
        "\n"
      ],
      "metadata": {
        "id": "yicR7_fK-nEg"
      },
      "execution_count": null,
      "outputs": []
    },
    {
      "cell_type": "code",
      "source": [
        "w1 = Grid_World([5,6,7,8])\n",
        "w1.place_spheres([2,2,2,2],1)\n",
        "\n",
        "w1.place_spheres([2,2,2,2],1)"
      ],
      "metadata": {
        "colab": {
          "base_uri": "https://localhost:8080/"
        },
        "id": "BrNlLXIjBksp",
        "outputId": "bc1aa5e9-1299-4b34-fc33-094743cc8ba0"
      },
      "execution_count": null,
      "outputs": [
        {
          "output_type": "stream",
          "name": "stdout",
          "text": [
            "True\n",
            "Flase\n"
          ]
        }
      ]
    },
    {
      "cell_type": "code",
      "source": [
        ""
      ],
      "metadata": {
        "id": "Q55mSjThB3DU"
      },
      "execution_count": null,
      "outputs": []
    }
  ],
  "metadata": {
    "colab": {
      "collapsed_sections": [],
      "name": "Solutions of Seminar1_OOP.ipynb",
      "provenance": []
    },
    "gpuClass": "standard",
    "kernelspec": {
      "display_name": "Python 3 (ipykernel)",
      "language": "python",
      "name": "python3"
    },
    "language_info": {
      "codemirror_mode": {
        "name": "ipython",
        "version": 3
      },
      "file_extension": ".py",
      "mimetype": "text/x-python",
      "name": "python",
      "nbconvert_exporter": "python",
      "pygments_lexer": "ipython3",
      "version": "3.9.7"
    }
  },
  "nbformat": 4,
  "nbformat_minor": 0
}