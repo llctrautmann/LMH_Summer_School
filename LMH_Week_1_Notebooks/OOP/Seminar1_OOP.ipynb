{
 "cells": [
  {
   "cell_type": "markdown",
   "metadata": {
    "id": "T0DWkiBFxco5"
   },
   "source": [
    "## Object Oriented Programming"
   ]
  },
  {
   "cell_type": "markdown",
   "metadata": {
    "id": "Vx0Lx4jkxe8a"
   },
   "source": [
    "As was discussed earlier in the lecture, we would like to create \"GridWorld\" which is defined by specific limits, centers and radii of circles. The idea is that in GridWorld is an N-dimensional space which is bound by some user defined limits (think of this as an N-dimensional box which you want to fit spheres into). The user enters the center and the radius of the N-dimensional spehere they would like to add to the GridWorld. The sphere can only be fit into GridWorld if:\n",
    "\n",
    "\n",
    "\n",
    "1.   **Condition 1:** The sphere does not go outside the limits of the GridWorld, e.g a sphere cannot be fit into a 3D box if its to be placed outside the borders of the box.\n",
    "2.   **Condition 2:** The sphere does not intersect with any other sphere in the box. Think of the sphere as a solid object, like a ball, and you're fitting it into a basket, if the area is already occupied by another ball the new ball cannot be placed!\n",
    "\n"
   ]
  },
  {
   "cell_type": "code",
   "execution_count": 1,
   "metadata": {},
   "outputs": [],
   "source": [
    "class Person:\n",
    "    def __init__(self, age, name, occupation):\n",
    "        self.age = age\n",
    "        self.name = name\n",
    "        self.occupation = occupation\n",
    "        \n",
    "    def get_name(self):\n",
    "        return self.name.capitalize()\n",
    "    \n",
    "joe_object = Person(55, \"joe\", \"Scienctist\")"
   ]
  },
  {
   "cell_type": "code",
   "execution_count": 2,
   "metadata": {},
   "outputs": [
    {
     "data": {
      "text/plain": [
       "'joe'"
      ]
     },
     "execution_count": 2,
     "metadata": {},
     "output_type": "execute_result"
    }
   ],
   "source": [
    "joe_object.name"
   ]
  },
  {
   "cell_type": "markdown",
   "metadata": {},
   "source": [
    "Inherting form a class"
   ]
  },
  {
   "cell_type": "code",
   "execution_count": null,
   "metadata": {},
   "outputs": [],
   "source": [
    "class Student(Person):\n",
    "    def __init__(self, age, name, grades):\n",
    "        super().__init__(age,name)\n",
    "        self.grades = grades\n",
    "    "
   ]
  },
  {
   "cell_type": "markdown",
   "metadata": {},
   "source": [
    "Solution to the workbook problemset"
   ]
  },
  {
   "cell_type": "code",
   "execution_count": null,
   "metadata": {},
   "outputs": [],
   "source": []
  }
 ],
 "metadata": {
  "colab": {
   "collapsed_sections": [],
   "name": "Seminar1_OOP.ipynb",
   "provenance": []
  },
  "gpuClass": "standard",
  "kernelspec": {
   "display_name": "Python 3 (ipykernel)",
   "language": "python",
   "name": "python3"
  },
  "language_info": {
   "codemirror_mode": {
    "name": "ipython",
    "version": 3
   },
   "file_extension": ".py",
   "mimetype": "text/x-python",
   "name": "python",
   "nbconvert_exporter": "python",
   "pygments_lexer": "ipython3",
   "version": "3.9.12"
  }
 },
 "nbformat": 4,
 "nbformat_minor": 1
}
