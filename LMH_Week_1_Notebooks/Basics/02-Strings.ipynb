{
 "cells": [
  {
   "cell_type": "markdown",
   "metadata": {
    "id": "fcA0JNYv5V2R"
   },
   "source": [
    "# Strings"
   ]
  },
  {
   "cell_type": "markdown",
   "metadata": {
    "id": "8fASZtZw5V2Z"
   },
   "source": [
    "Strings are used in Python to record text information, such as names. Strings in Python are actually a *sequence*, which basically means Python keeps track of every element in the string as a sequence. For example, Python understands the string \"hello' to be a sequence of letters in a specific order. This means we will be able to use indexing to grab particular letters (like the first letter, or the last letter).\n",
    "\n",
    "This idea of a sequence is an important one in Python and we will touch upon it later on in the future.\n",
    "\n",
    "In this lecture we'll learn about the following:\n",
    "\n",
    "    1.) Creating Strings\n",
    "    2.) Printing Strings\n",
    "    3.) String Indexing and Slicing\n",
    "    4.) String Properties\n",
    "    5.) String Methods\n",
    "    6.) Print Formatting"
   ]
  },
  {
   "cell_type": "markdown",
   "metadata": {
    "id": "KRdcLp7i5V2a"
   },
   "source": [
    "## Creating a String\n",
    "To create a string in Python you need to use either single quotes or double quotes. For example:"
   ]
  },
  {
   "cell_type": "code",
   "execution_count": null,
   "metadata": {
    "colab": {
     "base_uri": "https://localhost:8080/"
    },
    "executionInfo": {
     "elapsed": 10,
     "status": "ok",
     "timestamp": 1647521163232,
     "user": {
      "displayName": "Naeemullah Khan",
      "photoUrl": "https://lh3.googleusercontent.com/a/default-user=s64",
      "userId": "18307185785900481812"
     },
     "user_tz": 0
    },
    "id": "EJc5SSPw5V2c",
    "outputId": "490fe958-0fd5-4bfb-8214-9dc2705f49e9"
   },
   "outputs": [
    {
     "name": "stdout",
     "output_type": "stream",
     "text": [
      "<class 'str'>\n",
      "he said, 'I am a good boy',\n"
     ]
    }
   ],
   "source": [
    "# Single word\n",
    "x=\"hello, I love Python Programming\"\n",
    "y='c'\n",
    "print(type(y))\n",
    "\n",
    "#he said, \"I am a good boy\",\n",
    "\n",
    "x= \"he said, 'I am a good boy',\"\n",
    "print(x)"
   ]
  },
  {
   "cell_type": "code",
   "execution_count": null,
   "metadata": {
    "id": "GBD4-MDI5V2e",
    "outputId": "dabaa0d9-1a09-4ddf-e0e3-96f490525db1"
   },
   "outputs": [
    {
     "data": {
      "text/plain": [
       "'This is also a string'"
      ]
     },
     "execution_count": 2,
     "metadata": {},
     "output_type": "execute_result"
    }
   ],
   "source": [
    "# Entire phrase \n",
    "'This is also a string'"
   ]
  },
  {
   "cell_type": "code",
   "execution_count": null,
   "metadata": {
    "id": "k1ZcqUZW5V2f",
    "outputId": "53b83bf2-4a27-43f1-f3f7-a93dc9daec8d"
   },
   "outputs": [
    {
     "data": {
      "text/plain": [
       "'String built with double quotes'"
      ]
     },
     "execution_count": 3,
     "metadata": {},
     "output_type": "execute_result"
    }
   ],
   "source": [
    "# We can also use double quote\n",
    "\"String built with double quotes\""
   ]
  },
  {
   "cell_type": "code",
   "execution_count": null,
   "metadata": {
    "id": "Mqou0oah5V2h",
    "outputId": "018455cf-4a6c-4519-8c32-51d199030085"
   },
   "outputs": [
    {
     "ename": "SyntaxError",
     "evalue": "invalid syntax (<ipython-input-4-da9a34b3dc31>, line 2)",
     "output_type": "error",
     "traceback": [
      "\u001b[1;36m  File \u001b[1;32m\"<ipython-input-4-da9a34b3dc31>\"\u001b[1;36m, line \u001b[1;32m2\u001b[0m\n\u001b[1;33m    ' I'm using single quotes, but this will create an error'\u001b[0m\n\u001b[1;37m        ^\u001b[0m\n\u001b[1;31mSyntaxError\u001b[0m\u001b[1;31m:\u001b[0m invalid syntax\n"
     ]
    }
   ],
   "source": [
    "# Be careful with quotes!\n",
    "' I'm using single quotes, but this will create an error'"
   ]
  },
  {
   "cell_type": "markdown",
   "metadata": {
    "id": "GgOFJtNg5V2i"
   },
   "source": [
    "The reason for the error above is because the single quote in <code>I'm</code> stopped the string. You can use combinations of double and single quotes to get the complete statement."
   ]
  },
  {
   "cell_type": "code",
   "execution_count": null,
   "metadata": {
    "id": "_tDgS25P5V2j",
    "outputId": "aa821436-d846-4bc1-f602-56ab6ec818df"
   },
   "outputs": [
    {
     "data": {
      "text/plain": [
       "\"Now I'm ready to use the single quotes inside a string!\""
      ]
     },
     "execution_count": 5,
     "metadata": {},
     "output_type": "execute_result"
    }
   ],
   "source": [
    "\"Now I'm ready to use the single quotes inside a string!\""
   ]
  },
  {
   "cell_type": "markdown",
   "metadata": {
    "id": "cTjnBeQf5V2k"
   },
   "source": [
    "Now let's learn about printing strings!"
   ]
  },
  {
   "cell_type": "markdown",
   "metadata": {
    "id": "e7Qz87Ym5V2k"
   },
   "source": [
    "## Printing a String\n",
    "\n",
    "Using Jupyter notebook with just a string in a cell will automatically output strings, but the correct way to display strings in your output is by using a print function."
   ]
  },
  {
   "cell_type": "code",
   "execution_count": null,
   "metadata": {
    "id": "Fkqi51O45V2l",
    "outputId": "6c317e7d-335b-448c-f0c4-ee285ecd9b1a"
   },
   "outputs": [
    {
     "data": {
      "text/plain": [
       "'Hello World'"
      ]
     },
     "execution_count": 6,
     "metadata": {},
     "output_type": "execute_result"
    }
   ],
   "source": [
    "# We can simply declare a string\n",
    "'Hello World'"
   ]
  },
  {
   "cell_type": "code",
   "execution_count": null,
   "metadata": {
    "id": "WtIITgl05V2m",
    "outputId": "3e2c0836-999a-42dc-f8ce-fa2ce9c17488"
   },
   "outputs": [
    {
     "data": {
      "text/plain": [
       "'Hello World 2'"
      ]
     },
     "execution_count": 7,
     "metadata": {},
     "output_type": "execute_result"
    }
   ],
   "source": [
    "# Note that we can't output multiple strings this way\n",
    "'Hello World 1'\n",
    "'Hello World 2'"
   ]
  },
  {
   "cell_type": "code",
   "execution_count": null,
   "metadata": {
    "colab": {
     "base_uri": "https://localhost:8080/"
    },
    "executionInfo": {
     "elapsed": 216,
     "status": "ok",
     "timestamp": 1647521277110,
     "user": {
      "displayName": "Naeemullah Khan",
      "photoUrl": "https://lh3.googleusercontent.com/a/default-user=s64",
      "userId": "18307185785900481812"
     },
     "user_tz": 0
    },
    "id": "MCo3aDXp6j6j",
    "outputId": "a2ce656e-4d0e-4761-c76e-fa230912072c"
   },
   "outputs": [
    {
     "name": "stdout",
     "output_type": "stream",
     "text": [
      "student 1 \t \t student 2\n"
     ]
    }
   ],
   "source": [
    "x=\"student 1 \\t \\t\"\n",
    "y=\"student 2\"\n",
    "print(x, y)"
   ]
  },
  {
   "cell_type": "markdown",
   "metadata": {
    "id": "JQPlFYam5V2m"
   },
   "source": [
    "We can use a print statement to print a string."
   ]
  },
  {
   "cell_type": "code",
   "execution_count": null,
   "metadata": {
    "id": "Cpkd8rGt5V2m",
    "outputId": "cc0386fe-7bd8-45b2-aa97-d107740ba03e"
   },
   "outputs": [
    {
     "name": "stdout",
     "output_type": "stream",
     "text": [
      "Hello World 1\n",
      "Hello World 2\n",
      "Use \n",
      " to print a new line\n",
      "\n",
      "\n",
      "See what I mean?\n"
     ]
    }
   ],
   "source": [
    "print('Hello World 1')\n",
    "print('Hello World 2')\n",
    "print('Use \\n to print a new line')\n",
    "print('\\n')\n",
    "print('See what I mean?')"
   ]
  },
  {
   "cell_type": "code",
   "execution_count": null,
   "metadata": {
    "colab": {
     "base_uri": "https://localhost:8080/"
    },
    "executionInfo": {
     "elapsed": 233,
     "status": "ok",
     "timestamp": 1647521339142,
     "user": {
      "displayName": "Naeemullah Khan",
      "photoUrl": "https://lh3.googleusercontent.com/a/default-user=s64",
      "userId": "18307185785900481812"
     },
     "user_tz": 0
    },
    "id": "JKgDAZAc6-oR",
    "outputId": "d19ebb28-f981-4ed7-f7e1-b4236f9f7c67"
   },
   "outputs": [
    {
     "data": {
      "text/plain": [
       "16"
      ]
     },
     "execution_count": 13,
     "metadata": {},
     "output_type": "execute_result"
    }
   ],
   "source": [
    "len(\"Hello This is me\")"
   ]
  },
  {
   "cell_type": "code",
   "execution_count": null,
   "metadata": {
    "colab": {
     "base_uri": "https://localhost:8080/"
    },
    "executionInfo": {
     "elapsed": 397,
     "status": "ok",
     "timestamp": 1647521446341,
     "user": {
      "displayName": "Naeemullah Khan",
      "photoUrl": "https://lh3.googleusercontent.com/a/default-user=s64",
      "userId": "18307185785900481812"
     },
     "user_tz": 0
    },
    "id": "yb6pfKMv7UmF",
    "outputId": "2fd52aa9-104a-4b7a-e727-54f710c85882"
   },
   "outputs": [
    {
     "name": "stdout",
     "output_type": "stream",
     "text": [
      "you are fine\n"
     ]
    }
   ],
   "source": [
    "x=\"This is the\"\n",
    "\n",
    "if (len(x)>15):\n",
    "  print(\"you are over the limit of 15 characters\")\n",
    "\n",
    "else:\n",
    "  print(\"you are fine\")\n",
    "\n"
   ]
  },
  {
   "cell_type": "markdown",
   "metadata": {
    "id": "8HbPjilg5V2n"
   },
   "source": [
    "## String Basics"
   ]
  },
  {
   "cell_type": "markdown",
   "metadata": {
    "id": "QE9e7-vx5V2n"
   },
   "source": [
    "We can also use a function called len() to check the length of a string!"
   ]
  },
  {
   "cell_type": "code",
   "execution_count": null,
   "metadata": {
    "id": "sIFC75rO5V2o",
    "outputId": "2cbb2f72-0314-41f3-bb69-6a560307edd5"
   },
   "outputs": [
    {
     "data": {
      "text/plain": [
       "11"
      ]
     },
     "execution_count": 9,
     "metadata": {},
     "output_type": "execute_result"
    }
   ],
   "source": [
    "len('Hello World')"
   ]
  },
  {
   "cell_type": "markdown",
   "metadata": {
    "id": "kqsAbl095V2o"
   },
   "source": [
    "Python's built-in len() function counts all of the characters in the string, including spaces and punctuation."
   ]
  },
  {
   "cell_type": "markdown",
   "metadata": {
    "id": "VKF2LM845V2p"
   },
   "source": [
    "## String Indexing\n",
    "We know strings are a sequence, which means Python can use indexes to call parts of the sequence. Let's learn how this works.\n",
    "\n",
    "In Python, we use brackets <code>[]</code> after an object to call its index. We should also note that indexing starts at 0 for Python. Let's create a new object called <code>s</code> and then walk through a few examples of indexing."
   ]
  },
  {
   "cell_type": "code",
   "execution_count": null,
   "metadata": {
    "collapsed": true,
    "id": "DuKEKuuu5V2p"
   },
   "outputs": [],
   "source": [
    "# Assign s as a string\n",
    "s = 'Hello World'"
   ]
  },
  {
   "cell_type": "code",
   "execution_count": null,
   "metadata": {
    "colab": {
     "base_uri": "https://localhost:8080/",
     "height": 35
    },
    "executionInfo": {
     "elapsed": 53,
     "status": "ok",
     "timestamp": 1647521457143,
     "user": {
      "displayName": "Naeemullah Khan",
      "photoUrl": "https://lh3.googleusercontent.com/a/default-user=s64",
      "userId": "18307185785900481812"
     },
     "user_tz": 0
    },
    "id": "bo-Khw7O5V2p",
    "outputId": "3baa36cd-8777-44fb-c5e0-9e82a20e020d"
   },
   "outputs": [
    {
     "data": {
      "application/vnd.google.colaboratory.intrinsic+json": {
       "type": "string"
      },
      "text/plain": [
       "'Hello World'"
      ]
     },
     "execution_count": 19,
     "metadata": {},
     "output_type": "execute_result"
    }
   ],
   "source": [
    "#Check\n",
    "s"
   ]
  },
  {
   "cell_type": "code",
   "execution_count": null,
   "metadata": {
    "colab": {
     "base_uri": "https://localhost:8080/"
    },
    "executionInfo": {
     "elapsed": 50,
     "status": "ok",
     "timestamp": 1647521457144,
     "user": {
      "displayName": "Naeemullah Khan",
      "photoUrl": "https://lh3.googleusercontent.com/a/default-user=s64",
      "userId": "18307185785900481812"
     },
     "user_tz": 0
    },
    "id": "wFQ14tgi5V2q",
    "outputId": "7ea66386-4649-4ec2-cbf0-5fb275f9268c"
   },
   "outputs": [
    {
     "name": "stdout",
     "output_type": "stream",
     "text": [
      "Hello World\n"
     ]
    }
   ],
   "source": [
    "# Print the object\n",
    "print(s) "
   ]
  },
  {
   "cell_type": "markdown",
   "metadata": {
    "id": "o5VYvw535V2q"
   },
   "source": [
    "Let's start indexing!"
   ]
  },
  {
   "cell_type": "code",
   "execution_count": null,
   "metadata": {
    "colab": {
     "base_uri": "https://localhost:8080/",
     "height": 35
    },
    "executionInfo": {
     "elapsed": 51,
     "status": "ok",
     "timestamp": 1647521457146,
     "user": {
      "displayName": "Naeemullah Khan",
      "photoUrl": "https://lh3.googleusercontent.com/a/default-user=s64",
      "userId": "18307185785900481812"
     },
     "user_tz": 0
    },
    "id": "u9ZzcaQu5V2q",
    "outputId": "759426de-f43c-4dfc-95c4-e70ae298c32d"
   },
   "outputs": [
    {
     "data": {
      "application/vnd.google.colaboratory.intrinsic+json": {
       "type": "string"
      },
      "text/plain": [
       "'H'"
      ]
     },
     "execution_count": 21,
     "metadata": {},
     "output_type": "execute_result"
    }
   ],
   "source": [
    "# Show first element (in this case a letter)\n",
    "s[0]"
   ]
  },
  {
   "cell_type": "code",
   "execution_count": null,
   "metadata": {
    "colab": {
     "base_uri": "https://localhost:8080/",
     "height": 35
    },
    "executionInfo": {
     "elapsed": 47,
     "status": "ok",
     "timestamp": 1647521457147,
     "user": {
      "displayName": "Naeemullah Khan",
      "photoUrl": "https://lh3.googleusercontent.com/a/default-user=s64",
      "userId": "18307185785900481812"
     },
     "user_tz": 0
    },
    "id": "T4mIhT1G5V2r",
    "outputId": "6a128831-6c47-491d-e5ce-3b4e9a526640"
   },
   "outputs": [
    {
     "data": {
      "application/vnd.google.colaboratory.intrinsic+json": {
       "type": "string"
      },
      "text/plain": [
       "'e'"
      ]
     },
     "execution_count": 22,
     "metadata": {},
     "output_type": "execute_result"
    }
   ],
   "source": [
    "s[1]"
   ]
  },
  {
   "cell_type": "code",
   "execution_count": null,
   "metadata": {
    "colab": {
     "base_uri": "https://localhost:8080/",
     "height": 35
    },
    "executionInfo": {
     "elapsed": 47,
     "status": "ok",
     "timestamp": 1647521457149,
     "user": {
      "displayName": "Naeemullah Khan",
      "photoUrl": "https://lh3.googleusercontent.com/a/default-user=s64",
      "userId": "18307185785900481812"
     },
     "user_tz": 0
    },
    "id": "e_pQVWIo5V2r",
    "outputId": "6a24d06e-8b08-493a-df41-11a6af6916e6"
   },
   "outputs": [
    {
     "data": {
      "application/vnd.google.colaboratory.intrinsic+json": {
       "type": "string"
      },
      "text/plain": [
       "'l'"
      ]
     },
     "execution_count": 23,
     "metadata": {},
     "output_type": "execute_result"
    }
   ],
   "source": [
    "s[2]"
   ]
  },
  {
   "cell_type": "markdown",
   "metadata": {
    "id": "Gd2IMGoy5V2r"
   },
   "source": [
    "We can use a <code>:</code> to perform *slicing* which grabs everything up to a designated point. For example:"
   ]
  },
  {
   "cell_type": "code",
   "execution_count": null,
   "metadata": {
    "colab": {
     "base_uri": "https://localhost:8080/",
     "height": 35
    },
    "executionInfo": {
     "elapsed": 47,
     "status": "ok",
     "timestamp": 1647521457150,
     "user": {
      "displayName": "Naeemullah Khan",
      "photoUrl": "https://lh3.googleusercontent.com/a/default-user=s64",
      "userId": "18307185785900481812"
     },
     "user_tz": 0
    },
    "id": "xYOIjP7u5V2s",
    "outputId": "f34c3a78-9b54-4cd9-c36d-323eca9a5597"
   },
   "outputs": [
    {
     "data": {
      "application/vnd.google.colaboratory.intrinsic+json": {
       "type": "string"
      },
      "text/plain": [
       "'ello World'"
      ]
     },
     "execution_count": 24,
     "metadata": {},
     "output_type": "execute_result"
    }
   ],
   "source": [
    "# Grab everything past the first term all the way to the length of s which is len(s)\n",
    "s[1:]"
   ]
  },
  {
   "cell_type": "code",
   "execution_count": null,
   "metadata": {
    "colab": {
     "base_uri": "https://localhost:8080/",
     "height": 35
    },
    "executionInfo": {
     "elapsed": 46,
     "status": "ok",
     "timestamp": 1647521457151,
     "user": {
      "displayName": "Naeemullah Khan",
      "photoUrl": "https://lh3.googleusercontent.com/a/default-user=s64",
      "userId": "18307185785900481812"
     },
     "user_tz": 0
    },
    "id": "eTLlrNvg5V2t",
    "outputId": "78e0debd-71a6-44fc-9a15-41b36b85ecf7"
   },
   "outputs": [
    {
     "data": {
      "application/vnd.google.colaboratory.intrinsic+json": {
       "type": "string"
      },
      "text/plain": [
       "'Hello World'"
      ]
     },
     "execution_count": 25,
     "metadata": {},
     "output_type": "execute_result"
    }
   ],
   "source": [
    "# Note that there is no change to the original s\n",
    "s"
   ]
  },
  {
   "cell_type": "code",
   "execution_count": null,
   "metadata": {
    "colab": {
     "base_uri": "https://localhost:8080/",
     "height": 35
    },
    "executionInfo": {
     "elapsed": 45,
     "status": "ok",
     "timestamp": 1647521457151,
     "user": {
      "displayName": "Naeemullah Khan",
      "photoUrl": "https://lh3.googleusercontent.com/a/default-user=s64",
      "userId": "18307185785900481812"
     },
     "user_tz": 0
    },
    "id": "ya2ag8DH5V2t",
    "outputId": "93d0113f-0716-4155-cc5c-c48edec03f71"
   },
   "outputs": [
    {
     "data": {
      "application/vnd.google.colaboratory.intrinsic+json": {
       "type": "string"
      },
      "text/plain": [
       "'Hel'"
      ]
     },
     "execution_count": 26,
     "metadata": {},
     "output_type": "execute_result"
    }
   ],
   "source": [
    "# Grab everything UP TO the 3rd index\n",
    "s[:3]"
   ]
  },
  {
   "cell_type": "markdown",
   "metadata": {
    "id": "5yoso5un5V2u"
   },
   "source": [
    "Note the above slicing. Here we're telling Python to grab everything from 0 up to 3. It doesn't include the 3rd index. You'll notice this a lot in Python, where statements and are usually in the context of \"up to, but not including\"."
   ]
  },
  {
   "cell_type": "code",
   "execution_count": null,
   "metadata": {
    "colab": {
     "base_uri": "https://localhost:8080/",
     "height": 35
    },
    "executionInfo": {
     "elapsed": 44,
     "status": "ok",
     "timestamp": 1647521457152,
     "user": {
      "displayName": "Naeemullah Khan",
      "photoUrl": "https://lh3.googleusercontent.com/a/default-user=s64",
      "userId": "18307185785900481812"
     },
     "user_tz": 0
    },
    "id": "-SKJ7rtt5V2u",
    "outputId": "3e470d1b-65cf-4438-ce8d-1f95eb8c9e6e"
   },
   "outputs": [
    {
     "data": {
      "application/vnd.google.colaboratory.intrinsic+json": {
       "type": "string"
      },
      "text/plain": [
       "'Hello World'"
      ]
     },
     "execution_count": 27,
     "metadata": {},
     "output_type": "execute_result"
    }
   ],
   "source": [
    "#Everything\n",
    "s[:]"
   ]
  },
  {
   "cell_type": "markdown",
   "metadata": {
    "id": "afWKUbbB5V2v"
   },
   "source": [
    "We can also use negative indexing to go backwards."
   ]
  },
  {
   "cell_type": "code",
   "execution_count": null,
   "metadata": {
    "colab": {
     "base_uri": "https://localhost:8080/",
     "height": 35
    },
    "executionInfo": {
     "elapsed": 43,
     "status": "ok",
     "timestamp": 1647521457152,
     "user": {
      "displayName": "Naeemullah Khan",
      "photoUrl": "https://lh3.googleusercontent.com/a/default-user=s64",
      "userId": "18307185785900481812"
     },
     "user_tz": 0
    },
    "id": "wXQjTMKq5V2v",
    "outputId": "cecd818a-bc69-4dc2-e709-45487c3f9fe3"
   },
   "outputs": [
    {
     "data": {
      "application/vnd.google.colaboratory.intrinsic+json": {
       "type": "string"
      },
      "text/plain": [
       "'d'"
      ]
     },
     "execution_count": 28,
     "metadata": {},
     "output_type": "execute_result"
    }
   ],
   "source": [
    "# Last letter (one index behind 0 so it loops back around)\n",
    "s[-1]"
   ]
  },
  {
   "cell_type": "code",
   "execution_count": null,
   "metadata": {
    "colab": {
     "base_uri": "https://localhost:8080/",
     "height": 35
    },
    "executionInfo": {
     "elapsed": 43,
     "status": "ok",
     "timestamp": 1647521457153,
     "user": {
      "displayName": "Naeemullah Khan",
      "photoUrl": "https://lh3.googleusercontent.com/a/default-user=s64",
      "userId": "18307185785900481812"
     },
     "user_tz": 0
    },
    "id": "4VdvdiHM5V2v",
    "outputId": "b69d7eb3-4de0-4773-dd4f-a6a1b20883ae"
   },
   "outputs": [
    {
     "data": {
      "application/vnd.google.colaboratory.intrinsic+json": {
       "type": "string"
      },
      "text/plain": [
       "'Hello Worl'"
      ]
     },
     "execution_count": 29,
     "metadata": {},
     "output_type": "execute_result"
    }
   ],
   "source": [
    "# Grab everything but the last letter\n",
    "s[:-1]"
   ]
  },
  {
   "cell_type": "markdown",
   "metadata": {
    "id": "0ESWiaw-5V2w"
   },
   "source": [
    "We can also use index and slice notation to grab elements of a sequence by a specified step size (the default is 1). For instance we can use two colons in a row and then a number specifying the frequency to grab elements. For example:"
   ]
  },
  {
   "cell_type": "code",
   "execution_count": null,
   "metadata": {
    "colab": {
     "base_uri": "https://localhost:8080/",
     "height": 35
    },
    "executionInfo": {
     "elapsed": 42,
     "status": "ok",
     "timestamp": 1647521457154,
     "user": {
      "displayName": "Naeemullah Khan",
      "photoUrl": "https://lh3.googleusercontent.com/a/default-user=s64",
      "userId": "18307185785900481812"
     },
     "user_tz": 0
    },
    "id": "AEAiHliR5V2w",
    "outputId": "94e23f65-f066-4d90-e27e-f35de76b55d2"
   },
   "outputs": [
    {
     "data": {
      "application/vnd.google.colaboratory.intrinsic+json": {
       "type": "string"
      },
      "text/plain": [
       "'Hello World'"
      ]
     },
     "execution_count": 30,
     "metadata": {},
     "output_type": "execute_result"
    }
   ],
   "source": [
    "# Grab everything, but go in steps size of 1\n",
    "s[::1]"
   ]
  },
  {
   "cell_type": "code",
   "execution_count": null,
   "metadata": {
    "colab": {
     "base_uri": "https://localhost:8080/",
     "height": 35
    },
    "executionInfo": {
     "elapsed": 41,
     "status": "ok",
     "timestamp": 1647521457154,
     "user": {
      "displayName": "Naeemullah Khan",
      "photoUrl": "https://lh3.googleusercontent.com/a/default-user=s64",
      "userId": "18307185785900481812"
     },
     "user_tz": 0
    },
    "id": "bdq6ZhKs5V2x",
    "outputId": "84903598-f827-4618-e124-18511530fa7f"
   },
   "outputs": [
    {
     "data": {
      "application/vnd.google.colaboratory.intrinsic+json": {
       "type": "string"
      },
      "text/plain": [
       "'HloWrd'"
      ]
     },
     "execution_count": 31,
     "metadata": {},
     "output_type": "execute_result"
    }
   ],
   "source": [
    "# Grab everything, but go in step sizes of 2\n",
    "s[::2]"
   ]
  },
  {
   "cell_type": "code",
   "execution_count": null,
   "metadata": {
    "colab": {
     "base_uri": "https://localhost:8080/",
     "height": 35
    },
    "executionInfo": {
     "elapsed": 41,
     "status": "ok",
     "timestamp": 1647521457155,
     "user": {
      "displayName": "Naeemullah Khan",
      "photoUrl": "https://lh3.googleusercontent.com/a/default-user=s64",
      "userId": "18307185785900481812"
     },
     "user_tz": 0
    },
    "id": "_IE40mOV5V2y",
    "outputId": "49834a8f-2288-45b3-c241-a6aab6cefb2d"
   },
   "outputs": [
    {
     "data": {
      "application/vnd.google.colaboratory.intrinsic+json": {
       "type": "string"
      },
      "text/plain": [
       "'dlroW olleH'"
      ]
     },
     "execution_count": 32,
     "metadata": {},
     "output_type": "execute_result"
    }
   ],
   "source": [
    "# We can use this to print a string backwards\n",
    "s[::-1]"
   ]
  },
  {
   "cell_type": "markdown",
   "metadata": {
    "collapsed": true,
    "id": "Sipmbt5f5V2z"
   },
   "source": [
    "## String Properties\n",
    "It's important to note that strings have an important property known as *immutability*. This means that once a string is created, the elements within it can not be changed or replaced. For example:"
   ]
  },
  {
   "cell_type": "code",
   "execution_count": null,
   "metadata": {
    "id": "pTEwIl-w5V2z",
    "outputId": "dca6d0b7-5a5d-4e1c-f084-1ac2b6ede1e0"
   },
   "outputs": [
    {
     "data": {
      "text/plain": [
       "'Hello World'"
      ]
     },
     "execution_count": 25,
     "metadata": {},
     "output_type": "execute_result"
    }
   ],
   "source": [
    "s"
   ]
  },
  {
   "cell_type": "code",
   "execution_count": null,
   "metadata": {
    "id": "ZScm2fho5V20",
    "outputId": "bd957012-db8f-4a5f-b6ef-1c621c0ea8e2"
   },
   "outputs": [
    {
     "ename": "TypeError",
     "evalue": "'str' object does not support item assignment",
     "output_type": "error",
     "traceback": [
      "\u001b[1;31m---------------------------------------------------------------------------\u001b[0m",
      "\u001b[1;31mTypeError\u001b[0m                                 Traceback (most recent call last)",
      "\u001b[1;32m<ipython-input-26-976942677f11>\u001b[0m in \u001b[0;36m<module>\u001b[1;34m()\u001b[0m\n\u001b[0;32m      1\u001b[0m \u001b[1;31m# Let's try to change the first letter to 'x'\u001b[0m\u001b[1;33m\u001b[0m\u001b[1;33m\u001b[0m\u001b[0m\n\u001b[1;32m----> 2\u001b[1;33m \u001b[0ms\u001b[0m\u001b[1;33m[\u001b[0m\u001b[1;36m0\u001b[0m\u001b[1;33m]\u001b[0m \u001b[1;33m=\u001b[0m \u001b[1;34m'x'\u001b[0m\u001b[1;33m\u001b[0m\u001b[0m\n\u001b[0m",
      "\u001b[1;31mTypeError\u001b[0m: 'str' object does not support item assignment"
     ]
    }
   ],
   "source": [
    "# Let's try to change the first letter to 'x'\n",
    "s[0] = 'x'"
   ]
  },
  {
   "cell_type": "markdown",
   "metadata": {
    "id": "PJR-l2Ij5V20"
   },
   "source": [
    "Notice how the error tells us directly what we can't do, change the item assignment!\n",
    "\n",
    "Something we *can* do is concatenate strings!"
   ]
  },
  {
   "cell_type": "code",
   "execution_count": null,
   "metadata": {
    "id": "yBqprB1W5V20",
    "outputId": "5ecbe761-68cd-42a5-cd33-864b821788a0"
   },
   "outputs": [
    {
     "data": {
      "text/plain": [
       "'Hello World'"
      ]
     },
     "execution_count": 27,
     "metadata": {},
     "output_type": "execute_result"
    }
   ],
   "source": [
    "s"
   ]
  },
  {
   "cell_type": "code",
   "execution_count": null,
   "metadata": {
    "id": "VK-KeTTV5V20",
    "outputId": "4fe69334-9e2d-4995-cad2-09eb5cf36940"
   },
   "outputs": [
    {
     "data": {
      "text/plain": [
       "'Hello World concatenate me!'"
      ]
     },
     "execution_count": 28,
     "metadata": {},
     "output_type": "execute_result"
    }
   ],
   "source": [
    "# Concatenate strings!\n",
    "s + ' concatenate me!'"
   ]
  },
  {
   "cell_type": "code",
   "execution_count": null,
   "metadata": {
    "collapsed": true,
    "id": "IKqm5L085V21"
   },
   "outputs": [],
   "source": [
    "# We can reassign s completely though!\n",
    "s = s + ' concatenate me!'"
   ]
  },
  {
   "cell_type": "code",
   "execution_count": null,
   "metadata": {
    "id": "i0uuJTgt5V21",
    "outputId": "117195b0-e69a-473c-da8d-993d35cd1ebb"
   },
   "outputs": [
    {
     "name": "stdout",
     "output_type": "stream",
     "text": [
      "Hello World concatenate me!\n"
     ]
    }
   ],
   "source": [
    "print(s)"
   ]
  },
  {
   "cell_type": "code",
   "execution_count": null,
   "metadata": {
    "id": "ACtpNfRD5V21",
    "outputId": "5b844bbd-2795-41d5-9a49-7fe6a9829010"
   },
   "outputs": [
    {
     "data": {
      "text/plain": [
       "'Hello World concatenate me!'"
      ]
     },
     "execution_count": 31,
     "metadata": {},
     "output_type": "execute_result"
    }
   ],
   "source": [
    "s"
   ]
  },
  {
   "cell_type": "markdown",
   "metadata": {
    "id": "IG2JkYbN5V21"
   },
   "source": [
    "We can use the multiplication symbol to create repetition!"
   ]
  },
  {
   "cell_type": "code",
   "execution_count": null,
   "metadata": {
    "collapsed": true,
    "id": "Lc5G9W9Y5V22"
   },
   "outputs": [],
   "source": [
    "letter = 'z'"
   ]
  },
  {
   "cell_type": "code",
   "execution_count": null,
   "metadata": {
    "id": "PlCwtvnp5V22",
    "outputId": "45f0a45c-47dc-4de5-aff1-3ce97f7570a0"
   },
   "outputs": [
    {
     "data": {
      "text/plain": [
       "'zzzzzzzzzz'"
      ]
     },
     "execution_count": 33,
     "metadata": {},
     "output_type": "execute_result"
    }
   ],
   "source": [
    "letter*10"
   ]
  },
  {
   "cell_type": "markdown",
   "metadata": {
    "id": "Xpf6feYF5V22"
   },
   "source": [
    "## Basic Built-in String methods\n",
    "\n",
    "Objects in Python usually have built-in methods. These methods are functions inside the object (we will learn about these in much more depth later) that can perform actions or commands on the object itself.\n",
    "\n",
    "We call methods with a period and then the method name. Methods are in the form:\n",
    "\n",
    "object.method(parameters)\n",
    "\n",
    "Where parameters are extra arguments we can pass into the method. Don't worry if the details don't make 100% sense right now. Later on we will be creating our own objects and functions!\n",
    "\n",
    "Here are some examples of built-in methods in strings:"
   ]
  },
  {
   "cell_type": "code",
   "execution_count": null,
   "metadata": {
    "id": "tai6Ld7H5V22",
    "outputId": "65a12df2-34af-4140-fd41-2479a2e38d33"
   },
   "outputs": [
    {
     "data": {
      "text/plain": [
       "'Hello World concatenate me!'"
      ]
     },
     "execution_count": 34,
     "metadata": {},
     "output_type": "execute_result"
    }
   ],
   "source": [
    "s"
   ]
  },
  {
   "cell_type": "code",
   "execution_count": null,
   "metadata": {
    "id": "7shiAbH85V23",
    "outputId": "c23238a6-2d5c-4ad2-e030-97769823d340"
   },
   "outputs": [
    {
     "data": {
      "text/plain": [
       "'HELLO WORLD CONCATENATE ME!'"
      ]
     },
     "execution_count": 35,
     "metadata": {},
     "output_type": "execute_result"
    }
   ],
   "source": [
    "# Upper Case a string\n",
    "s.upper()"
   ]
  },
  {
   "cell_type": "code",
   "execution_count": null,
   "metadata": {
    "id": "aarGAyfr5V23",
    "outputId": "004d6621-3ec5-4174-e0d1-a92e74549806"
   },
   "outputs": [
    {
     "data": {
      "text/plain": [
       "'hello world concatenate me!'"
      ]
     },
     "execution_count": 36,
     "metadata": {},
     "output_type": "execute_result"
    }
   ],
   "source": [
    "# Lower case\n",
    "s.lower()"
   ]
  },
  {
   "cell_type": "code",
   "execution_count": null,
   "metadata": {
    "id": "5f7iqkJ-5V23",
    "outputId": "442b0b52-745c-4004-d4dd-dfa9d51b4e08"
   },
   "outputs": [
    {
     "data": {
      "text/plain": [
       "['Hello', 'World', 'concatenate', 'me!']"
      ]
     },
     "execution_count": 37,
     "metadata": {},
     "output_type": "execute_result"
    }
   ],
   "source": [
    "# Split a string by blank space (this is the default)\n",
    "s.split()"
   ]
  },
  {
   "cell_type": "code",
   "execution_count": null,
   "metadata": {
    "id": "NPtr91AQ5V23",
    "outputId": "bdd5fad5-146f-4166-a9f2-e5f76ac8e691"
   },
   "outputs": [
    {
     "data": {
      "text/plain": [
       "['Hello ', 'orld concatenate me!']"
      ]
     },
     "execution_count": 38,
     "metadata": {},
     "output_type": "execute_result"
    }
   ],
   "source": [
    "# Split by a specific element (doesn't include the element that was split on)\n",
    "s.split('W')"
   ]
  },
  {
   "cell_type": "markdown",
   "metadata": {
    "id": "lH4BwmSS5V24"
   },
   "source": [
    "There are many more methods than the ones covered here. Visit the Advanced String section to find out more!"
   ]
  },
  {
   "cell_type": "markdown",
   "metadata": {
    "id": "2libWGr55V24"
   },
   "source": [
    "## Print Formatting\n",
    "\n",
    "We can use the .format() method to add formatted objects to printed string statements. \n",
    "\n",
    "The easiest way to show this is through an example:"
   ]
  },
  {
   "cell_type": "code",
   "execution_count": null,
   "metadata": {
    "id": "UK-mmtd15V24",
    "outputId": "aaace324-fff1-4825-b796-2457b6b84856"
   },
   "outputs": [
    {
     "data": {
      "text/plain": [
       "'Insert another string with curly brackets: The inserted string'"
      ]
     },
     "execution_count": 39,
     "metadata": {},
     "output_type": "execute_result"
    }
   ],
   "source": [
    "'Insert another string with curly brackets: {}'.format('The inserted string')"
   ]
  },
  {
   "cell_type": "markdown",
   "metadata": {
    "id": "KWRniahx5V25"
   },
   "source": [
    "## Python has great support for strings:"
   ]
  },
  {
   "cell_type": "code",
   "execution_count": null,
   "metadata": {
    "id": "nkRA7jwx5V25",
    "outputId": "ee2e8b3f-b924-4fbb-d4b4-4ed06e3838a4"
   },
   "outputs": [
    {
     "name": "stdout",
     "output_type": "stream",
     "text": [
      "hello\n",
      "5\n",
      "hello world\n",
      "hello world 12\n",
      "hello world 21\n",
      "hello world 0.33\n",
      "hello world 0.33\n"
     ]
    }
   ],
   "source": [
    "hello = 'hello'    # String literals can use single quotes\n",
    "world = \"world\"    # or double quotes; it does not matter.\n",
    "print(hello)       # Prints \"hello\"\n",
    "print(len(hello))  # String length; prints \"5\"\n",
    "hw = hello + ' ' + world  # String concatenation\n",
    "print(hw)  # prints \"hello world\"\n",
    "hw12 = '%s %s %d' % (hello, world, 12)  # sprintf style string formatting\n",
    "print(hw12)  # prints \"hello world 12\"\n",
    "hw21 = '{} {} {}'.format(hello, world, 21)  # formatting with format function\n",
    "print(hw21)  # prints \"hello world 21\"\n",
    "hw13 = '{} {} {:.2f}'.format(hello, world, 1 / 3)  # float formatting\n",
    "print(hw13)  # prints \"hello world 0.33\"\n",
    "hw3 = f'{hello} {world} {1 / 3:.2f}' # the new f-strings\n",
    "print(hw3)  # prints \"hello world 0.33\""
   ]
  },
  {
   "cell_type": "code",
   "execution_count": null,
   "metadata": {
    "colab": {
     "base_uri": "https://localhost:8080/",
     "height": 35
    },
    "executionInfo": {
     "elapsed": 8,
     "status": "ok",
     "timestamp": 1656161484329,
     "user": {
      "displayName": "Naeemullah Khan",
      "userId": "18307185785900481812"
     },
     "user_tz": -180
    },
    "id": "wbl4b-ZL5V25",
    "outputId": "4d00a050-a878-4b57-cfae-1726de59c726"
   },
   "outputs": [
    {
     "data": {
      "application/vnd.google.colaboratory.intrinsic+json": {
       "type": "string"
      },
      "text/plain": [
       "'Naeemullah Khan woohoo 0.333333'"
      ]
     },
     "execution_count": 1,
     "metadata": {},
     "output_type": "execute_result"
    }
   ],
   "source": [
    "my_str1 = 'Naeemullah'\n",
    "my_str2 = 'Khan'\n",
    "'{} {} woohoo {:.6f}'.format(my_str1, my_str2, 1/3)"
   ]
  },
  {
   "cell_type": "code",
   "execution_count": null,
   "metadata": {
    "id": "wOopQkAq5V26",
    "outputId": "c32ffcdd-a1fc-49df-aa3d-ec11912c4bff"
   },
   "outputs": [
    {
     "name": "stdout",
     "output_type": "stream",
     "text": [
      "The fox is brown and quick!\n"
     ]
    }
   ],
   "source": [
    "print('The {0} is {1} and {2}!'.format('fox', 'brown', 'quick'))"
   ]
  },
  {
   "cell_type": "code",
   "execution_count": null,
   "metadata": {
    "id": "f9na3q8a5V26",
    "outputId": "3cb73a9f-fe24-4d2b-f638-87507b232be6"
   },
   "outputs": [
    {
     "name": "stdout",
     "output_type": "stream",
     "text": [
      "The fox is brown and quick!\n"
     ]
    }
   ],
   "source": [
    "print('The {p} is {q} and {v}!'.format(p='fox', q='brown' , v='quick'))"
   ]
  },
  {
   "cell_type": "code",
   "execution_count": null,
   "metadata": {
    "colab": {
     "base_uri": "https://localhost:8080/"
    },
    "executionInfo": {
     "elapsed": 213,
     "status": "ok",
     "timestamp": 1647521757105,
     "user": {
      "displayName": "Naeemullah Khan",
      "photoUrl": "https://lh3.googleusercontent.com/a/default-user=s64",
      "userId": "18307185785900481812"
     },
     "user_tz": 0
    },
    "id": "jlB9t7hB7qs5",
    "outputId": "941679d0-6b51-4433-e017-b96b2246db3b"
   },
   "outputs": [
    {
     "name": "stdout",
     "output_type": "stream",
     "text": [
      "1357\n"
     ]
    }
   ],
   "source": [
    "x=\"0123456789\"\n",
    "\n",
    "print(x[1:8:2])"
   ]
  },
  {
   "cell_type": "code",
   "execution_count": null,
   "metadata": {
    "colab": {
     "base_uri": "https://localhost:8080/"
    },
    "executionInfo": {
     "elapsed": 357,
     "status": "ok",
     "timestamp": 1647522020947,
     "user": {
      "displayName": "Naeemullah Khan",
      "photoUrl": "https://lh3.googleusercontent.com/a/default-user=s64",
      "userId": "18307185785900481812"
     },
     "user_tz": 0
    },
    "id": "EPd8mRJn85m-",
    "outputId": "9e451300-afb1-46e6-9937-d197bab8f038"
   },
   "outputs": [
    {
     "name": "stdout",
     "output_type": "stream",
     "text": [
      "my\n"
     ]
    }
   ],
   "source": [
    "x=\"This is my first string\"\n",
    "y=\"string2\"\n",
    "\n",
    "\n",
    "z=x.split(' ')\n",
    "print(z[2])"
   ]
  }
 ],
 "metadata": {
  "colab": {
   "collapsed_sections": [],
   "name": "02-Strings.ipynb",
   "provenance": []
  },
  "kernelspec": {
   "display_name": "Python 3 (ipykernel)",
   "language": "python",
   "name": "python3"
  },
  "language_info": {
   "codemirror_mode": {
    "name": "ipython",
    "version": 3
   },
   "file_extension": ".py",
   "mimetype": "text/x-python",
   "name": "python",
   "nbconvert_exporter": "python",
   "pygments_lexer": "ipython3",
   "version": "3.9.12"
  }
 },
 "nbformat": 4,
 "nbformat_minor": 1
}
