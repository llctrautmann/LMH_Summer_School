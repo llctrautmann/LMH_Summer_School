{
 "cells": [
  {
   "cell_type": "code",
   "execution_count": 1,
   "metadata": {
    "colab": {
     "base_uri": "https://localhost:8080/"
    },
    "id": "Iql95-jeNF8R",
    "outputId": "cbb696a1-1f03-401e-f930-f1a56ad2d7f0"
   },
   "outputs": [
    {
     "name": "stdout",
     "output_type": "stream",
     "text": [
      "Dr Siddhant Gangapurwala is 27 years old and works as a Postdoctoral Researcher\n"
     ]
    }
   ],
   "source": [
    "#Exercise 3.1: Write a program that asks the user to input, their name, title, age and\n",
    "#occupation and outputs a string, \"[title] [name] is [age] years old and works as a [job].\"\n",
    "\n",
    "\n",
    "title = input(\"enter your title\")\n",
    "name = input(\"enter your name\")\n",
    "age = input(\"enter you age\")\n",
    "job = input(\"enter your occupation\")\n",
    "print(f\"{title} {name} is {age} years old and works as a {job}\")"
   ]
  },
  {
   "cell_type": "code",
   "execution_count": 2,
   "metadata": {
    "colab": {
     "base_uri": "https://localhost:8080/"
    },
    "id": "gJhbqw2lNmSI",
    "outputId": "06c83a76-831e-4cf9-a5e0-60d91e756430"
   },
   "outputs": [
    {
     "name": "stdout",
     "output_type": "stream",
     "text": [
      "<class 'str'>\n",
      "2\n"
     ]
    }
   ],
   "source": [
    "#Exercise 3.2: Write a program that takes a positive integer as an input and return’s it’s\n",
    "#length (no of digits). Return 0 if the number is not a positive integer\n",
    "\n",
    "def ret_length(x):\n",
    "  return len(str(x)) if x > 0 else 0\n",
    "\n",
    "x = input('Enter a Number')\n",
    "print(type(x))\n",
    "\n",
    "x = int(x)\n",
    "\n",
    "print(ret_length(x))\n"
   ]
  },
  {
   "cell_type": "code",
   "execution_count": 3,
   "metadata": {
    "colab": {
     "base_uri": "https://localhost:8080/"
    },
    "id": "yztFCVlpU-OL",
    "outputId": "04725167-e339-4748-95ea-b233338fb696"
   },
   "outputs": [
    {
     "name": "stdout",
     "output_type": "stream",
     "text": [
      "[800]\n"
     ]
    }
   ],
   "source": [
    "#Exercise 3.3: In a single line of code extract all numbers from a list that are greater than\n",
    "#100.\n",
    "x=[1,2,3,4,5,6,7,800]\n",
    "y=[i for i in x if i>100]\n",
    "print(y)"
   ]
  },
  {
   "cell_type": "code",
   "execution_count": 4,
   "metadata": {
    "colab": {
     "base_uri": "https://localhost:8080/"
    },
    "id": "yOyMY9KCOgob",
    "outputId": "4bdd1fe9-b242-4bcb-c888-f6cf7120cc9c"
   },
   "outputs": [
    {
     "name": "stdout",
     "output_type": "stream",
     "text": [
      "{'key1': 'Val1', 'key2': 'Val2'}\n"
     ]
    }
   ],
   "source": [
    "#Exercise 3.4: In a single line of code capitalize the first character of the value strings in a\n",
    "#Python dictionary\n",
    "\n",
    "dict1={\"key1\": \"val1\", \"key2\": \"val2\"}\n",
    "\n",
    "dict2={key: val.capitalize() for key, val in dict1.items()}\n",
    "\n",
    "print(dict2)"
   ]
  },
  {
   "cell_type": "code",
   "execution_count": 5,
   "metadata": {
    "colab": {
     "base_uri": "https://localhost:8080/"
    },
    "id": "ZgevIuvbVRlL",
    "outputId": "0471ff03-4de3-428d-caff-685a64706efd"
   },
   "outputs": [
    {
     "name": "stdout",
     "output_type": "stream",
     "text": [
      "palindrome\n"
     ]
    }
   ],
   "source": [
    "#Exercise 3.5: Write a program that checks if a 5 digit positive integer is palindrome. Bonus:\n",
    "#extent it to any positive integer\n",
    "x=input('enter number')\n",
    "xf=x[::-1]\n",
    "if x==xf:\n",
    "  print('palindrome')\n",
    "else:\n",
    "  print('not palindrome')"
   ]
  },
  {
   "cell_type": "code",
   "execution_count": 6,
   "metadata": {
    "colab": {
     "base_uri": "https://localhost:8080/"
    },
    "id": "n-qUrQ09Pni9",
    "outputId": "29761e8c-7a0f-41b3-a15a-40d5f5ee1dd4"
   },
   "outputs": [
    {
     "name": "stdout",
     "output_type": "stream",
     "text": [
      "105,119,126,133,147,154,161,175,182,189,203,210,217,231,238,245,259,266,273,287,294,301,315,322,329,343,350,357,371,378,385,399,406,413,427,434,441,455,462,469,483,490,497,511,518,525,539,546,553,567,574,581,595,602,609,623,630,637,651,658,665,679,686,693,707,714,721,735,742,749,763,770,777,791,798,805,819,826,833,847,854,861,875,882,889,903,910,917,931,938,945,959,966,973,987,994,1001,1015,1022,1029,1043,1050,1057,1071,1078,1085,1099,1106,1113,1127,1134,1141,1155,1162,1169,1183,1190,1197,1211,1218,1225,1239,1246,1253,1267,1274,1281,1295,1302,1309,1323,1330,1337,1351,1358,1365,1379,1386,1393,1407,1414,1421,1435,1442,1449,1463,1470,1477,1491,1498\n"
     ]
    }
   ],
   "source": [
    "#Exercise 3.6: Write a program which will find all such numbers which are divisible by 7\n",
    "#but are not a multiple of 4, between 100 and 1500 (both included). The numbers obtained\n",
    "#should be printed in a comma-separated sequence on a single line.\n",
    "import numpy as np\n",
    "\n",
    "x = list(np.arange(100,1501))\n",
    "\n",
    "y =[str(v) for v in x if v%7==0 and v%4 !=0]\n",
    "print(\",\".join(y))\n"
   ]
  },
  {
   "cell_type": "code",
   "execution_count": 7,
   "metadata": {
    "colab": {
     "base_uri": "https://localhost:8080/"
    },
    "id": "CBneGRSyVmiX",
    "outputId": "947198dd-a888-4d7c-a4b4-c575240d07b3"
   },
   "outputs": [
    {
     "name": "stdout",
     "output_type": "stream",
     "text": [
      "['1', '1', '2'] ['1', '1', '2']\n",
      "True\n"
     ]
    }
   ],
   "source": [
    "#Exercise 3.7: Write a code that inputs two integers and returns True if they are anagram\n",
    "#of each other, else returns False\n",
    "x=121\n",
    "y=112\n",
    "xr=str(x)\n",
    "yr=str(y)\n",
    "xl=[i for i in xr]\n",
    "xl.sort()\n",
    "yl=[i for i in yr]\n",
    "yl.sort()\n",
    "print(xl,yl)\n",
    "flag=0\n",
    "if len(xl)!=len(yl):\n",
    "  flag=1\n",
    "else:\n",
    "  for i,e in enumerate(xl):\n",
    "    if xl[i]!=yl[i]:\n",
    "      flag=1\n",
    "\n",
    "\n",
    "if flag==0:\n",
    "  print('True')\n",
    "\n",
    "else:\n",
    "  print('False')\n"
   ]
  },
  {
   "cell_type": "code",
   "execution_count": 8,
   "metadata": {
    "colab": {
     "base_uri": "https://localhost:8080/"
    },
    "id": "_DNwbAfyWMki",
    "outputId": "0d603422-4391-45de-a64b-ded990c53077"
   },
   "outputs": [
    {
     "name": "stdout",
     "output_type": "stream",
     "text": [
      "0 z\n",
      "35\n"
     ]
    }
   ],
   "source": [
    "#Exercise 3.8: Write a program that takes a number and it’s base (<36) and returns the\n",
    "#value in decimal system. Assume number greater than 9 are represented by alphabets [a-z]\n",
    "\n",
    "num='z'\n",
    "b=35\n",
    "\n",
    "nr=num[::-1]\n",
    "ns=[i for i in num]\n",
    "val=0\n",
    "for n,i in enumerate(ns):\n",
    "  print(n,i)\n",
    "  if ord(i)>=ord('a') and ord(i)<= ord('z'):\n",
    "    v=ord(i)-ord('a')+10\n",
    "  if ord(i)>=ord('0') and ord(i)<= ord('9'):\n",
    "    v=ord(i)-ord('0')\n",
    "  val+=v*b**n\n",
    "\n",
    "\n",
    "print(val)\n",
    "\n",
    "\n",
    "\n",
    "\n"
   ]
  },
  {
   "cell_type": "code",
   "execution_count": 9,
   "metadata": {
    "colab": {
     "base_uri": "https://localhost:8080/"
    },
    "id": "zAVQPdwfV3wN",
    "outputId": "0aec517e-8a60-4d1f-a243-1d71df6f393c"
   },
   "outputs": [
    {
     "name": "stdout",
     "output_type": "stream",
     "text": [
      "27.0\n"
     ]
    }
   ],
   "source": [
    "#Exercise 3.9: Text based calculator: Write a program that take’s in a string \"No1 operator\n",
    "#No2\". and returns the output of the operation in string. Allowed operations are {+,-,*,/}\n",
    "\n",
    "in_str = input(\"Enter the string to calculate\")\n",
    "x = in_str.split(\" \")\n",
    "no1 = float(x[0])\n",
    "no2 = float(x[2])\n",
    "\n",
    "if x[1] == \"+\":\n",
    "  print(no1+no2)\n",
    "\n",
    "\n",
    "if x[1] == \"-\":\n",
    "  print(no1-no2)\n",
    "\n",
    "\n",
    "if x[1] == \"*\":\n",
    "  print(no1*no2)\n",
    "\n",
    "\n",
    "if x[1] == \"/\":\n",
    "  print(no1/no2)"
   ]
  },
  {
   "cell_type": "code",
   "execution_count": 10,
   "metadata": {
    "colab": {
     "base_uri": "https://localhost:8080/"
    },
    "id": "UpOzIyJwXgix",
    "outputId": "71608dc0-14cf-4e22-c7b9-39ad8ccb95f7"
   },
   "outputs": [],
   "source": [
    "#Exercise 3.10: Write a program that takes an input N and returns fibonacci sequence to\n",
    "#N th number in the sequence with and without using recursion\n",
    "\n",
    "def fib(n):\n",
    "  if n<2:\n",
    "    return 1\n",
    "\n",
    "  else:\n",
    "    return fib(n-1)+fib(n-2)\n",
    "\n",
    "\n",
    "\n",
    "fib(4)\n",
    "\n",
    "#First N number is the fibonacci series\n",
    "x=[1,1]\n",
    "for i in range(10):\n",
    "  x.append(x[-1]+x[-2])"
   ]
  },
  {
   "cell_type": "code",
   "execution_count": 11,
   "metadata": {
    "colab": {
     "base_uri": "https://localhost:8080/"
    },
    "id": "AlTUUp9VXquP",
    "outputId": "dc6897a9-d40d-4ecf-e269-a9d0ad07fc36"
   },
   "outputs": [
    {
     "name": "stdout",
     "output_type": "stream",
     "text": [
      "[0, 1, 2, 3, 4, 5, 6, 7, 8, 9, 11, 22, 33, 44]\n"
     ]
    }
   ],
   "source": [
    "#Exercise 3.11: Write a program that takes a positive integer input N and returns all\n",
    "#palindrome’s uptill and including N\n",
    "import numpy as np\n",
    "N = int(input(\"enter range for finding palindromes\"))\n",
    "y = list(np.arange(N))\n",
    "\n",
    "\n",
    "\n",
    "def palindrome(x):\n",
    "  x=str(x)\n",
    "  xf=x[::-1]\n",
    "  if x==xf:\n",
    "    return True\n",
    "  else:\n",
    "    return False\n",
    "\n",
    "\n",
    "z = [v for v in y if palindrome(v)==True]\n",
    "print(z)\n"
   ]
  },
  {
   "cell_type": "code",
   "execution_count": 12,
   "metadata": {
    "colab": {
     "base_uri": "https://localhost:8080/"
    },
    "id": "ItHW53T5X02R",
    "outputId": "af4dafa2-9f84-4152-898f-9251486d30b4"
   },
   "outputs": [
    {
     "name": "stdout",
     "output_type": "stream",
     "text": [
      "-45\n"
     ]
    }
   ],
   "source": [
    "#Exercise 3.12: Write a program that return’s the smallest of the integers in a list.\n",
    "x = [-10,5, 8, 9, -45, 100]\n",
    "def ret_min(x):\n",
    "  xmin = float('inf')\n",
    "  for v in x:\n",
    "    if xmin>v:\n",
    "      xmin=v\n",
    "\n",
    "  return xmin\n",
    "\n",
    "\n",
    "print(ret_min(x))\n",
    "\n"
   ]
  },
  {
   "cell_type": "code",
   "execution_count": 13,
   "metadata": {
    "colab": {
     "base_uri": "https://localhost:8080/"
    },
    "id": "fNypSyR8YbUY",
    "outputId": "20d1ae7e-369a-4ce0-c094-cf762ddcc9f4"
   },
   "outputs": [
    {
     "name": "stdout",
     "output_type": "stream",
     "text": [
      "100\n"
     ]
    }
   ],
   "source": [
    "#Exercise 3.13: Write a program that return’s the largest number in a list.\n",
    "\n",
    "x = [-10,5, 8, 9, -45, 100]\n",
    "def ret_max(x):\n",
    "  xmax = -float('inf')\n",
    "  for v in x:\n",
    "    if xmax<v:\n",
    "      xmax=v\n",
    "\n",
    "  return xmax\n",
    "\n",
    "\n",
    "print(ret_max(x))"
   ]
  },
  {
   "cell_type": "code",
   "execution_count": 14,
   "metadata": {
    "colab": {
     "base_uri": "https://localhost:8080/"
    },
    "id": "sYVhI4VvZ3Ui",
    "outputId": "b1a01c56-c77d-4346-c39a-a69ea04898d3"
   },
   "outputs": [
    {
     "name": "stdout",
     "output_type": "stream",
     "text": [
      "tstvbbwbb\n"
     ]
    }
   ],
   "source": [
    "#Exercise 3.14: Write a program that removes all vowels from a string\n",
    "s='testavbbieewuiiooobb'\n",
    "vowels=['a', 'e', 'i', 'o', 'u']\n",
    "l=[i for i in s if i not in vowels]\n",
    "print(''.join(l))"
   ]
  },
  {
   "cell_type": "code",
   "execution_count": 15,
   "metadata": {
    "colab": {
     "base_uri": "https://localhost:8080/"
    },
    "id": "UaYJ6_zoadTs",
    "outputId": "2d877ee8-65fa-4102-b3ff-fbf9cc1784f0"
   },
   "outputs": [
    {
     "name": "stdout",
     "output_type": "stream",
     "text": [
      "   *   \n",
      "  ***  \n",
      " ***** \n",
      "*******\n"
     ]
    }
   ],
   "source": [
    "#Exercise 3.15: Write a program that take’s an input N (odd integer) and drawn an\n",
    "#isosceles triangle with N stars on the base and the other sides of equal size.\n",
    "#Example: N=5\n",
    "#   *\n",
    "#  ***\n",
    "# *****\n",
    "\n",
    "n=7\n",
    "for i in range(n//2+1):\n",
    "  sp=n//2-i\n",
    "  st=n-2*sp\n",
    "  ms=' '*sp +'*'*st +' '*sp\n",
    "  print(ms)"
   ]
  },
  {
   "cell_type": "code",
   "execution_count": 16,
   "metadata": {
    "colab": {
     "base_uri": "https://localhost:8080/"
    },
    "id": "4E2BEH0RndWZ",
    "outputId": "b9a98727-a603-4799-d558-541bfc69eaa9"
   },
   "outputs": [
    {
     "name": "stdout",
     "output_type": "stream",
     "text": [
      "This is a test sentence\n"
     ]
    }
   ],
   "source": [
    "#Exercise 3.16: Write a program that removes repeated words next to each other from a\n",
    "#string.\n",
    "\n",
    "sentence=\"This is is a test test test sentence\"\n",
    "\n",
    "out=[]\n",
    "words = sentence.split(\" \")\n",
    "for word in words:\n",
    "  if len(out)==0:\n",
    "    out.append(word)\n",
    "\n",
    "  else:  \n",
    "    if out[-1] != word:\n",
    "      out.append(word)\n",
    "\n",
    "\n",
    "print(\" \".join(out)) \n"
   ]
  }
 ],
 "metadata": {
  "colab": {
   "collapsed_sections": [],
   "name": "RiyadhCampJuneDay1.ipynb",
   "provenance": []
  },
  "kernelspec": {
   "display_name": "Python 3.8.9 64-bit",
   "language": "python",
   "name": "python3"
  },
  "language_info": {
   "codemirror_mode": {
    "name": "ipython",
    "version": 3
   },
   "file_extension": ".py",
   "mimetype": "text/x-python",
   "name": "python",
   "nbconvert_exporter": "python",
   "pygments_lexer": "ipython3",
   "version": "3.8.9"
  },
  "vscode": {
   "interpreter": {
    "hash": "31f2aee4e71d21fbe5cf8b01ff0e069b9275f58929596ceb00d14d90e3e16cd6"
   }
  }
 },
 "nbformat": 4,
 "nbformat_minor": 4
}
