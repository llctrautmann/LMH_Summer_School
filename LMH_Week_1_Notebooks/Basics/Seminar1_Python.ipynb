{
 "cells": [
  {
   "cell_type": "code",
   "execution_count": 13,
   "metadata": {
    "id": "Iql95-jeNF8R"
   },
   "outputs": [
    {
     "name": "stdout",
     "output_type": "stream",
     "text": [
      "Please provide your name, title, age and occupation\n",
      "f\n",
      "f\n",
      "f\n",
      "f\n"
     ]
    }
   ],
   "source": [
    "#Exercise 3.1: Write a program that asks the user to input, their name, title, age and\n",
    "#occupation and outputs a string, \"[title] [name] is [age] years old and works as a [job].\"\n",
    "\n",
    "\n",
    "def name():\n",
    "    l = []\n",
    "    print(\"Please provide your name, title, age and occupation\")\n",
    "    for i in range(1,5):\n",
    "        l.append(input())\n",
    "\n",
    "    return f\"{l[1]} {l[0]} is {l[2]} years old and works as a {l[3]}.\"\n",
    "\n",
    "\n",
    "name()"
   ]
  },
  {
   "cell_type": "code",
   "execution_count": 15,
   "metadata": {},
   "outputs": [],
   "source": [
    "def name2():\n",
    "    title = input(\"Enter your title please: \")\n",
    "    name = input(\"Enter your name please: \")\n",
    "    age = input(\"Enter your age please: \")\n",
    "    occ = input(\"Enter your occupation please: \")\n",
    "    \n",
    "    return f\"{title} {name} is {age} years old and works as a {occ}.\""
   ]
  },
  {
   "cell_type": "code",
   "execution_count": 16,
   "metadata": {},
   "outputs": [
    {
     "name": "stdout",
     "output_type": "stream",
     "text": [
      "Enter your title please: Mr.\n",
      "Enter your name please: Luca Trautmann\n",
      "Enter your age please: 26\n",
      "Enter your occupation please: Full-time Student\n"
     ]
    },
    {
     "data": {
      "text/plain": [
       "'Mr. Luca Trautmann is 26 years old and works as a Full-time Student.'"
      ]
     },
     "execution_count": 16,
     "metadata": {},
     "output_type": "execute_result"
    }
   ],
   "source": [
    "name2()"
   ]
  },
  {
   "cell_type": "code",
   "execution_count": 25,
   "metadata": {
    "id": "gJhbqw2lNmSI"
   },
   "outputs": [
    {
     "data": {
      "text/plain": [
       "0"
      ]
     },
     "execution_count": 25,
     "metadata": {},
     "output_type": "execute_result"
    }
   ],
   "source": [
    "#Exercise 3.2: Write a program that takes a positive integer as an input and return’s it’s\n",
    "#length (no of digits). Return 0 if the number is not a positive integer\n",
    "\n",
    "def integer(x):\n",
    "    if x < 0:\n",
    "        return 0\n",
    "    else:\n",
    "        return len(str(x))\n",
    "    \n",
    "\n",
    "integer(-55)\n",
    "\n"
   ]
  },
  {
   "cell_type": "code",
   "execution_count": 20,
   "metadata": {
    "id": "yztFCVlpU-OL"
   },
   "outputs": [
    {
     "data": {
      "text/plain": [
       "[220, 345, 232, 223, 5343, 9999]"
      ]
     },
     "execution_count": 20,
     "metadata": {},
     "output_type": "execute_result"
    }
   ],
   "source": [
    "#Exercise 3.3: In a single line of code extract all numbers from a list that are greater than\n",
    "#100.\n",
    "\n",
    "l = [2,14,220,345,232,4,6,87,54,223,5,56,5343,9999]\n",
    "\n",
    "[i for i in l if i > 100]\n"
   ]
  },
  {
   "cell_type": "code",
   "execution_count": 95,
   "metadata": {},
   "outputs": [
    {
     "name": "stdout",
     "output_type": "stream",
     "text": [
      "dict_values(['Hello', 'My', 'Name', 'Is', 'Luca'])\n"
     ]
    }
   ],
   "source": [
    "#Exercise 3.4: In a single line of code capitalize the first character of the value strings in a\n",
    "#Python dictionary\n",
    "\n",
    "d = {\"key1\":\"hello\",\"key2\":'my',\"key3\":\"name\",\"key4\":\"is\",\"key5\":\"luca\"}\n",
    "\n",
    "d2 = {keys:values.capitalize() for (keys,values) in d.items()}\n",
    "\n",
    "print(d2.values())"
   ]
  },
  {
   "cell_type": "code",
   "execution_count": 97,
   "metadata": {},
   "outputs": [
    {
     "data": {
      "text/plain": [
       "['Hello', 'My', 'Name', 'Is', 'Luca']"
      ]
     },
     "execution_count": 97,
     "metadata": {},
     "output_type": "execute_result"
    }
   ],
   "source": [
    "list(d2.values())"
   ]
  },
  {
   "cell_type": "code",
   "execution_count": null,
   "metadata": {
    "id": "ZgevIuvbVRlL"
   },
   "outputs": [],
   "source": [
    "#Exercise 3.5: Write a program that checks if a 5 digit positive integer is palindrome. Bonus:\n",
    "#extent it to any positive integer\n"
   ]
  },
  {
   "cell_type": "code",
   "execution_count": 86,
   "metadata": {},
   "outputs": [],
   "source": [
    "def palindrom(x):\n",
    "    return str(x) == str(x)[::-1]"
   ]
  },
  {
   "cell_type": "code",
   "execution_count": 87,
   "metadata": {},
   "outputs": [
    {
     "data": {
      "text/plain": [
       "False"
      ]
     },
     "execution_count": 87,
     "metadata": {},
     "output_type": "execute_result"
    }
   ],
   "source": [
    "palindrom(5535)"
   ]
  },
  {
   "cell_type": "code",
   "execution_count": 105,
   "metadata": {
    "id": "n-qUrQ09Pni9"
   },
   "outputs": [],
   "source": [
    "#Exercise 3.6: Write a program which will find all such numbers which are divisible by 7\n",
    "#but are not a multiple of 4, between 100 and 1500 (both included). The numbers obtained\n",
    "#should be printed in a comma-separated sequence on a single line.\n",
    "\n",
    "\n",
    "def divisible():\n",
    "    l = []\n",
    "    for i in range(100,1501):\n",
    "        if i%7 == 0 and i%4 != 0:\n",
    "            l.append(str(i))\n",
    "    \n",
    "    return ','.join(l)\n",
    "\n",
    "\n"
   ]
  },
  {
   "cell_type": "code",
   "execution_count": 109,
   "metadata": {},
   "outputs": [
    {
     "data": {
      "text/plain": [
       "[105,\n",
       " 119,\n",
       " 126,\n",
       " 133,\n",
       " 147,\n",
       " 154,\n",
       " 161,\n",
       " 175,\n",
       " 182,\n",
       " 189,\n",
       " 203,\n",
       " 210,\n",
       " 217,\n",
       " 231,\n",
       " 238,\n",
       " 245,\n",
       " 259,\n",
       " 266,\n",
       " 273,\n",
       " 287,\n",
       " 294,\n",
       " 301,\n",
       " 315,\n",
       " 322,\n",
       " 329,\n",
       " 343,\n",
       " 350,\n",
       " 357,\n",
       " 371,\n",
       " 378,\n",
       " 385,\n",
       " 399,\n",
       " 406,\n",
       " 413,\n",
       " 427,\n",
       " 434,\n",
       " 441,\n",
       " 455,\n",
       " 462,\n",
       " 469,\n",
       " 483,\n",
       " 490,\n",
       " 497,\n",
       " 511,\n",
       " 518,\n",
       " 525,\n",
       " 539,\n",
       " 546,\n",
       " 553,\n",
       " 567,\n",
       " 574,\n",
       " 581,\n",
       " 595,\n",
       " 602,\n",
       " 609,\n",
       " 623,\n",
       " 630,\n",
       " 637,\n",
       " 651,\n",
       " 658,\n",
       " 665,\n",
       " 679,\n",
       " 686,\n",
       " 693,\n",
       " 707,\n",
       " 714,\n",
       " 721,\n",
       " 735,\n",
       " 742,\n",
       " 749,\n",
       " 763,\n",
       " 770,\n",
       " 777,\n",
       " 791,\n",
       " 798,\n",
       " 805,\n",
       " 819,\n",
       " 826,\n",
       " 833,\n",
       " 847,\n",
       " 854,\n",
       " 861,\n",
       " 875,\n",
       " 882,\n",
       " 889,\n",
       " 903,\n",
       " 910,\n",
       " 917,\n",
       " 931,\n",
       " 938,\n",
       " 945,\n",
       " 959,\n",
       " 966,\n",
       " 973,\n",
       " 987,\n",
       " 994,\n",
       " 1001,\n",
       " 1015,\n",
       " 1022,\n",
       " 1029,\n",
       " 1043,\n",
       " 1050,\n",
       " 1057,\n",
       " 1071,\n",
       " 1078,\n",
       " 1085,\n",
       " 1099,\n",
       " 1106,\n",
       " 1113,\n",
       " 1127,\n",
       " 1134,\n",
       " 1141,\n",
       " 1155,\n",
       " 1162,\n",
       " 1169,\n",
       " 1183,\n",
       " 1190,\n",
       " 1197,\n",
       " 1211,\n",
       " 1218,\n",
       " 1225,\n",
       " 1239,\n",
       " 1246,\n",
       " 1253,\n",
       " 1267,\n",
       " 1274,\n",
       " 1281,\n",
       " 1295,\n",
       " 1302,\n",
       " 1309,\n",
       " 1323,\n",
       " 1330,\n",
       " 1337,\n",
       " 1351,\n",
       " 1358,\n",
       " 1365,\n",
       " 1379,\n",
       " 1386,\n",
       " 1393,\n",
       " 1407,\n",
       " 1414,\n",
       " 1421,\n",
       " 1435,\n",
       " 1442,\n",
       " 1449,\n",
       " 1463,\n",
       " 1470,\n",
       " 1477,\n",
       " 1491,\n",
       " 1498]"
      ]
     },
     "execution_count": 109,
     "metadata": {},
     "output_type": "execute_result"
    }
   ],
   "source": [
    "[i for i in list(range(100,1501)) if i%7 == 0 and i%4 != 0]"
   ]
  },
  {
   "cell_type": "code",
   "execution_count": 106,
   "metadata": {},
   "outputs": [
    {
     "data": {
      "text/plain": [
       "'105,119,126,133,147,154,161,175,182,189,203,210,217,231,238,245,259,266,273,287,294,301,315,322,329,343,350,357,371,378,385,399,406,413,427,434,441,455,462,469,483,490,497,511,518,525,539,546,553,567,574,581,595,602,609,623,630,637,651,658,665,679,686,693,707,714,721,735,742,749,763,770,777,791,798,805,819,826,833,847,854,861,875,882,889,903,910,917,931,938,945,959,966,973,987,994,1001,1015,1022,1029,1043,1050,1057,1071,1078,1085,1099,1106,1113,1127,1134,1141,1155,1162,1169,1183,1190,1197,1211,1218,1225,1239,1246,1253,1267,1274,1281,1295,1302,1309,1323,1330,1337,1351,1358,1365,1379,1386,1393,1407,1414,1421,1435,1442,1449,1463,1470,1477,1491,1498'"
      ]
     },
     "execution_count": 106,
     "metadata": {},
     "output_type": "execute_result"
    }
   ],
   "source": [
    "divisible()"
   ]
  },
  {
   "cell_type": "code",
   "execution_count": 111,
   "metadata": {
    "id": "CBneGRSyVmiX"
   },
   "outputs": [
    {
     "data": {
      "text/plain": [
       "True"
      ]
     },
     "execution_count": 111,
     "metadata": {},
     "output_type": "execute_result"
    }
   ],
   "source": [
    "#Exercise 3.7: Write a code that inputs two integers and returns True if they are anagram\n",
    "#of each other, else returns False\n",
    "\n",
    "def anagram(x,y):\n",
    "    return [i for i in x].sort() == [j for j in y].sort()\n",
    "\n",
    "anagram(\"luca\",\"aclu\")"
   ]
  },
  {
   "cell_type": "code",
   "execution_count": null,
   "metadata": {
    "id": "_DNwbAfyWMki"
   },
   "outputs": [],
   "source": [
    "#Exercise 3.8: Write a program that takes a number and it’s base (<36) and returns the\n",
    "#value in decimal system. Assume number greater than 9 are represented by alphabets [a-z]\n",
    "\n",
    "\n"
   ]
  },
  {
   "cell_type": "code",
   "execution_count": 4,
   "metadata": {
    "id": "zAVQPdwfV3wN"
   },
   "outputs": [
    {
     "name": "stdout",
     "output_type": "stream",
     "text": [
      "['20', '*', '5']\n"
     ]
    },
    {
     "data": {
      "text/plain": [
       "'100'"
      ]
     },
     "execution_count": 4,
     "metadata": {},
     "output_type": "execute_result"
    }
   ],
   "source": [
    "#Exercise 3.9: Text based calculator: Write a program that take’s in a string \"No1 operator\n",
    "#No2\". and returns the output of the operation in string. Allowed operations are {+,-,*,/}\n",
    "\n",
    "def calculator(x):\n",
    "    l = x.split(\" \")\n",
    "    \n",
    "    print(l)\n",
    "    no1 = int(l[0])\n",
    "    no2 = int(l[2])\n",
    "    \n",
    "    if l[1] == '+':\n",
    "        return str(no1+no2)\n",
    "    elif l[1] == '-':\n",
    "        return str(no1-no2)\n",
    "    elif l[1] == '*':\n",
    "        return str(no1*no2)\n",
    "    elif l[1] == '/':\n",
    "        return str(no1/no2)\n",
    "\n",
    "\n",
    "calculator('20 * 5')"
   ]
  },
  {
   "cell_type": "code",
   "execution_count": 117,
   "metadata": {
    "id": "UpOzIyJwXgix"
   },
   "outputs": [
    {
     "data": {
      "text/plain": [
       "<generator object fib at 0x11a87ee40>"
      ]
     },
     "execution_count": 117,
     "metadata": {},
     "output_type": "execute_result"
    }
   ],
   "source": [
    "#Exercise 3.10: Write a program that takes an input N and returns fibonacci sequence to\n",
    "#N th number in the sequence with and without using recursion\n",
    "\n",
    "\n",
    "def fib(max):\n",
    "    a, b = 0, 1\n",
    "    while a < max:\n",
    "        yield a\n",
    "        a, b = b, a + b\n",
    "        \n",
    "fib(144)"
   ]
  },
  {
   "cell_type": "code",
   "execution_count": null,
   "metadata": {
    "id": "AlTUUp9VXquP"
   },
   "outputs": [],
   "source": [
    "#Exercise 3.11: Write a program that takes a positive integer input N and returns all\n",
    "#palindrome’s uptill and including N\n"
   ]
  },
  {
   "cell_type": "code",
   "execution_count": 119,
   "metadata": {
    "id": "ItHW53T5X02R"
   },
   "outputs": [
    {
     "data": {
      "text/plain": [
       "3"
      ]
     },
     "execution_count": 119,
     "metadata": {},
     "output_type": "execute_result"
    }
   ],
   "source": [
    "#Exercise 3.12: Write a program that return’s the smallest of the integers in a list.\n",
    "\n",
    "l = [3,4,5,6,6,7]\n",
    "\n",
    "min(l) \n",
    "\n",
    "# min() can also return the smaller value "
   ]
  },
  {
   "cell_type": "code",
   "execution_count": null,
   "metadata": {
    "id": "fNypSyR8YbUY"
   },
   "outputs": [],
   "source": [
    "#Exercise 3.13: Write a program that return’s the largest number in a list.\n",
    "\n",
    "l = [3,4,5,6,6,7]\n",
    "\n",
    "max(l) "
   ]
  },
  {
   "cell_type": "code",
   "execution_count": 100,
   "metadata": {
    "id": "sYVhI4VvZ3Ui"
   },
   "outputs": [
    {
     "data": {
      "text/plain": [
       "'Hll'"
      ]
     },
     "execution_count": 100,
     "metadata": {},
     "output_type": "execute_result"
    }
   ],
   "source": [
    "#Exercise 3.14: Write a program that removes all vowels from a string\n",
    "\n",
    "def remove_vowels(x):\n",
    "    return \"\".join([i for i in x if i not in ['a','u','o','i','e']])\n",
    "\n",
    "remove_vowels('Hello')"
   ]
  },
  {
   "cell_type": "code",
   "execution_count": null,
   "metadata": {
    "id": "UaYJ6_zoadTs"
   },
   "outputs": [],
   "source": [
    "#Exercise 3.15: Write a program that take’s an input N (odd integer) and drawn an\n",
    "#isosceles triangle with N stars on the base and the other sides of equal size.\n",
    "#Example: N=5\n",
    "#   *\n",
    "#  ***\n",
    "# *****\n"
   ]
  },
  {
   "cell_type": "code",
   "execution_count": null,
   "metadata": {
    "id": "4E2BEH0RndWZ"
   },
   "outputs": [],
   "source": [
    "#Exercise 3.16: Write a program that removes repeated words next to each other from a\n",
    "#string.\n",
    "\n",
    "\n",
    "\n"
   ]
  },
  {
   "cell_type": "code",
   "execution_count": null,
   "metadata": {
    "id": "WltGM7swZri2"
   },
   "outputs": [],
   "source": [
    "#Exercise 4.1: Write a child class with 2 parents and validate the above scheme of attribute\n",
    "#search in instance of a class\n",
    "\n",
    "pass\n"
   ]
  },
  {
   "cell_type": "code",
   "execution_count": 23,
   "metadata": {
    "id": "nwTrx9quM-8E"
   },
   "outputs": [],
   "source": [
    "#Exercise 4.2: Write a program (without using OOP) which takes in (x, y) ∈ R+2 a tuple of\n",
    "#positive number representing the size of rectangular grid. It then takes an arbitrary number\n",
    "#of parameters (x, y), r, where the (x, y) represents the center of a circle and r represents\n",
    "#the radius. For each entry the program returns a \"True\" if the circle can be placed on the\n",
    "#grid without it intersecting with any other circles and then places the circle on the grid. Else\n",
    "#\"False\" if the circle can not be placed on the grid because it intersects with other previously\n",
    "#placed circle\n",
    "\n",
    "\n",
    "\n",
    "\n",
    "def dimension(x,y):\n",
    "    return (x,y)\n",
    "\n",
    "def center(cx,cy):\n",
    "    return (cx,cy)\n",
    "\n",
    "def distance(x,x2,y,y2):\n",
    "    import math\n",
    "    return math.sqrt((x2-x)^2+(y2-y)^2)\n",
    "\n",
    "def condition_bounderies(x,y,center,radius):\n",
    "    D = (x,y)\n",
    "    if center[0] + radius < D[0] and center[1] + radius < D1[1] and center[0] - radius > 0 and center[1] - radius > 0:\n",
    "        centers.append(center)\n",
    "        radii.append(r)\n",
    "        return True\n",
    "    \n",
    "def circle_overlap(previous_centers,new_center):\n",
    "    pass\n"
   ]
  },
  {
   "cell_type": "code",
   "execution_count": 40,
   "metadata": {},
   "outputs": [
    {
     "data": {
      "text/plain": [
       "True"
      ]
     },
     "execution_count": 40,
     "metadata": {},
     "output_type": "execute_result"
    }
   ],
   "source": [
    "centers = []\n",
    "    \n",
    "radii = []\n",
    "\n",
    "def gridworld(x,y,cx,cy,r):\n",
    "    \n",
    "    D = dimension(x,y)\n",
    "\n",
    "    if len(radii) == 0:\n",
    "        \n",
    "        center = (cx,cy)\n",
    "        radius = r\n",
    "        D = (x,y)\n",
    "        \n",
    "        if center[0] + radius < D[0] and center[1] + radius < D[1] and center[0] - radius > 0 and center[1] - radius > 0:\n",
    "            centers.append(center)\n",
    "            radii.append(r)\n",
    "            return True\n",
    "    \n",
    "    else:\n",
    "        dist = distance(centers[-1][0],centers[-1][1],cx,cy)\n",
    "        \n",
    "        new_center = (cx,cy)\n",
    "        \n",
    "        bool_list = []\n",
    "        for i in range(len(radii)):\n",
    "            \n",
    "            dist = distance(centers[i-1][0],centers[i][1],cx,cy)\n",
    "            \n",
    "            if dist < radii[i] + r:\n",
    "                bool_list.append(True)\n",
    "            else:\n",
    "                bool_list.append(False)\n",
    "        \n",
    "        print(bool_list)\n",
    "        \n",
    "        if all(bool_list) == True:\n",
    "            centers.append(new_center)\n",
    "            radii.append(r)\n",
    "            return True\n",
    "        else:\n",
    "            return False\n",
    "        \n",
    "        \n",
    "gridworld(10, 10, 5,5,1)"
   ]
  },
  {
   "cell_type": "code",
   "execution_count": 37,
   "metadata": {},
   "outputs": [
    {
     "name": "stdout",
     "output_type": "stream",
     "text": [
      "[True]\n"
     ]
    },
    {
     "data": {
      "text/plain": [
       "True"
      ]
     },
     "execution_count": 37,
     "metadata": {},
     "output_type": "execute_result"
    }
   ],
   "source": [
    "gridworld(10, 10, 1,1,1)"
   ]
  },
  {
   "cell_type": "code",
   "execution_count": 41,
   "metadata": {},
   "outputs": [
    {
     "name": "stdout",
     "output_type": "stream",
     "text": [
      "[True]\n"
     ]
    },
    {
     "data": {
      "text/plain": [
       "True"
      ]
     },
     "execution_count": 41,
     "metadata": {},
     "output_type": "execute_result"
    }
   ],
   "source": [
    "gridworld(10, 10,4,4,2)"
   ]
  },
  {
   "cell_type": "code",
   "execution_count": 42,
   "metadata": {},
   "outputs": [
    {
     "data": {
      "text/plain": [
       "[(5, 5), (4, 4)]"
      ]
     },
     "execution_count": 42,
     "metadata": {},
     "output_type": "execute_result"
    }
   ],
   "source": [
    "centers"
   ]
  },
  {
   "cell_type": "code",
   "execution_count": null,
   "metadata": {},
   "outputs": [],
   "source": []
  }
 ],
 "metadata": {
  "colab": {
   "collapsed_sections": [],
   "name": "Seminar1_Python.ipynb",
   "provenance": []
  },
  "kernelspec": {
   "display_name": "Python 3 (ipykernel)",
   "language": "python",
   "name": "python3"
  },
  "language_info": {
   "codemirror_mode": {
    "name": "ipython",
    "version": 3
   },
   "file_extension": ".py",
   "mimetype": "text/x-python",
   "name": "python",
   "nbconvert_exporter": "python",
   "pygments_lexer": "ipython3",
   "version": "3.9.12"
  }
 },
 "nbformat": 4,
 "nbformat_minor": 1
}
