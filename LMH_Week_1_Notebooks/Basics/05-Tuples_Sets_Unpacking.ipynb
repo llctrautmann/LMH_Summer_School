{
 "cells": [
  {
   "cell_type": "markdown",
   "metadata": {
    "id": "ks_qqT7Sw3D3"
   },
   "source": [
    "# Tuples\n",
    "\n",
    "In Python tuples are very similar to lists, however, unlike lists they are *immutable* meaning they can not be changed. You would use tuples to present things that shouldn't be changed, such as days of the week, or dates on a calendar. \n",
    "\n",
    "In this section, we will get a brief overview of the following:\n",
    "\n",
    "    1.) Constructing Tuples\n",
    "    2.) Basic Tuple Methods\n",
    "    3.) Immutability\n",
    "    4.) When to Use Tuples\n",
    "\n",
    "\n",
    "\n",
    "## Constructing Tuples\n",
    "\n",
    "The construction of a tuples use () with elements separated by commas. For example:"
   ]
  },
  {
   "cell_type": "code",
   "execution_count": null,
   "metadata": {
    "id": "CayXXcSpw3D8"
   },
   "outputs": [],
   "source": [
    "# Create a tuple\n",
    "t = (1,2,3)"
   ]
  },
  {
   "cell_type": "code",
   "execution_count": null,
   "metadata": {
    "colab": {
     "base_uri": "https://localhost:8080/"
    },
    "executionInfo": {
     "elapsed": 10,
     "status": "ok",
     "timestamp": 1648126411701,
     "user": {
      "displayName": "Naeemullah Khan",
      "photoUrl": "https://lh3.googleusercontent.com/a/default-user=s64",
      "userId": "18307185785900481812"
     },
     "user_tz": 0
    },
    "id": "Od2Q_RrDw3D-",
    "outputId": "e13e3797-ef02-404d-8738-8cd2c86c1275"
   },
   "outputs": [
    {
     "data": {
      "text/plain": [
       "3"
      ]
     },
     "execution_count": 2,
     "metadata": {},
     "output_type": "execute_result"
    }
   ],
   "source": [
    "# Check len just like a list\n",
    "len(t)"
   ]
  },
  {
   "cell_type": "code",
   "execution_count": null,
   "metadata": {
    "colab": {
     "base_uri": "https://localhost:8080/"
    },
    "executionInfo": {
     "elapsed": 5,
     "status": "ok",
     "timestamp": 1648126415177,
     "user": {
      "displayName": "Naeemullah Khan",
      "photoUrl": "https://lh3.googleusercontent.com/a/default-user=s64",
      "userId": "18307185785900481812"
     },
     "user_tz": 0
    },
    "id": "YM6anUrbw3EB",
    "outputId": "bea818b0-5d8a-4de7-c01a-e6baae072c46"
   },
   "outputs": [
    {
     "data": {
      "text/plain": [
       "('one', 2)"
      ]
     },
     "execution_count": 3,
     "metadata": {},
     "output_type": "execute_result"
    }
   ],
   "source": [
    "# Can also mix object types\n",
    "t = ('one',2)\n",
    "\n",
    "# Show\n",
    "t"
   ]
  },
  {
   "cell_type": "code",
   "execution_count": null,
   "metadata": {
    "colab": {
     "base_uri": "https://localhost:8080/",
     "height": 35
    },
    "executionInfo": {
     "elapsed": 267,
     "status": "ok",
     "timestamp": 1648126419910,
     "user": {
      "displayName": "Naeemullah Khan",
      "photoUrl": "https://lh3.googleusercontent.com/a/default-user=s64",
      "userId": "18307185785900481812"
     },
     "user_tz": 0
    },
    "id": "cBHpqoT4w3EI",
    "outputId": "386101fc-4d1b-4c28-82f8-fa024e57711f"
   },
   "outputs": [
    {
     "data": {
      "application/vnd.google.colaboratory.intrinsic+json": {
       "type": "string"
      },
      "text/plain": [
       "'one'"
      ]
     },
     "execution_count": 4,
     "metadata": {},
     "output_type": "execute_result"
    }
   ],
   "source": [
    "# Use indexing just like we did in lists\n",
    "t[0]"
   ]
  },
  {
   "cell_type": "code",
   "execution_count": null,
   "metadata": {
    "id": "UtsmrKiAw3EI",
    "outputId": "96909a02-f61e-4398-ff03-eda8ece70d9d"
   },
   "outputs": [
    {
     "data": {
      "text/plain": [
       "2"
      ]
     },
     "execution_count": 7,
     "metadata": {},
     "output_type": "execute_result"
    }
   ],
   "source": [
    "# Slicing just like a list\n",
    "t[-1]"
   ]
  },
  {
   "cell_type": "markdown",
   "metadata": {
    "id": "DGCVCOg1w3EJ"
   },
   "source": [
    "## Basic Tuple Methods\n",
    "\n",
    "Tuples have built-in methods, but not as many as lists do. Let's look at two of them:"
   ]
  },
  {
   "cell_type": "code",
   "execution_count": null,
   "metadata": {
    "id": "2_KCMBA-w3EL",
    "outputId": "64d05980-63ca-44a5-e29a-eb18d84a3f23"
   },
   "outputs": [
    {
     "data": {
      "text/plain": [
       "0"
      ]
     },
     "execution_count": 8,
     "metadata": {},
     "output_type": "execute_result"
    }
   ],
   "source": [
    "# Use .index to enter a value and return the index\n",
    "t.index('one')"
   ]
  },
  {
   "cell_type": "code",
   "execution_count": null,
   "metadata": {
    "id": "EZsgsfo0w3EL",
    "outputId": "0ad1f212-dc32-40f7-8150-a4e1f2e24d7f"
   },
   "outputs": [
    {
     "data": {
      "text/plain": [
       "1"
      ]
     },
     "execution_count": 9,
     "metadata": {},
     "output_type": "execute_result"
    }
   ],
   "source": [
    "# Use .count to count the number of times a value appears\n",
    "t.count('one')"
   ]
  },
  {
   "cell_type": "code",
   "execution_count": null,
   "metadata": {
    "id": "7nqsY6MLw3EM",
    "outputId": "8c4186c9-4ecd-4f1c-f492-83ed43fbafc8"
   },
   "outputs": [
    {
     "data": {
      "text/plain": [
       "0"
      ]
     },
     "execution_count": 9,
     "metadata": {},
     "output_type": "execute_result"
    }
   ],
   "source": [
    "#Check\n",
    "my_dict['key1']"
   ]
  },
  {
   "cell_type": "markdown",
   "metadata": {
    "id": "5r0nFDmcw3EN"
   },
   "source": [
    "## Immutability\n",
    "\n",
    "It can't be stressed enough that tuples are immutable. To drive that point home:"
   ]
  },
  {
   "cell_type": "code",
   "execution_count": null,
   "metadata": {
    "id": "Gw1M5Wldw3EN",
    "outputId": "a9d77df2-546b-47d0-a80b-40240bc5ff82"
   },
   "outputs": [
    {
     "ename": "TypeError",
     "evalue": "'tuple' object does not support item assignment",
     "output_type": "error",
     "traceback": [
      "\u001b[0;31m---------------------------------------------------------------------------\u001b[0m",
      "\u001b[0;31mTypeError\u001b[0m                                 Traceback (most recent call last)",
      "\u001b[0;32m<ipython-input-10-1257c0aa9edd>\u001b[0m in \u001b[0;36m<module>\u001b[0;34m\u001b[0m\n\u001b[0;32m----> 1\u001b[0;31m \u001b[0mt\u001b[0m\u001b[0;34m[\u001b[0m\u001b[0;36m0\u001b[0m\u001b[0;34m]\u001b[0m\u001b[0;34m=\u001b[0m \u001b[0;34m'change'\u001b[0m\u001b[0;34m\u001b[0m\u001b[0;34m\u001b[0m\u001b[0m\n\u001b[0m",
      "\u001b[0;31mTypeError\u001b[0m: 'tuple' object does not support item assignment"
     ]
    }
   ],
   "source": [
    "t[0]= 'change'"
   ]
  },
  {
   "cell_type": "markdown",
   "metadata": {
    "id": "V8wSNcu_w3EO"
   },
   "source": [
    "## Misc"
   ]
  },
  {
   "cell_type": "code",
   "execution_count": null,
   "metadata": {
    "id": "0NjaJ1y6w3EO",
    "outputId": "3fc581bc-fabc-4ebc-88af-7ba4778c3b4e"
   },
   "outputs": [
    {
     "name": "stdout",
     "output_type": "stream",
     "text": [
      "<class 'tuple'>\n",
      "5\n",
      "1\n"
     ]
    }
   ],
   "source": [
    "d = {(x, x + 1): x for x in range(10)}  # Create a dictionary with tuple keys\n",
    "t = (5, 6)        # Create a tuple\n",
    "print(type(t))    # Prints \"<class 'tuple'>\"\n",
    "print(d[t])       # Prints \"5\"\n",
    "print(d[(1, 2)])  # Prints \"1\""
   ]
  },
  {
   "cell_type": "code",
   "execution_count": null,
   "metadata": {
    "id": "8LVdqJAvw3EP",
    "outputId": "1a30716a-ae6c-48d9-86dc-cc4b905a70e2"
   },
   "outputs": [
    {
     "data": {
      "text/plain": [
       "{(0, 1): 0,\n",
       " (1, 2): 1,\n",
       " (2, 3): 2,\n",
       " (3, 4): 3,\n",
       " (4, 5): 4,\n",
       " (5, 6): 5,\n",
       " (6, 7): 6,\n",
       " (7, 8): 7,\n",
       " (8, 9): 8,\n",
       " (9, 10): 9}"
      ]
     },
     "execution_count": 12,
     "metadata": {},
     "output_type": "execute_result"
    }
   ],
   "source": [
    "d"
   ]
  },
  {
   "cell_type": "markdown",
   "metadata": {
    "id": "954wxKUJw3EP"
   },
   "source": [
    "[The documentation](https://docs.python.org/3.5/tutorial/datastructures.html#tuples-and-sequences) has more information about tuples."
   ]
  },
  {
   "cell_type": "markdown",
   "metadata": {
    "id": "oHb2phknw3EQ"
   },
   "source": [
    "### Unpacking"
   ]
  },
  {
   "cell_type": "markdown",
   "metadata": {
    "id": "slcpWFacw3EQ"
   },
   "source": [
    "\n",
    "# Set and Booleans\n",
    "\n",
    "There are two other object types in Python that we should quickly cover: Sets and Booleans. \n",
    "\n",
    "## Sets\n",
    "\n",
    "Sets are an unordered collection of *unique* elements. We can construct them by using the set() function. Let's go ahead and make a set to see how it works"
   ]
  },
  {
   "cell_type": "code",
   "execution_count": null,
   "metadata": {
    "id": "cUVw6bD0w3ER"
   },
   "outputs": [],
   "source": [
    "x = set()"
   ]
  },
  {
   "cell_type": "code",
   "execution_count": null,
   "metadata": {
    "id": "lza5RP_Aw3ER"
   },
   "outputs": [],
   "source": [
    "x.add(3)"
   ]
  },
  {
   "cell_type": "code",
   "execution_count": null,
   "metadata": {
    "id": "YO9BQ2pVw3ER",
    "outputId": "a3c44bc9-df46-4c51-9ac0-17fec1cfb815"
   },
   "outputs": [
    {
     "data": {
      "text/plain": [
       "{3}"
      ]
     },
     "execution_count": 17,
     "metadata": {},
     "output_type": "execute_result"
    }
   ],
   "source": [
    "x"
   ]
  },
  {
   "cell_type": "markdown",
   "metadata": {
    "id": "blRRYiTWw3ES"
   },
   "source": [
    "We know that a set has only unique entries. So what happens when we try to add something that is already in a set?"
   ]
  },
  {
   "cell_type": "code",
   "execution_count": null,
   "metadata": {
    "id": "eLl_qixAw3ES"
   },
   "outputs": [],
   "source": [
    "# Add a different element\n",
    "x.add(2)\n",
    "x.add('adle')"
   ]
  },
  {
   "cell_type": "code",
   "execution_count": null,
   "metadata": {
    "id": "8bdyKnpTw3ES",
    "outputId": "73a9d008-9425-4d8f-a7b0-ef0be095cac4"
   },
   "outputs": [
    {
     "data": {
      "text/plain": [
       "{2, 3, 'adle'}"
      ]
     },
     "execution_count": 21,
     "metadata": {},
     "output_type": "execute_result"
    }
   ],
   "source": [
    "x"
   ]
  },
  {
   "cell_type": "code",
   "execution_count": null,
   "metadata": {
    "id": "HLTRdHI9w3ET",
    "outputId": "6929257c-c884-48e8-f8df-ac1a6a8f4c9c"
   },
   "outputs": [
    {
     "name": "stdout",
     "output_type": "stream",
     "text": [
      "{'adle', 2, 3}\n"
     ]
    }
   ],
   "source": [
    "x.add(2)\n",
    "print(x)"
   ]
  },
  {
   "cell_type": "markdown",
   "metadata": {
    "id": "IvGnOskUw3ET"
   },
   "source": [
    "## unpacking\n",
    "All containers can be unpacked as follows:"
   ]
  },
  {
   "cell_type": "code",
   "execution_count": null,
   "metadata": {
    "id": "uxnMWJQJw3ET",
    "outputId": "9faa2ba6-f53c-429c-9889-a589017155a1"
   },
   "outputs": [
    {
     "name": "stdout",
     "output_type": "stream",
     "text": [
      "3 2 1\n",
      "3 2 1\n",
      "1 2 3\n",
      "c b a\n",
      "c b a\n",
      "3 2 1\n",
      "c b a\n",
      "3 2 1\n"
     ]
    }
   ],
   "source": [
    "t = (3, 2, 1)\n",
    "a, b, c = t  # unpacks the tuple t; prints \"3 2 1\"\n",
    "print(a, b, c)\n",
    "\n",
    "l = [3, 2, 1]\n",
    "a, b, c = l  # unpacks the list l; prints \"3 2 1\"\n",
    "print(a, b, c)\n",
    "\n",
    "s = {3, 2, 1}\n",
    "a, b, c = s  # unpacks the set s; prints \"1 2 3\" (set ordering)\n",
    "print(a, b, c)\n",
    "\n",
    "d = {'c': 3, 'b': 2, 'a': 1}\n",
    "a, b, c = d  # unpacks the keys of the dict d; prints \"c b a\"\n",
    "print(a, b, c)\n",
    "ak, bk, ck = d.keys()  # unpacks the keys of the dict d; prints \"c b a\"\n",
    "print(ak, bk, ck)\n",
    "a, b, c = d.values()  # unpacks the values of the dict d; prints \"3 2 1\"\n",
    "print(a, b, c)\n",
    "(ak, a), (bk, b), (ck, c) = d.items()  # unpacks key-value tuples of the dict d\n",
    "print(ak, bk, ck)  # prints \"c b a\"\n",
    "print(a, b, c)     # prints \"3 2 1\""
   ]
  },
  {
   "cell_type": "markdown",
   "metadata": {
    "id": "x-WXkZKzw3EU"
   },
   "source": [
    "### Swapping"
   ]
  },
  {
   "cell_type": "code",
   "execution_count": null,
   "metadata": {
    "id": "pg41TkrKw3EU",
    "outputId": "2f563a6a-d5d2-4b7d-cdf9-ca0992b51eb4"
   },
   "outputs": [
    {
     "name": "stdout",
     "output_type": "stream",
     "text": [
      "5 3\n"
     ]
    }
   ],
   "source": [
    "a = 3\n",
    "b = 5\n",
    "a, b = b, a\n",
    "print(a, b)  # prints \"5 3\""
   ]
  },
  {
   "cell_type": "markdown",
   "metadata": {
    "id": "4pblU4qTw3EU"
   },
   "source": [
    "The asterisk (`*`) can be used as an unpacking operator:"
   ]
  },
  {
   "cell_type": "code",
   "execution_count": null,
   "metadata": {
    "id": "HFZJUtYlw3EU",
    "outputId": "2d3bfacd-fc4d-4707-ea5a-84af1331d000"
   },
   "outputs": [
    {
     "name": "stdout",
     "output_type": "stream",
     "text": [
      "[8, 9, 7, 4, 5, 6, 3, 2, 1]\n",
      "(8, 9, 7, 4, 5, 6, 3, 2, 1)\n",
      "{1, 2, 3, 4, 5, 6, 7, 8, 9}\n"
     ]
    }
   ],
   "source": [
    "l = [3, 2, 1] # a list\n",
    "t = (4, 5, 6) # a tuple\n",
    "s = {9, 8, 7} # a set\n",
    "b = [*s, *t, *l]  # unpacks s, t, and l side to side in a new list\n",
    "print(b)      # prints \"[8, 9, 7, 4, 5, 6, 3, 2, 1]\"\n",
    "b = (*s, *t, *l)  # unpacks s, t, and l side to side in a new tuple\n",
    "print(b)      # prints \"(8, 9, 7, 4, 5, 6, 3, 2, 1)\"\n",
    "b = {*s, *t, *l}  # unpacks s, t, and l side to side in a new set\n",
    "print(b)      # prints \"{1, 2, 3, 4, 5, 6, 7, 8, 9}\""
   ]
  },
  {
   "cell_type": "markdown",
   "metadata": {
    "id": "5DC0fuJTw3EV"
   },
   "source": [
    "We can also use it in the left-hand-side of the assignments:"
   ]
  },
  {
   "cell_type": "code",
   "execution_count": null,
   "metadata": {
    "id": "yRCcDDN-w3EV"
   },
   "outputs": [],
   "source": [
    "numbers = [1, 2, 3, 4, 5, 6]\n",
    "\n",
    "# The left side of unpacking should be list or tuple.\n",
    "*a, = numbers\n",
    "# a = [1, 2, 3, 4, 5, 6]\n",
    "\n",
    "*a, b = numbers\n",
    "# a = [1, 2, 3, 4, 5]\n",
    "# b = 6\n",
    "\n",
    "a, *b = numbers\n",
    "# a = 1 \n",
    "# b = [2, 3, 4, 5, 6]\n",
    "\n",
    "a, *b, c = numbers\n",
    "# a = 1\n",
    "# b = [2, 3, 4, 5]\n",
    "# c = 6"
   ]
  },
  {
   "cell_type": "markdown",
   "metadata": {
    "id": "z2KqL62Jw3EW"
   },
   "source": [
    "For dictionaries, we use the double-asterisks (`**`) or the (`zip`) function:"
   ]
  },
  {
   "cell_type": "code",
   "execution_count": null,
   "metadata": {
    "id": "-aW8DrZJw3EW",
    "outputId": "f41c5aed-efd6-4757-a9e4-ec1b05a729c7"
   },
   "outputs": [
    {
     "name": "stdout",
     "output_type": "stream",
     "text": [
      "{'c': 3, 'b': 2, 'a': 1, 'd': 4, 'e': 5, 'f': 6}\n",
      "{'a': 1, 'b': 2, 'c': 3}\n"
     ]
    }
   ],
   "source": [
    "d1 = {'c': 3, 'b': 2, 'a': 1}\n",
    "d2 = {'d': 4, 'e': 5, 'f': 6}\n",
    "d = {**d1, **d2}\n",
    "print(d)  # prints \"{'c': 3, 'b': 2, 'a': 1, 'd': 4, 'e': 5, 'f': 6}\"\n",
    "\n",
    "keys = ['a', 'b', 'c']\n",
    "values = [1, 2, 3]\n",
    "d = dict(zip(keys, values))\n",
    "print(d)  # prints \"{'a': 1, 'b': 2, 'c': 3}\""
   ]
  },
  {
   "cell_type": "code",
   "execution_count": null,
   "metadata": {
    "colab": {
     "base_uri": "https://localhost:8080/"
    },
    "executionInfo": {
     "elapsed": 304,
     "status": "ok",
     "timestamp": 1648126493485,
     "user": {
      "displayName": "Naeemullah Khan",
      "photoUrl": "https://lh3.googleusercontent.com/a/default-user=s64",
      "userId": "18307185785900481812"
     },
     "user_tz": 0
    },
    "id": "C411L2dow3EW",
    "outputId": "8b680fd9-9c6c-446f-ac59-e6aa9c376c08"
   },
   "outputs": [
    {
     "name": "stdout",
     "output_type": "stream",
     "text": [
      "{'T', 'm', 'o'}\n"
     ]
    }
   ],
   "source": [
    "x=\"Toom\"\n",
    "\n",
    "x_set=set(x)\n",
    "print(x_set)"
   ]
  }
 ],
 "metadata": {
  "colab": {
   "collapsed_sections": [],
   "name": "05-Tuples_Sets_Unpacking.ipynb",
   "provenance": []
  },
  "kernelspec": {
   "display_name": "Python 3 (ipykernel)",
   "language": "python",
   "name": "python3"
  },
  "language_info": {
   "codemirror_mode": {
    "name": "ipython",
    "version": 3
   },
   "file_extension": ".py",
   "mimetype": "text/x-python",
   "name": "python",
   "nbconvert_exporter": "python",
   "pygments_lexer": "ipython3",
   "version": "3.9.12"
  }
 },
 "nbformat": 4,
 "nbformat_minor": 1
}
