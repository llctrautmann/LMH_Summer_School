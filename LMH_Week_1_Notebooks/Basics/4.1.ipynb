{
 "cells": [
  {
   "cell_type": "code",
   "execution_count": 56,
   "id": "b7f5d6b8",
   "metadata": {},
   "outputs": [],
   "source": [
    "class Human:\n",
    "    def __init__(self,name):\n",
    "        self.name = \"Luca\"\n",
    "\n",
    "class Student:\n",
    "    def __init__(self,name):\n",
    "        self.name = \"target\""
   ]
  },
  {
   "cell_type": "code",
   "execution_count": 29,
   "id": "92a94138",
   "metadata": {},
   "outputs": [
    {
     "data": {
      "text/plain": [
       "'Luca'"
      ]
     },
     "execution_count": 29,
     "metadata": {},
     "output_type": "execute_result"
    }
   ],
   "source": [
    "Human_1 = Human('Luca')\n",
    "\n",
    "Human_1.name"
   ]
  },
  {
   "cell_type": "code",
   "execution_count": 68,
   "id": "a9d8a359",
   "metadata": {},
   "outputs": [],
   "source": [
    "class Student_ID(Student,Human):\n",
    "    def __init__(self,name):\n",
    "        super().__init__(name)\n",
    "        "
   ]
  },
  {
   "cell_type": "code",
   "execution_count": 69,
   "id": "1a960b08",
   "metadata": {},
   "outputs": [
    {
     "data": {
      "text/plain": [
       "[__main__.Student_ID, __main__.Student, __main__.Human, object]"
      ]
     },
     "execution_count": 69,
     "metadata": {},
     "output_type": "execute_result"
    }
   ],
   "source": [
    "Student_ID_1 = Student_ID(\"S\")\n",
    "\n",
    "Student_ID.mro()"
   ]
  },
  {
   "cell_type": "code",
   "execution_count": 123,
   "id": "bf7a0806",
   "metadata": {},
   "outputs": [],
   "source": [
    "class Student_ID_2(Human,Student):\n",
    "    pass"
   ]
  },
  {
   "cell_type": "code",
   "execution_count": 124,
   "id": "0d3fe71b",
   "metadata": {},
   "outputs": [
    {
     "data": {
      "text/plain": [
       "'Luca'"
      ]
     },
     "execution_count": 124,
     "metadata": {},
     "output_type": "execute_result"
    }
   ],
   "source": [
    "SID_2 = Student_ID_2()\n",
    "\n",
    "SID_2.name"
   ]
  }
 ],
 "metadata": {
  "kernelspec": {
   "display_name": "Summer_School",
   "language": "python",
   "name": "summer_school"
  },
  "language_info": {
   "codemirror_mode": {
    "name": "ipython",
    "version": 3
   },
   "file_extension": ".py",
   "mimetype": "text/x-python",
   "name": "python",
   "nbconvert_exporter": "python",
   "pygments_lexer": "ipython3",
   "version": "3.10.0"
  }
 },
 "nbformat": 4,
 "nbformat_minor": 5
}
