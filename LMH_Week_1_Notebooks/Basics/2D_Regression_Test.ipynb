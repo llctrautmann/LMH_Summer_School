{
 "cells": [
  {
   "cell_type": "code",
   "execution_count": 89,
   "id": "bbbcafa3",
   "metadata": {},
   "outputs": [],
   "source": [
    "import numpy as np\n",
    "\n",
    "x1=np.linspace(0,5,5)\n",
    "x2=np.linspace(0,5,5)"
   ]
  },
  {
   "cell_type": "code",
   "execution_count": 90,
   "id": "f40d8000",
   "metadata": {},
   "outputs": [],
   "source": [
    "[X1,X2]=np.meshgrid(x1,x2)"
   ]
  },
  {
   "cell_type": "code",
   "execution_count": 91,
   "id": "709bcb4c",
   "metadata": {},
   "outputs": [
    {
     "data": {
      "text/plain": [
       "array([[0.  , 1.25, 2.5 , 3.75, 5.  ],\n",
       "       [0.  , 1.25, 2.5 , 3.75, 5.  ],\n",
       "       [0.  , 1.25, 2.5 , 3.75, 5.  ],\n",
       "       [0.  , 1.25, 2.5 , 3.75, 5.  ],\n",
       "       [0.  , 1.25, 2.5 , 3.75, 5.  ]])"
      ]
     },
     "execution_count": 91,
     "metadata": {},
     "output_type": "execute_result"
    }
   ],
   "source": [
    "X1"
   ]
  },
  {
   "cell_type": "code",
   "execution_count": 92,
   "id": "bbd6f4dc",
   "metadata": {},
   "outputs": [
    {
     "data": {
      "text/plain": [
       "array([[0.  , 0.  , 0.  , 0.  , 0.  ],\n",
       "       [1.25, 1.25, 1.25, 1.25, 1.25],\n",
       "       [2.5 , 2.5 , 2.5 , 2.5 , 2.5 ],\n",
       "       [3.75, 3.75, 3.75, 3.75, 3.75],\n",
       "       [5.  , 5.  , 5.  , 5.  , 5.  ]])"
      ]
     },
     "execution_count": 92,
     "metadata": {},
     "output_type": "execute_result"
    }
   ],
   "source": [
    "X2"
   ]
  },
  {
   "cell_type": "code",
   "execution_count": 93,
   "id": "e577f451",
   "metadata": {},
   "outputs": [],
   "source": [
    "X1_t = np.reshape(X1, (X1.shape[0]*X1.shape[1]))\n",
    "X2_t = np.reshape(X2, (X2.shape[0]*X2.shape[1]))"
   ]
  },
  {
   "cell_type": "code",
   "execution_count": 95,
   "id": "b43a4dbc",
   "metadata": {},
   "outputs": [
    {
     "data": {
      "text/plain": [
       "(25,)"
      ]
     },
     "execution_count": 95,
     "metadata": {},
     "output_type": "execute_result"
    }
   ],
   "source": [
    "X1_t.shape"
   ]
  },
  {
   "cell_type": "code",
   "execution_count": null,
   "id": "b693038a",
   "metadata": {},
   "outputs": [],
   "source": []
  },
  {
   "cell_type": "code",
   "execution_count": null,
   "id": "4103f5f2",
   "metadata": {},
   "outputs": [],
   "source": []
  },
  {
   "cell_type": "code",
   "execution_count": null,
   "id": "0b0d0734",
   "metadata": {},
   "outputs": [],
   "source": []
  },
  {
   "cell_type": "code",
   "execution_count": 105,
   "id": "b54712ad",
   "metadata": {},
   "outputs": [
    {
     "name": "stdout",
     "output_type": "stream",
     "text": [
      "[1. 1. 1. 1. 1. 1. 1. 1. 1. 1. 1. 1. 1. 1. 1. 1. 1. 1. 1. 1. 1. 1. 1. 1.\n",
      " 1.]\n",
      "[1. 1. 1. 1. 1. 1. 1. 1. 1. 1. 1. 1. 1. 1. 1. 1. 1. 1. 1. 1. 1. 1. 1. 1.\n",
      " 1.]\n"
     ]
    }
   ],
   "source": [
    "X = []\n",
    "\n",
    "nb = 0\n",
    "\n",
    "for i in range(nb+1):\n",
    "\n",
    "    for j in range(nb+1):\n",
    "        print(X1_t**i)\n",
    "        print(X1_t**i * X2_t**j)\n",
    "        # X.append(X1_t**i * X2_t**j)"
   ]
  },
  {
   "cell_type": "code",
   "execution_count": 107,
   "id": "38517feb",
   "metadata": {},
   "outputs": [
    {
     "data": {
      "text/plain": [
       "array([ 0.    ,  1.5625,  6.25  , 14.0625, 25.    ,  0.    ,  1.5625,\n",
       "        6.25  , 14.0625, 25.    ,  0.    ,  1.5625,  6.25  , 14.0625,\n",
       "       25.    ,  0.    ,  1.5625,  6.25  , 14.0625, 25.    ,  0.    ,\n",
       "        1.5625,  6.25  , 14.0625, 25.    ])"
      ]
     },
     "execution_count": 107,
     "metadata": {},
     "output_type": "execute_result"
    }
   ],
   "source": [
    "X1_t * X1_t"
   ]
  }
 ],
 "metadata": {
  "kernelspec": {
   "display_name": "Summer_School",
   "language": "python",
   "name": "summer_school"
  },
  "language_info": {
   "codemirror_mode": {
    "name": "ipython",
    "version": 3
   },
   "file_extension": ".py",
   "mimetype": "text/x-python",
   "name": "python",
   "nbconvert_exporter": "python",
   "pygments_lexer": "ipython3",
   "version": "3.10.0"
  }
 },
 "nbformat": 4,
 "nbformat_minor": 5
}
