{
 "cells": [
  {
   "cell_type": "code",
   "execution_count": 1,
   "id": "45e2ba99",
   "metadata": {},
   "outputs": [],
   "source": [
    "import numpy as np"
   ]
  },
  {
   "cell_type": "code",
   "execution_count": 2,
   "id": "7bd5b7e7",
   "metadata": {},
   "outputs": [],
   "source": [
    "l = [1,2,3,4]"
   ]
  },
  {
   "cell_type": "code",
   "execution_count": 6,
   "id": "8b6e02b3",
   "metadata": {},
   "outputs": [],
   "source": [
    "x1 = np.array(l)"
   ]
  },
  {
   "cell_type": "code",
   "execution_count": 4,
   "id": "bb2d805f",
   "metadata": {},
   "outputs": [],
   "source": [
    "l2 = [4,5,6,7]"
   ]
  },
  {
   "cell_type": "code",
   "execution_count": 7,
   "id": "1a864d36",
   "metadata": {},
   "outputs": [],
   "source": [
    "x2 = np.array(l2)"
   ]
  },
  {
   "cell_type": "code",
   "execution_count": 9,
   "id": "72aa378a",
   "metadata": {},
   "outputs": [
    {
     "data": {
      "text/plain": [
       "array([ 5,  7,  9, 11])"
      ]
     },
     "execution_count": 9,
     "metadata": {},
     "output_type": "execute_result"
    }
   ],
   "source": [
    "x1 + x2 # elementwise addition"
   ]
  },
  {
   "cell_type": "code",
   "execution_count": 10,
   "id": "236492bb",
   "metadata": {},
   "outputs": [
    {
     "name": "stdout",
     "output_type": "stream",
     "text": [
      "()\n",
      "(1,)\n",
      "(1, 1)\n",
      "(1, 1, 1)\n"
     ]
    }
   ],
   "source": [
    "print(np.array(3).shape)\n",
    "print(np.array([3]).shape)\n",
    "print(np.array([[3]]).shape)\n",
    "print(np.array([[[3]]]).shape)"
   ]
  },
  {
   "cell_type": "code",
   "execution_count": 11,
   "id": "3d391b3f",
   "metadata": {},
   "outputs": [
    {
     "name": "stdout",
     "output_type": "stream",
     "text": [
      "0.00796\n",
      "0.00033\n"
     ]
    }
   ],
   "source": [
    "import time as time\n",
    "\n",
    "x_list=[i for i in range(100000)]\n",
    "\n",
    "x=np.array(x_list)\n",
    "\n",
    "st=time.process_time()\n",
    "\n",
    "x_list=[i+10 for i in x_list]\n",
    "ed=time.process_time()\n",
    "\n",
    "\n",
    "print(round(ed-st,5))\n",
    "\n",
    "\n",
    "st=time.process_time()\n",
    "\n",
    "x+=10\n",
    "\n",
    "ed=time.process_time()\n",
    "\n",
    "print(round(ed-st,5))"
   ]
  },
  {
   "cell_type": "code",
   "execution_count": 13,
   "id": "f2097a1e",
   "metadata": {},
   "outputs": [
    {
     "name": "stdout",
     "output_type": "stream",
     "text": [
      "<class 'numpy.ndarray'>\n",
      "1 2 3 4\n",
      "[1 3 3 4]\n",
      "(4,)\n"
     ]
    }
   ],
   "source": [
    "x=np.array([1,2,3,4])\n",
    "\n",
    "\n",
    "print(type(x))\n",
    "\n",
    "\n",
    "print(x[0],x[1],x[2],x[3])\n",
    "\n",
    "\n",
    "x[1]=x[2]\n",
    "\n",
    "\n",
    "print(x)\n",
    "\n",
    "\n",
    "print(x.shape)"
   ]
  },
  {
   "cell_type": "code",
   "execution_count": 23,
   "id": "aafdf5ae",
   "metadata": {},
   "outputs": [
    {
     "name": "stdout",
     "output_type": "stream",
     "text": [
      "[[0.82672143 0.37589787 0.19540882 0.66782775]\n",
      " [0.52309343 0.91059971 0.71711256 0.58937829]\n",
      " [0.48436437 0.94334207 0.81011224 0.7689495 ]]\n"
     ]
    }
   ],
   "source": [
    "x=np.random.random((4,3))\n",
    "\n",
    "\n",
    "x.shape\n",
    "\n",
    "x2 = np.transpose(x)\n",
    "\n",
    "x2.shape\n",
    "\n",
    "print(x2)"
   ]
  },
  {
   "cell_type": "code",
   "execution_count": 30,
   "id": "ef2b866d",
   "metadata": {},
   "outputs": [
    {
     "name": "stdout",
     "output_type": "stream",
     "text": [
      "[[1 2 3 4]\n",
      " [4 5 6 7]]\n",
      "[[1 4]\n",
      " [2 5]\n",
      " [3 6]\n",
      " [4 7]]\n"
     ]
    }
   ],
   "source": [
    "x=np.array([[1,2,3,4],[4,5,6,7]])\n",
    "\n",
    "print(x)\n",
    "\n",
    "x2 = np.transpose(x)\n",
    "\n",
    "print(x2)"
   ]
  },
  {
   "cell_type": "code",
   "execution_count": null,
   "id": "5e375c80",
   "metadata": {},
   "outputs": [],
   "source": []
  }
 ],
 "metadata": {
  "kernelspec": {
   "display_name": "Summer_School",
   "language": "python",
   "name": "summer_school"
  },
  "language_info": {
   "codemirror_mode": {
    "name": "ipython",
    "version": 3
   },
   "file_extension": ".py",
   "mimetype": "text/x-python",
   "name": "python",
   "nbconvert_exporter": "python",
   "pygments_lexer": "ipython3",
   "version": "3.10.0"
  }
 },
 "nbformat": 4,
 "nbformat_minor": 5
}
