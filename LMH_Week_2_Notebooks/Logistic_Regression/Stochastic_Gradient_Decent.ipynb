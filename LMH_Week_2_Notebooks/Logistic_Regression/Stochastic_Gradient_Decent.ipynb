{
 "cells": [
  {
   "cell_type": "code",
   "execution_count": 2,
   "metadata": {},
   "outputs": [],
   "source": [
    "import numpy as np\n",
    "import matplotlib.pyplot as plt\n",
    "\n",
    "%matplotlib inline"
   ]
  },
  {
   "cell_type": "code",
   "execution_count": 3,
   "metadata": {},
   "outputs": [],
   "source": [
    "def plotClass(X,y,p):\n",
    "    for i in range(y.shape[1]):\n",
    "        if y[0,i]==0:\n",
    "            plt.plot(X[0,i],X[1,i],'r'+p)\n",
    "        else:\n",
    "            plt.plot(X[0,i],X[1,i],'b'+p)\n",
    "            "
   ]
  },
  {
   "cell_type": "code",
   "execution_count": 4,
   "metadata": {},
   "outputs": [
    {
     "name": "stdout",
     "output_type": "stream",
     "text": [
      "(2, 200)\n",
      "(1, 200)\n"
     ]
    },
    {
     "data": {
      "image/png": "[encoded data removed]",
      "text/plain": [
       "<Figure size 432x288 with 1 Axes>"
      ]
     },
     "metadata": {
      "needs_background": "light"
     },
     "output_type": "display_data"
    }
   ],
   "source": [
    "num_data=100 # data points per class\n",
    "\n",
    "x1=np.random.randn(2,num_data)+4\n",
    "x0=np.random.randn(2,num_data)\n",
    "\n",
    "y1=np.ones((1,num_data))\n",
    "y0=np.zeros((1,num_data))\n",
    "\n",
    "X=np.concatenate((x1,x0),axis=1)\n",
    "y=np.concatenate((y1,y0), axis=1)\n",
    "plotClass(X,y,'o')\n",
    "\n",
    "print(X.shape)\n",
    "print(y.shape)"
   ]
  },
  {
   "cell_type": "code",
   "execution_count": 8,
   "metadata": {},
   "outputs": [],
   "source": [
    "X = X.T\n",
    "y = y.T"
   ]
  },
  {
   "cell_type": "code",
   "execution_count": 34,
   "metadata": {},
   "outputs": [],
   "source": [
    "class StochasticGradientDecent:\n",
    "    def __init__(self,features,targets,cycles=15000,learning_rate=1e-5, batch_size=10, ) -> None:\n",
    "        self._features = features\n",
    "        self._targets = targets\n",
    "        self._cycles = cycles\n",
    "        self._weights = np.array([[1.1],[1.1]])\n",
    "        self._intercept = 0\n",
    "        self._learning_rate = learning_rate\n",
    "        self._batch_size = batch_size\n",
    "        self._X_batch = 0\n",
    "        self._Y_batch = 0\n",
    "        self._lossl = []\n",
    "\n",
    "\n",
    "    def shape_confirm(self):\n",
    "        print(\"features\")\n",
    "        print(self._features.shape)\n",
    "\n",
    "        print(\"targets\")\n",
    "        print(self._targets.shape)\n",
    "\n",
    "        print('weights')\n",
    "        print(self._weights.shape)\n",
    "\n",
    "\n",
    "\n",
    "\n",
    "    def mini_batch(self):\n",
    "        mini_batch = np.random.randint(0,X.shape[0],10)\n",
    "\n",
    "        batch_x = self._features[mini_batch,:]\n",
    "        batch_y = self._targets[mini_batch,:]\n",
    "\n",
    "        return batch_x, batch_y\n",
    "\n",
    "\n",
    "\n",
    "    def sgd(self):\n",
    "\n",
    "\n",
    "    \n",
    "\n",
    "\n",
    "\n",
    "\n",
    "    def yhat(self):\n",
    "        z = self.linear(self._weights,self._features,self._intercept)\n",
    "        self._yhat = self.sigmoid(z)\n",
    "\n",
    "        return self.sigmoid(z)    \n",
    "\n",
    "\n",
    "\n",
    "    def training(self):\n",
    "        lossl = []\n",
    "\n",
    "        for i in range(self._cycles):\n",
    "\n",
    "            # Forward Pass\n",
    "\n",
    "            z = self.linear(weights=self._weights,features=self._features,intercept=self._intercept)\n",
    "\n",
    "            yhat = self.sigmoid(z)\n",
    "\n",
    "            losses = self.loss(self._targets,yhat)\n",
    "    \n",
    "            lossl.append(losses)\n",
    "\n",
    "\n",
    "\n",
    "            # Backward Pass\n",
    "\n",
    "            djdz = yhat - self._targets\n",
    "            djdw = djdz.T @ self._features\n",
    "\n",
    "\n",
    "            ones = np.ones(self._features.shape[0])\n",
    "            ones = ones.reshape(-1,1)\n",
    "\n",
    "            djdb = djdz.T @ ones\n",
    "\n",
    "\n",
    "            # Update weights\n",
    "\n",
    "            x = self._learning_rate*djdw\n",
    "\n",
    "            self._weights -= self._learning_rate*djdw.T\n",
    "            self._intercept -= self._learning_rate*djdb.T\n",
    "\n",
    "\n",
    "    \n",
    "        return lossl, yhat     \n",
    "\n",
    "\n",
    "    @staticmethod\n",
    "    def plotClass(X,y,p):\n",
    "        \n",
    "        for i in range(y.shape[1]):\n",
    "            if y[0,i]==0:\n",
    "                plt.plot(X[0,i],X[1,i],'r'+p)\n",
    "            else:\n",
    "                plt.plot(X[0,i],X[1,i],'b'+p)\n",
    "            \n",
    "    \n",
    "    @staticmethod\n",
    "    def sigmoid(z):\n",
    "        return 1/(1 + np.exp(-z))\n",
    "    \n",
    "    @staticmethod\n",
    "    def linear(weights,features,intercept):\n",
    "        return features@weights + intercept\n",
    "\n",
    "    @staticmethod\n",
    "    def loss(y,yhat):\n",
    "        return np.sum(-y * np.log(yhat)-(1-y)*np.log(1-yhat),axis =0)"
   ]
  },
  {
   "cell_type": "code",
   "execution_count": 11,
   "metadata": {},
   "outputs": [],
   "source": [
    "Model = StochasticGradientDecent(X,y)\n",
    "out = Model.training()\n",
    "\n",
    "\n"
   ]
  },
  {
   "cell_type": "code",
   "execution_count": 12,
   "metadata": {},
   "outputs": [],
   "source": [
    "yhat = Model.yhat()"
   ]
  },
  {
   "cell_type": "code",
   "execution_count": 17,
   "metadata": {},
   "outputs": [
    {
     "data": {
      "text/plain": [
       "[<matplotlib.lines.Line2D at 0x132f66440>]"
      ]
     },
     "execution_count": 17,
     "metadata": {},
     "output_type": "execute_result"
    },
    {
     "data": {
      "image/png": "[encoded data removed]",
      "text/plain": [
       "<Figure size 432x288 with 2 Axes>"
      ]
     },
     "metadata": {
      "needs_background": "light"
     },
     "output_type": "display_data"
    },
    {
     "data": {
      "image/png": "[encoded data removed]",
      "text/plain": [
       "<Figure size 432x288 with 1 Axes>"
      ]
     },
     "metadata": {
      "needs_background": "light"
     },
     "output_type": "display_data"
    }
   ],
   "source": [
    "\n",
    "plt.figure()\n",
    "plt.subplot(121)\n",
    "plotClass(X.T,y.T,'o')\n",
    "plt.subplot(122)\n",
    "plotClass(X.T, yhat.T > 0.5,'x') \n",
    "        # x1 = np.reshape(np.linspace(-2,7,2),(-1,1)) # This I need to understand better.\n",
    "        # x2 = (- self._intercept - (self._weights[0,0]*x1))/self._weights[0,1]\n",
    "        # plt.plot(x1,x2)\n",
    "\n",
    "plt.figure()\n",
    "plt.plot(out[0])\n",
    "\n"
   ]
  },
  {
   "cell_type": "code",
   "execution_count": 50,
   "metadata": {},
   "outputs": [
    {
     "data": {
      "text/plain": [
       "(200, 1)"
      ]
     },
     "execution_count": 50,
     "metadata": {},
     "output_type": "execute_result"
    }
   ],
   "source": [
    "y.shape"
   ]
  },
  {
   "cell_type": "code",
   "execution_count": 51,
   "metadata": {},
   "outputs": [
    {
     "data": {
      "text/plain": [
       "(200, 1)"
      ]
     },
     "execution_count": 51,
     "metadata": {},
     "output_type": "execute_result"
    }
   ],
   "source": [
    "yhat.shape"
   ]
  },
  {
   "cell_type": "code",
   "execution_count": 56,
   "metadata": {},
   "outputs": [],
   "source": [
    "def loss(y,yhat):\n",
    "        return np.sum(-y * np.log(yhat)-(1-y)*np.log(1-yhat),axis =0)"
   ]
  },
  {
   "cell_type": "code",
   "execution_count": 57,
   "metadata": {},
   "outputs": [
    {
     "data": {
      "text/plain": [
       "array([19.59831781])"
      ]
     },
     "execution_count": 57,
     "metadata": {},
     "output_type": "execute_result"
    }
   ],
   "source": [
    "loss(y,yhat)"
   ]
  },
  {
   "cell_type": "code",
   "execution_count": 33,
   "metadata": {},
   "outputs": [
    {
     "data": {
      "text/plain": [
       "array([167,  65,  85, 189, 124, 178, 124,  55,  93, 138])"
      ]
     },
     "execution_count": 33,
     "metadata": {},
     "output_type": "execute_result"
    }
   ],
   "source": [
    "mini_batch = np.random.randint(0,X.shape[0],10)\n",
    "\n",
    "mini_batch"
   ]
  },
  {
   "cell_type": "code",
   "execution_count": 27,
   "metadata": {},
   "outputs": [
    {
     "data": {
      "text/plain": [
       "(200,)"
      ]
     },
     "execution_count": 27,
     "metadata": {},
     "output_type": "execute_result"
    }
   ],
   "source": [
    "X[:,1]"
   ]
  },
  {
   "cell_type": "code",
   "execution_count": 32,
   "metadata": {},
   "outputs": [
    {
     "data": {
      "text/plain": [
       "200"
      ]
     },
     "execution_count": 32,
     "metadata": {},
     "output_type": "execute_result"
    }
   ],
   "source": [
    "X.shape[0]"
   ]
  },
  {
   "cell_type": "code",
   "execution_count": null,
   "metadata": {},
   "outputs": [],
   "source": []
  }
 ],
 "metadata": {
  "kernelspec": {
   "display_name": "Summer_School",
   "language": "python",
   "name": "summer_school"
  },
  "language_info": {
   "codemirror_mode": {
    "name": "ipython",
    "version": 3
   },
   "file_extension": ".py",
   "mimetype": "text/x-python",
   "name": "python",
   "nbconvert_exporter": "python",
   "pygments_lexer": "ipython3",
   "version": "3.10.0"
  },
  "orig_nbformat": 4,
  "vscode": {
   "interpreter": {
    "hash": "d410fd81c9a0b51d0e53167c40a880776428168a003798fed6e3e9082ee009aa"
   }
  }
 },
 "nbformat": 4,
 "nbformat_minor": 2
}
